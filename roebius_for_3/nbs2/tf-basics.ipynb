{
 "cells": [
  {
   "cell_type": "code",
   "execution_count": 1,
   "metadata": {
    "ExecuteTime": {
     "end_time": "2017-09-20T09:53:55.634606Z",
     "start_time": "2017-09-20T09:53:45.339015Z"
    },
    "scrolled": false
   },
   "outputs": [
    {
     "name": "stderr",
     "output_type": "stream",
     "text": [
      "Using TensorFlow backend.\n",
      "/home/roebius/pj/p3/lib/python3.5/site-packages/sklearn/cross_validation.py:44: DeprecationWarning: This module was deprecated in version 0.18 in favor of the model_selection module into which all the refactored classes and functions are moved. Also note that the interface of the new CV iterators are different from that of this module. This module will be removed in 0.20.\n",
      "  \"This module will be removed in 0.20.\", DeprecationWarning)\n"
     ]
    }
   ],
   "source": [
    "%matplotlib inline\n",
    "import importlib\n",
    "import utils2; importlib.reload(utils2)\n",
    "from utils2 import *"
   ]
  },
  {
   "cell_type": "code",
   "execution_count": 2,
   "metadata": {
    "ExecuteTime": {
     "end_time": "2017-09-20T09:53:56.004916Z",
     "start_time": "2017-09-20T09:53:55.635990Z"
    },
    "collapsed": true
   },
   "outputs": [],
   "source": [
    "cfg = tf.ConfigProto()\n",
    "cfg.gpu_options.allow_growth = True\n",
    "sess = tf.Session(config=cfg)"
   ]
  },
  {
   "cell_type": "code",
   "execution_count": 3,
   "metadata": {
    "ExecuteTime": {
     "end_time": "2017-09-20T09:53:56.224456Z",
     "start_time": "2017-09-20T09:53:56.006484Z"
    }
   },
   "outputs": [
    {
     "name": "stdout",
     "output_type": "stream",
     "text": [
      "9.0\n"
     ]
    }
   ],
   "source": [
    "a = tf.placeholder(\"float\")\n",
    "b = tf.placeholder(\"float\")\n",
    "y = tf.multiply(a, b)\n",
    "\n",
    "print (sess.run(y, feed_dict={a: 3, b: 3}))"
   ]
  },
  {
   "cell_type": "markdown",
   "metadata": {},
   "source": [
    "## Simple regression"
   ]
  },
  {
   "cell_type": "code",
   "execution_count": 4,
   "metadata": {
    "ExecuteTime": {
     "end_time": "2017-09-20T09:53:57.326972Z",
     "start_time": "2017-09-20T09:53:57.320887Z"
    },
    "collapsed": true
   },
   "outputs": [],
   "source": [
    "num_points = 1000\n",
    "x_data= np.random.normal(0.0, 0.55, (num_points,))\n",
    "y_data= x_data * 0.1 + 0.3 + np.random.normal(0.0, 0.03, (num_points,))"
   ]
  },
  {
   "cell_type": "code",
   "execution_count": 5,
   "metadata": {
    "ExecuteTime": {
     "end_time": "2017-09-20T09:53:57.750668Z",
     "start_time": "2017-09-20T09:53:57.569595Z"
    }
   },
   "outputs": [
    {
     "data": {
      "image/png": "[encoded data removed]",
      "text/plain": [
       "<matplotlib.figure.Figure at 0x7fb19b058a58>"
      ]
     },
     "metadata": {},
     "output_type": "display_data"
    }
   ],
   "source": [
    "plt.scatter(x_data, y_data);"
   ]
  },
  {
   "cell_type": "code",
   "execution_count": 6,
   "metadata": {
    "ExecuteTime": {
     "end_time": "2017-09-20T09:53:57.927163Z",
     "start_time": "2017-09-20T09:53:57.857787Z"
    },
    "collapsed": true
   },
   "outputs": [],
   "source": [
    "# - Adapted from the original code in order to have a working example \n",
    "x = tf.placeholder(\"float32\")\n",
    "y = tf.placeholder(\"float32\")\n",
    "W = tf.Variable(np.random.randn())\n",
    "b = tf.Variable(np.random.randn())\n",
    "y_pred = tf.add(tf.multiply(x, W), b)\n",
    "\n",
    "loss = tf.reduce_mean(tf.square(y_pred - y))\n",
    "optimizer = tf.train.GradientDescentOptimizer(0.5)\n",
    "train = optimizer.minimize(loss)"
   ]
  },
  {
   "cell_type": "code",
   "execution_count": 7,
   "metadata": {
    "ExecuteTime": {
     "end_time": "2017-09-20T09:53:58.253515Z",
     "start_time": "2017-09-20T09:53:58.249130Z"
    },
    "collapsed": true
   },
   "outputs": [],
   "source": [
    "init = tf.global_variables_initializer()"
   ]
  },
  {
   "cell_type": "code",
   "execution_count": 8,
   "metadata": {
    "ExecuteTime": {
     "end_time": "2017-09-20T09:53:58.640042Z",
     "start_time": "2017-09-20T09:53:58.633511Z"
    },
    "collapsed": true
   },
   "outputs": [],
   "source": [
    "sess = tf.InteractiveSession(config=cfg)"
   ]
  },
  {
   "cell_type": "code",
   "execution_count": 9,
   "metadata": {
    "ExecuteTime": {
     "end_time": "2017-09-20T09:53:59.047052Z",
     "start_time": "2017-09-20T09:53:58.993767Z"
    }
   },
   "outputs": [
    {
     "name": "stdout",
     "output_type": "stream",
     "text": [
      "0 -0.366857 0.284109\n",
      "1 -0.213791 0.289958\n",
      "2 -0.110859 0.293872\n",
      "3 -0.0416396 0.296505\n",
      "4 0.00490802 0.298275\n",
      "5 0.0362099 0.299466\n",
      "6 0.0572594 0.300266\n",
      "7 0.0714145 0.300805\n"
     ]
    }
   ],
   "source": [
    "init.run()\n",
    "for step in range(8):\n",
    "    train.run(feed_dict = {x:x_data, y:y_data}, session=sess)\n",
    "    print (step, W.eval(), b.eval())"
   ]
  },
  {
   "cell_type": "code",
   "execution_count": 10,
   "metadata": {
    "ExecuteTime": {
     "end_time": "2017-09-20T09:53:59.525107Z",
     "start_time": "2017-09-20T09:53:59.353776Z"
    },
    "scrolled": true
   },
   "outputs": [
    {
     "data": {
      "image/png": "[encoded data removed]",
      "text/plain": [
       "<matplotlib.figure.Figure at 0x7fb13c767e48>"
      ]
     },
     "metadata": {},
     "output_type": "display_data"
    }
   ],
   "source": [
    "plt.scatter(x_data, y_data)\n",
    "plt.plot(x_data, W.eval() * x_data + b.eval());"
   ]
  },
  {
   "cell_type": "markdown",
   "metadata": {},
   "source": [
    "## Variable scope"
   ]
  },
  {
   "cell_type": "code",
   "execution_count": 11,
   "metadata": {
    "ExecuteTime": {
     "end_time": "2017-09-20T09:54:00.349316Z",
     "start_time": "2017-09-20T09:54:00.345640Z"
    },
    "collapsed": true
   },
   "outputs": [],
   "source": [
    "tf.reset_default_graph()"
   ]
  },
  {
   "cell_type": "code",
   "execution_count": 12,
   "metadata": {
    "ExecuteTime": {
     "end_time": "2017-09-20T09:54:00.752587Z",
     "start_time": "2017-09-20T09:54:00.736953Z"
    }
   },
   "outputs": [
    {
     "data": {
      "text/plain": [
       "'foo/v:0'"
      ]
     },
     "execution_count": 12,
     "metadata": {},
     "output_type": "execute_result"
    }
   ],
   "source": [
    "with tf.variable_scope(\"foo\"):\n",
    "    v = tf.get_variable(\"v\", [2,3])\n",
    "v.name"
   ]
  },
  {
   "cell_type": "code",
   "execution_count": 13,
   "metadata": {
    "ExecuteTime": {
     "end_time": "2017-09-20T09:54:01.099264Z",
     "start_time": "2017-09-20T09:54:01.095282Z"
    }
   },
   "outputs": [
    {
     "data": {
      "text/plain": [
       "TensorShape([Dimension(2), Dimension(3)])"
      ]
     },
     "execution_count": 13,
     "metadata": {},
     "output_type": "execute_result"
    }
   ],
   "source": [
    "v.get_shape()"
   ]
  },
  {
   "cell_type": "code",
   "execution_count": 14,
   "metadata": {
    "ExecuteTime": {
     "end_time": "2017-09-20T09:54:01.454601Z",
     "start_time": "2017-09-20T09:54:01.449556Z"
    },
    "collapsed": true
   },
   "outputs": [],
   "source": [
    "with tf.variable_scope(\"foo\", reuse=True):\n",
    " v1 = tf.get_variable(\"v\", [2,3])"
   ]
  },
  {
   "cell_type": "code",
   "execution_count": 15,
   "metadata": {
    "ExecuteTime": {
     "end_time": "2017-09-20T09:54:01.796902Z",
     "start_time": "2017-09-20T09:54:01.792110Z"
    }
   },
   "outputs": [
    {
     "data": {
      "text/plain": [
       "True"
      ]
     },
     "execution_count": 15,
     "metadata": {},
     "output_type": "execute_result"
    }
   ],
   "source": [
    "v1==v"
   ]
  },
  {
   "cell_type": "code",
   "execution_count": 16,
   "metadata": {
    "ExecuteTime": {
     "end_time": "2017-09-20T09:54:02.136448Z",
     "start_time": "2017-09-20T09:54:02.121311Z"
    },
    "collapsed": true
   },
   "outputs": [],
   "source": [
    "v2 = tf.get_variable(\"v2\", [1])"
   ]
  },
  {
   "cell_type": "code",
   "execution_count": 17,
   "metadata": {
    "ExecuteTime": {
     "end_time": "2017-09-20T09:54:02.430847Z",
     "start_time": "2017-09-20T09:54:02.425293Z"
    }
   },
   "outputs": [
    {
     "data": {
      "text/plain": [
       "'v2:0'"
      ]
     },
     "execution_count": 17,
     "metadata": {},
     "output_type": "execute_result"
    }
   ],
   "source": [
    "v2.name"
   ]
  },
  {
   "cell_type": "markdown",
   "metadata": {},
   "source": [
    "## K-means clustering"
   ]
  },
  {
   "cell_type": "code",
   "execution_count": 18,
   "metadata": {
    "ExecuteTime": {
     "end_time": "2017-09-20T09:54:03.795982Z",
     "start_time": "2017-09-20T09:54:03.777341Z"
    },
    "collapsed": true
   },
   "outputs": [],
   "source": [
    "def plot_data(data, centroids):\n",
    "    colour = plt.cm.rainbow(np.linspace(0,1,len(centroids)))\n",
    "    for i, centroid in enumerate(centroids):\n",
    "        samples = data[i*n_samples:(i+1)*n_samples]\n",
    "        plt.scatter(samples[:,0], samples[:,1], c=colour[i])\n",
    "        plt.plot(centroid[0], centroid[1], markersize=15, marker=\"x\", color='k', mew=10)\n",
    "        plt.plot(centroid[0], centroid[1], markersize=10, marker=\"x\", color='m', mew=5)\n",
    "    plt.show()"
   ]
  },
  {
   "cell_type": "code",
   "execution_count": 19,
   "metadata": {
    "ExecuteTime": {
     "end_time": "2017-09-20T09:54:04.264905Z",
     "start_time": "2017-09-20T09:54:04.249969Z"
    },
    "collapsed": true
   },
   "outputs": [],
   "source": [
    "n_clusters=10\n",
    "n_samples =250\n",
    "centroids = np.random.uniform(-35, 35, (n_clusters, 2))\n",
    "slices = [np.random.multivariate_normal(centroids[i], np.diag([5., 5.]), n_samples)\n",
    "           for i in range(n_clusters)]\n",
    "data = np.concatenate(slices).astype(np.float32)"
   ]
  },
  {
   "cell_type": "code",
   "execution_count": 20,
   "metadata": {
    "ExecuteTime": {
     "end_time": "2017-09-20T09:54:05.847458Z",
     "start_time": "2017-09-20T09:54:05.601534Z"
    }
   },
   "outputs": [
    {
     "data": {
      "image/png": "[encoded data removed]",
      "text/plain": [
       "<matplotlib.figure.Figure at 0x7fb13c66c358>"
      ]
     },
     "metadata": {},
     "output_type": "display_data"
    }
   ],
   "source": [
    "plot_data(data, centroids)"
   ]
  },
  {
   "cell_type": "code",
   "execution_count": 21,
   "metadata": {
    "ExecuteTime": {
     "end_time": "2017-09-20T09:54:06.128907Z",
     "start_time": "2017-09-20T09:54:06.104320Z"
    },
    "collapsed": true
   },
   "outputs": [],
   "source": [
    "# Numpy Version\n",
    "def find_initial_centroids_numpy(data, k):\n",
    "    r_index = np.random.randint(data.shape[0])\n",
    "    r = data[r_index, :][np.newaxis]\n",
    "    initial_centroids = []\n",
    "    for i in range(k):\n",
    "        diff = data - np.expand_dims(r,1)\n",
    "        dist = np.linalg.norm(diff, axis=2)  # 100x2  5x2 --> 100x5x2 --> 100x5\n",
    "        farthest_index = np.argmax(np.min(dist, axis=0))\n",
    "        farthest_point = data[farthest_index]\n",
    "        initial_centroids.append(farthest_point)\n",
    "        r = np.array(initial_centroids)\n",
    "    return r"
   ]
  },
  {
   "cell_type": "code",
   "execution_count": 22,
   "metadata": {
    "ExecuteTime": {
     "end_time": "2017-09-20T09:54:08.464059Z",
     "start_time": "2017-09-20T09:54:08.433406Z"
    },
    "collapsed": true
   },
   "outputs": [],
   "source": [
    "def find_initial_centroids(data, k):\n",
    "    r_index = tf.random_uniform([1], 0, tf.shape(data)[0], dtype=tf.int32)\n",
    "    r = tf.expand_dims(data[tf.squeeze(r_index)], dim=1)\n",
    "    initial_centroids = []\n",
    "    for i in range(k):\n",
    "        diff = tf.squared_difference(tf.expand_dims(data, 0), tf.expand_dims(r,1))\n",
    "        dist = tf.reduce_sum(diff, axis=2)\n",
    "        farthest_index = tf.argmax(tf.reduce_min(dist, axis=0), 0)\n",
    "        farthest_point = data[tf.to_int32(farthest_index)]\n",
    "        initial_centroids.append(farthest_point)\n",
    "#         r = tf.pack(initial_centroids)  # - tf.pack obsolete \n",
    "        r = tf.stack(initial_centroids)\n",
    "    return r"
   ]
  },
  {
   "cell_type": "code",
   "execution_count": 23,
   "metadata": {
    "ExecuteTime": {
     "end_time": "2017-09-20T09:54:08.974051Z",
     "start_time": "2017-09-20T09:54:08.968984Z"
    },
    "collapsed": true
   },
   "outputs": [],
   "source": [
    "samples = tf.placeholder(tf.float32, (None, None))"
   ]
  },
  {
   "cell_type": "code",
   "execution_count": 24,
   "metadata": {
    "ExecuteTime": {
     "end_time": "2017-09-20T09:54:09.573810Z",
     "start_time": "2017-09-20T09:54:09.554310Z"
    },
    "collapsed": true
   },
   "outputs": [],
   "source": [
    "# - added this cell to initialize the graph\n",
    "sess = tf.InteractiveSession()\n",
    "tf.global_variables_initializer().run()"
   ]
  },
  {
   "cell_type": "code",
   "execution_count": 25,
   "metadata": {
    "ExecuteTime": {
     "end_time": "2017-09-20T09:54:10.260096Z",
     "start_time": "2017-09-20T09:54:10.001618Z"
    },
    "collapsed": true
   },
   "outputs": [],
   "source": [
    "initial_centroids = find_initial_centroids(samples, n_clusters).eval({samples: data})"
   ]
  },
  {
   "cell_type": "code",
   "execution_count": 26,
   "metadata": {
    "ExecuteTime": {
     "end_time": "2017-09-20T09:54:10.619441Z",
     "start_time": "2017-09-20T09:54:10.338568Z"
    }
   },
   "outputs": [
    {
     "data": {
      "image/png": "[encoded data removed]",
      "text/plain": [
       "<matplotlib.figure.Figure at 0x7fb13476ff60>"
      ]
     },
     "metadata": {},
     "output_type": "display_data"
    }
   ],
   "source": [
    "plot_data(data, initial_centroids)"
   ]
  },
  {
   "cell_type": "code",
   "execution_count": 27,
   "metadata": {
    "ExecuteTime": {
     "end_time": "2017-09-20T09:54:10.850702Z",
     "start_time": "2017-09-20T09:54:10.840587Z"
    },
    "collapsed": true
   },
   "outputs": [],
   "source": [
    "initial_centroids = find_initial_centroids_numpy(data, n_clusters)"
   ]
  },
  {
   "cell_type": "code",
   "execution_count": 28,
   "metadata": {
    "ExecuteTime": {
     "end_time": "2017-09-20T09:54:12.869443Z",
     "start_time": "2017-09-20T09:54:12.601460Z"
    }
   },
   "outputs": [
    {
     "data": {
      "image/png": "[encoded data removed]",
      "text/plain": [
       "<matplotlib.figure.Figure at 0x7fb13473bdd8>"
      ]
     },
     "metadata": {},
     "output_type": "display_data"
    }
   ],
   "source": [
    "plot_data(data, initial_centroids)"
   ]
  },
  {
   "cell_type": "code",
   "execution_count": 29,
   "metadata": {
    "ExecuteTime": {
     "end_time": "2017-09-20T09:54:13.061073Z",
     "start_time": "2017-09-20T09:54:13.056181Z"
    },
    "collapsed": true
   },
   "outputs": [],
   "source": [
    "def choose_random_centroids(samples, n_clusters):\n",
    "    n_samples = tf.shape(samples)[0]\n",
    "    random_indices = tf.random_shuffle(tf.range(0, n_samples))\n",
    "    centroid_indices = random_indices[:n_clusters]\n",
    "    return tf.gather(samples, centroid_indices)"
   ]
  },
  {
   "cell_type": "code",
   "execution_count": 30,
   "metadata": {
    "ExecuteTime": {
     "end_time": "2017-09-20T09:54:13.663881Z",
     "start_time": "2017-09-20T09:54:13.657248Z"
    },
    "collapsed": true
   },
   "outputs": [],
   "source": [
    "def assign_to_nearest(samples, centroids):\n",
    "    dim_dists = tf.squared_difference(tf.expand_dims(samples, 0), tf.expand_dims(centroids, 1))\n",
    "    return tf.argmin(tf.reduce_sum(dim_dists , 2), 0)"
   ]
  },
  {
   "cell_type": "code",
   "execution_count": 31,
   "metadata": {
    "ExecuteTime": {
     "end_time": "2017-09-20T09:54:16.130993Z",
     "start_time": "2017-09-20T09:54:16.121536Z"
    },
    "collapsed": true
   },
   "outputs": [],
   "source": [
    "def update_centroids(samples, nearest_indices, n_clusters):\n",
    "    partitions = tf.dynamic_partition(samples, tf.to_int32(nearest_indices), n_clusters)\n",
    "#     return tf.concat(0, [tf.expand_dims(tf.reduce_mean(partition, 0), 0) \n",
    "#                                   for partition in partitions])\n",
    "    return tf.concat([tf.expand_dims(tf.reduce_mean(partition, 0), 0)  # tf.concat(values, axis) \n",
    "                                  for partition in partitions], 0)"
   ]
  },
  {
   "cell_type": "code",
   "execution_count": 32,
   "metadata": {
    "ExecuteTime": {
     "end_time": "2017-09-20T09:54:16.828388Z",
     "start_time": "2017-09-20T09:54:16.793671Z"
    },
    "collapsed": true
   },
   "outputs": [],
   "source": [
    "initial_centroids = choose_random_centroids(samples, n_clusters).eval({samples: data})"
   ]
  },
  {
   "cell_type": "code",
   "execution_count": 33,
   "metadata": {
    "ExecuteTime": {
     "end_time": "2017-09-20T09:54:17.240563Z",
     "start_time": "2017-09-20T09:54:17.232748Z"
    },
    "collapsed": true
   },
   "outputs": [],
   "source": [
    "curr_centroids = tf.Variable(initial_centroids)"
   ]
  },
  {
   "cell_type": "code",
   "execution_count": 34,
   "metadata": {
    "ExecuteTime": {
     "end_time": "2017-09-20T09:54:17.736078Z",
     "start_time": "2017-09-20T09:54:17.681081Z"
    },
    "collapsed": true
   },
   "outputs": [],
   "source": [
    "nearest_indices = assign_to_nearest(samples, curr_centroids)\n",
    "updated_centroids = update_centroids(samples, nearest_indices, n_clusters)"
   ]
  },
  {
   "cell_type": "code",
   "execution_count": 35,
   "metadata": {
    "ExecuteTime": {
     "end_time": "2017-09-20T09:54:18.084037Z",
     "start_time": "2017-09-20T09:54:18.065515Z"
    },
    "collapsed": true
   },
   "outputs": [],
   "source": [
    "tf.global_variables_initializer().run()"
   ]
  },
  {
   "cell_type": "code",
   "execution_count": 36,
   "metadata": {
    "ExecuteTime": {
     "end_time": "2017-09-20T09:54:18.738485Z",
     "start_time": "2017-09-20T09:54:18.569219Z"
    },
    "collapsed": true,
    "scrolled": true
   },
   "outputs": [],
   "source": [
    "c = initial_centroids\n",
    "for i in range(10):\n",
    "    #TODO animate\n",
    "    c2 = curr_centroids.assign(updated_centroids).eval({samples: data})\n",
    "    if np.allclose(c,c2):\n",
    "        break\n",
    "    c=c2"
   ]
  },
  {
   "cell_type": "code",
   "execution_count": 37,
   "metadata": {
    "ExecuteTime": {
     "end_time": "2017-09-20T09:54:19.813188Z",
     "start_time": "2017-09-20T09:54:19.536724Z"
    }
   },
   "outputs": [
    {
     "data": {
      "image/png": "[encoded data removed]",
      "text/plain": [
       "<matplotlib.figure.Figure at 0x7fb12c7ef7f0>"
      ]
     },
     "metadata": {},
     "output_type": "display_data"
    }
   ],
   "source": [
    "plot_data(data, curr_centroids.eval())"
   ]
  },
  {
   "cell_type": "markdown",
   "metadata": {},
   "source": [
    "## Tf->Keras LR (# - working?)"
   ]
  },
  {
   "cell_type": "code",
   "execution_count": 38,
   "metadata": {
    "ExecuteTime": {
     "end_time": "2017-09-20T09:54:24.352557Z",
     "start_time": "2017-09-20T09:54:24.315530Z"
    },
    "collapsed": true
   },
   "outputs": [],
   "source": [
    "# - Original (Keras 1)\n",
    "# class LinRegr(Layer):\n",
    "#     def __init__(self, **kwargs):\n",
    "#         super(LinRegr, self).__init__(**kwargs)\n",
    "\n",
    "#     def build(self, input_shape):\n",
    "#         input_dims = input_shape[1:]\n",
    "#         self.W = tf.Variable(tf.random_uniform([1], -1.0, 1.0))\n",
    "#         self.b = tf.Variable(tf.zeros([1]))\n",
    "#         self.built = True\n",
    "\n",
    "#     def call(self, x, mask=None):\n",
    "#         return self.W * x + self.b\n",
    "    \n",
    "#     def get_output_shape_for(self, input_shape):\n",
    "#         return input_shape\n",
    "\n",
    "# - Keras 2\n",
    "class LinRegr(Layer):\n",
    "    def __init__(self, **kwargs):\n",
    "        super(LinRegr, self).__init__(**kwargs)\n",
    "\n",
    "    def build(self, input_shape):\n",
    "        input_dims = input_shape[1:]\n",
    "        self.W = tf.Variable(tf.random_uniform([1], -1.0, 1.0))\n",
    "        self.b = tf.Variable(tf.zeros([1]))\n",
    "        self.trainable_weights=[self.W, self.b]  # - Without this line there would be no trainable parameters\n",
    "        super(LinRegr, self).build(input_shape)  # - Could be just \"self.built = True\" \n",
    "\n",
    "    def call(self, x, mask=None):\n",
    "        return self.W * x + self.b\n",
    "    \n",
    "    def compute_output_shape(self, input_shape):\n",
    "        return input_shape"
   ]
  },
  {
   "cell_type": "code",
   "execution_count": 39,
   "metadata": {
    "ExecuteTime": {
     "end_time": "2017-09-20T09:54:44.447105Z",
     "start_time": "2017-09-20T09:54:44.425347Z"
    },
    "collapsed": true
   },
   "outputs": [],
   "source": [
    "inp = Input((1,))\n",
    "res = LinRegr()(inp)"
   ]
  },
  {
   "cell_type": "code",
   "execution_count": 40,
   "metadata": {
    "ExecuteTime": {
     "end_time": "2017-09-20T09:54:44.973300Z",
     "start_time": "2017-09-20T09:54:44.969445Z"
    },
    "collapsed": true
   },
   "outputs": [],
   "source": [
    "model = Model(inp, res)"
   ]
  },
  {
   "cell_type": "code",
   "execution_count": 41,
   "metadata": {
    "ExecuteTime": {
     "end_time": "2017-09-20T09:54:45.430548Z",
     "start_time": "2017-09-20T09:54:45.393061Z"
    },
    "collapsed": true
   },
   "outputs": [],
   "source": [
    "model.compile('adam', 'mse')"
   ]
  },
  {
   "cell_type": "code",
   "execution_count": 42,
   "metadata": {
    "ExecuteTime": {
     "end_time": "2017-09-20T09:54:46.401140Z",
     "start_time": "2017-09-20T09:54:45.745449Z"
    },
    "scrolled": true
   },
   "outputs": [
    {
     "name": "stdout",
     "output_type": "stream",
     "text": [
      "Epoch 1/10\n",
      "0s - loss: 0.2806\n",
      "Epoch 2/10\n",
      "0s - loss: 0.2479\n",
      "Epoch 3/10\n",
      "0s - loss: 0.2186\n",
      "Epoch 4/10\n",
      "0s - loss: 0.1925\n",
      "Epoch 5/10\n",
      "0s - loss: 0.1700\n",
      "Epoch 6/10\n",
      "0s - loss: 0.1500\n",
      "Epoch 7/10\n",
      "0s - loss: 0.1327\n",
      "Epoch 8/10\n",
      "0s - loss: 0.1172\n",
      "Epoch 9/10\n",
      "0s - loss: 0.1037\n",
      "Epoch 10/10\n",
      "0s - loss: 0.0917\n"
     ]
    },
    {
     "data": {
      "text/plain": [
       "<keras.callbacks.History at 0x7fb0fc73bfd0>"
      ]
     },
     "execution_count": 42,
     "metadata": {},
     "output_type": "execute_result"
    }
   ],
   "source": [
    "model.fit(x_data, y_data, verbose=2, epochs=10)"
   ]
  },
  {
   "cell_type": "code",
   "execution_count": null,
   "metadata": {
    "collapsed": true
   },
   "outputs": [],
   "source": []
  }
 ],
 "metadata": {
  "anaconda-cloud": {},
  "kernelspec": {
   "display_name": "p3",
   "language": "python",
   "name": "p3"
  },
  "language_info": {
   "codemirror_mode": {
    "name": "ipython",
    "version": 3
   },
   "file_extension": ".py",
   "mimetype": "text/x-python",
   "name": "python",
   "nbconvert_exporter": "python",
   "pygments_lexer": "ipython3",
   "version": "3.5.2"
  },
  "toc": {
   "colors": {
    "hover_highlight": "#DAA520",
    "navigate_num": "#000000",
    "navigate_text": "#333333",
    "running_highlight": "#FF0000",
    "selected_highlight": "#FFD700",
    "sidebar_border": "#EEEEEE",
    "wrapper_background": "#FFFFFF"
   },
   "moveMenuLeft": true,
   "nav_menu": {
    "height": "84px",
    "width": "252px"
   },
   "navigate_menu": true,
   "number_sections": true,
   "sideBar": true,
   "threshold": 4,
   "toc_cell": false,
   "toc_section_display": "block",
   "toc_window_display": false,
   "widenNotebook": false
  }
 },
 "nbformat": 4,
 "nbformat_minor": 2
}
