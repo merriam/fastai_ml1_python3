{
 "cells": [
  {
   "cell_type": "code",
   "execution_count": 1,
   "metadata": {
    "ExecuteTime": {
     "end_time": "2017-08-30T20:08:36.386469Z",
     "start_time": "2017-08-30T20:08:36.360039Z"
    }
   },
   "outputs": [
    {
     "ename": "ImportError",
     "evalue": "No module named 'bcolz_array_iterator2'",
     "output_type": "error",
     "traceback": [
      "\u001b[0;31m---------------------------------------------------------------------------\u001b[0m",
      "\u001b[0;31mImportError\u001b[0m                               Traceback (most recent call last)",
      "\u001b[0;32m<ipython-input-1-20250359819d>\u001b[0m in \u001b[0;36m<module>\u001b[0;34m()\u001b[0m\n\u001b[0;32m----> 1\u001b[0;31m \u001b[0;32mfrom\u001b[0m \u001b[0mbcolz_array_iterator2\u001b[0m \u001b[0;32mimport\u001b[0m \u001b[0mBcolzArrayIterator2\u001b[0m\u001b[0;34m\u001b[0m\u001b[0m\n\u001b[0m",
      "\u001b[0;31mImportError\u001b[0m: No module named 'bcolz_array_iterator2'"
     ]
    }
   ],
   "source": [
    "from bcolz_array_iterator2 import BcolzArrayIterator2 "
   ]
  },
  {
   "cell_type": "code",
   "execution_count": 2,
   "metadata": {
    "collapsed": true
   },
   "outputs": [],
   "source": [
    "from bcolz import carray"
   ]
  },
  {
   "cell_type": "code",
   "execution_count": 3,
   "metadata": {
    "collapsed": true
   },
   "outputs": [],
   "source": [
    "import numpy as np"
   ]
  },
  {
   "cell_type": "code",
   "execution_count": 4,
   "metadata": {},
   "outputs": [
    {
     "data": {
      "text/plain": [
       "array([ 0,  1,  2,  3,  4,  5,  6,  7,  8,  9, 10, 11, 12, 13])"
      ]
     },
     "execution_count": 4,
     "metadata": {},
     "output_type": "execute_result"
    }
   ],
   "source": [
    "x = np.arange(14); x"
   ]
  },
  {
   "cell_type": "code",
   "execution_count": 5,
   "metadata": {},
   "outputs": [
    {
     "data": {
      "text/plain": [
       "array([ 0,  1,  2,  3,  4,  5,  6,  7,  8,  9, 10, 11, 12, 13])"
      ]
     },
     "execution_count": 5,
     "metadata": {},
     "output_type": "execute_result"
    }
   ],
   "source": [
    "y = np.arange(14); y"
   ]
  },
  {
   "cell_type": "code",
   "execution_count": 16,
   "metadata": {
    "collapsed": true
   },
   "outputs": [],
   "source": [
    "x = carray(x, chunklen=3)\n",
    "y = carray(y, chunklen=3)"
   ]
  },
  {
   "cell_type": "code",
   "execution_count": 17,
   "metadata": {},
   "outputs": [],
   "source": [
    "b = BcolzArrayIterator2(x, y, shuffle=True, batch_size=3)"
   ]
  },
  {
   "cell_type": "code",
   "execution_count": 18,
   "metadata": {},
   "outputs": [
    {
     "data": {
      "text/plain": [
       "14"
      ]
     },
     "execution_count": 18,
     "metadata": {},
     "output_type": "execute_result"
    }
   ],
   "source": [
    "b.N"
   ]
  },
  {
   "cell_type": "code",
   "execution_count": 19,
   "metadata": {},
   "outputs": [
    {
     "data": {
      "text/plain": [
       "5"
      ]
     },
     "execution_count": 19,
     "metadata": {},
     "output_type": "execute_result"
    }
   ],
   "source": [
    "nit = len(x)//b.batch_size+1; nit"
   ]
  },
  {
   "cell_type": "code",
   "execution_count": 20,
   "metadata": {},
   "outputs": [],
   "source": [
    "for j in range(10000):\n",
    "    bx,by = list(zip(*[next(b) for i in range(nit)]))\n",
    "    nx = np.concatenate(bx)\n",
    "    ny = np.concatenate(by)\n",
    "    assert(np.allclose(nx,ny))\n",
    "    assert(len(np.unique(nx))==len(nx))"
   ]
  },
  {
   "cell_type": "code",
   "execution_count": 21,
   "metadata": {},
   "outputs": [
    {
     "data": {
      "text/plain": [
       "[(array([ 9, 10, 11]), array([ 9, 10, 11])),\n",
       " (array([6, 7, 8]), array([6, 7, 8])),\n",
       " (array([0, 1, 2]), array([0, 1, 2])),\n",
       " (array([12, 13]), array([12, 13])),\n",
       " (array([3, 4, 5]), array([3, 4, 5])),\n",
       " (array([ 9, 10, 11]), array([ 9, 10, 11])),\n",
       " (array([0, 1, 2]), array([0, 1, 2])),\n",
       " (array([3, 4, 5]), array([3, 4, 5])),\n",
       " (array([6, 7, 8]), array([6, 7, 8])),\n",
       " (array([12, 13]), array([12, 13])),\n",
       " (array([12, 13]), array([12, 13])),\n",
       " (array([6, 7, 8]), array([6, 7, 8])),\n",
       " (array([3, 4, 5]), array([3, 4, 5])),\n",
       " (array([0, 1, 2]), array([0, 1, 2])),\n",
       " (array([ 9, 10, 11]), array([ 9, 10, 11])),\n",
       " (array([3, 4, 5]), array([3, 4, 5])),\n",
       " (array([6, 7, 8]), array([6, 7, 8])),\n",
       " (array([ 9, 10, 11]), array([ 9, 10, 11])),\n",
       " (array([12, 13]), array([12, 13])),\n",
       " (array([0, 1, 2]), array([0, 1, 2]))]"
      ]
     },
     "execution_count": 21,
     "metadata": {},
     "output_type": "execute_result"
    }
   ],
   "source": [
    "[next(b) for i in range(20)]"
   ]
  },
  {
   "cell_type": "code",
   "execution_count": null,
   "metadata": {
    "collapsed": true
   },
   "outputs": [],
   "source": []
  }
 ],
 "metadata": {
  "kernelspec": {
   "display_name": "p3",
   "language": "python",
   "name": "p3"
  },
  "language_info": {
   "codemirror_mode": {
    "name": "ipython",
    "version": 3
   },
   "file_extension": ".py",
   "mimetype": "text/x-python",
   "name": "python",
   "nbconvert_exporter": "python",
   "pygments_lexer": "ipython3",
   "version": "3.5.2"
  },
  "toc": {
   "colors": {
    "hover_highlight": "#DAA520",
    "navigate_num": "#000000",
    "navigate_text": "#333333",
    "running_highlight": "#FF0000",
    "selected_highlight": "#FFD700",
    "sidebar_border": "#EEEEEE",
    "wrapper_background": "#FFFFFF"
   },
   "moveMenuLeft": true,
   "nav_menu": {
    "height": "12px",
    "width": "252px"
   },
   "navigate_menu": true,
   "number_sections": true,
   "sideBar": true,
   "threshold": 4,
   "toc_cell": false,
   "toc_section_display": "block",
   "toc_window_display": false,
   "widenNotebook": false
  }
 },
 "nbformat": 4,
 "nbformat_minor": 2
}
