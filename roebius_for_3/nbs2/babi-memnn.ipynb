{
 "cells": [
  {
   "cell_type": "markdown",
   "metadata": {},
   "source": [
    "# Babi End to End MemNN"
   ]
  },
  {
   "cell_type": "code",
   "execution_count": 1,
   "metadata": {
    "ExecuteTime": {
     "end_time": "2017-09-20T06:59:20.464563Z",
     "start_time": "2017-09-20T06:59:07.952730Z"
    }
   },
   "outputs": [
    {
     "name": "stderr",
     "output_type": "stream",
     "text": [
      "Using TensorFlow backend.\n",
      "/home/roebius/pj/p3/lib/python3.5/site-packages/sklearn/cross_validation.py:44: DeprecationWarning: This module was deprecated in version 0.18 in favor of the model_selection module into which all the refactored classes and functions are moved. Also note that the interface of the new CV iterators are different from that of this module. This module will be removed in 0.20.\n",
      "  \"This module will be removed in 0.20.\", DeprecationWarning)\n"
     ]
    }
   ],
   "source": [
    "%matplotlib inline\n",
    "import importlib, utils2; importlib.reload(utils2)\n",
    "from utils2 import *"
   ]
  },
  {
   "cell_type": "code",
   "execution_count": 2,
   "metadata": {
    "ExecuteTime": {
     "end_time": "2017-09-20T06:59:20.951769Z",
     "start_time": "2017-09-20T06:59:20.466340Z"
    },
    "collapsed": true
   },
   "outputs": [],
   "source": [
    "np.set_printoptions(4)\n",
    "cfg = K.tf.ConfigProto(gpu_options={'allow_growth': True})\n",
    "K.set_session(K.tf.Session(config=cfg))"
   ]
  },
  {
   "cell_type": "markdown",
   "metadata": {},
   "source": [
    "A memory network is a network that can retain information; it can be trained on a structured story and will learn how to answer questions about said story.\n",
    "\n",
    "This notebook contains an implementation of an end-to-end memory network trained on the Babi tasks dataset."
   ]
  },
  {
   "cell_type": "markdown",
   "metadata": {},
   "source": [
    "## Create datasets"
   ]
  },
  {
   "cell_type": "markdown",
   "metadata": {},
   "source": [
    "Code from this section is mainly taken from the babi-memnn example in the keras repo.\n",
    "\n",
    "* [Popular Science](http://www.popsci.com/facebook-ai)\n",
    "* [Slate](http://www.slate.com/blogs/future_tense/2016/06/28/facebook_s_ai_researchers_are_making_bots_smarter_by_giving_them_memory.html)"
   ]
  },
  {
   "cell_type": "markdown",
   "metadata": {},
   "source": [
    "The Babi dataset is a collection of tasks (or stories) that detail events in a particular format. At the end of each task is a question with a labelled answer."
   ]
  },
  {
   "cell_type": "markdown",
   "metadata": {},
   "source": [
    "This section shows how to construct the dataset from the raw data."
   ]
  },
  {
   "cell_type": "code",
   "execution_count": 3,
   "metadata": {
    "ExecuteTime": {
     "end_time": "2017-09-20T06:59:20.958809Z",
     "start_time": "2017-09-20T06:59:20.954426Z"
    },
    "collapsed": true
   },
   "outputs": [],
   "source": [
    "def tokenize(sent):\n",
    "    return [x.strip() for x in re.split('(\\W+)?', sent) if x.strip()]"
   ]
  },
  {
   "cell_type": "markdown",
   "metadata": {},
   "source": [
    "This parser formats the story into a time-order labelled sequence of sentences, followed by the question and the labelled answer."
   ]
  },
  {
   "cell_type": "code",
   "execution_count": 4,
   "metadata": {
    "ExecuteTime": {
     "end_time": "2017-09-20T06:59:20.989238Z",
     "start_time": "2017-09-20T06:59:20.961114Z"
    },
    "collapsed": true
   },
   "outputs": [],
   "source": [
    "def parse_stories(lines):\n",
    "    data = []\n",
    "    story = []\n",
    "    for line in lines:\n",
    "        line = line.decode('utf-8').strip()\n",
    "        nid, line = line.split(' ', 1)\n",
    "        if int(nid) == 1: story = []\n",
    "        if '\\t' in line:\n",
    "            q, a, supporting = line.split('\\t')\n",
    "            q = tokenize(q)\n",
    "            substory = None\n",
    "            substory = [[str(i)+\":\"]+x for i,x in enumerate(story) if x]\n",
    "            data.append((substory, q, a))\n",
    "            story.append('')\n",
    "        else: story.append(tokenize(line))\n",
    "    return data"
   ]
  },
  {
   "cell_type": "markdown",
   "metadata": {},
   "source": [
    "Next we download and parse the data set."
   ]
  },
  {
   "cell_type": "code",
   "execution_count": 5,
   "metadata": {
    "ExecuteTime": {
     "end_time": "2017-09-20T06:59:24.311791Z",
     "start_time": "2017-09-20T06:59:24.293170Z"
    },
    "collapsed": true
   },
   "outputs": [],
   "source": [
    "path = get_file('babi-tasks-v1-2.tar.gz', \n",
    "                origin='https://s3.amazonaws.com/text-datasets/babi_tasks_1-20_v1-2.tar.gz')\n",
    "tar = tarfile.open(path)"
   ]
  },
  {
   "cell_type": "code",
   "execution_count": 6,
   "metadata": {
    "ExecuteTime": {
     "end_time": "2017-09-20T06:59:27.508438Z",
     "start_time": "2017-09-20T06:59:27.500813Z"
    },
    "collapsed": true
   },
   "outputs": [],
   "source": [
    "challenges = {\n",
    "    # QA1 with 10,000 samples\n",
    "    'single_supporting_fact_10k': 'tasks_1-20_v1-2/en-10k/qa1_single-supporting-fact_{}.txt',\n",
    "    # QA2 with 10,000 samples\n",
    "    'two_supporting_facts_10k': 'tasks_1-20_v1-2/en-10k/qa2_two-supporting-facts_{}.txt',\n",
    "    'two_supporting_facts_1k': 'tasks_1-20_v1-2/en/qa2_two-supporting-facts_{}.txt',\n",
    "}\n",
    "challenge_type = 'single_supporting_fact_10k'\n",
    "# challenge_type = 'two_supporting_facts_10k'\n",
    "challenge = challenges[challenge_type]"
   ]
  },
  {
   "cell_type": "code",
   "execution_count": 7,
   "metadata": {
    "ExecuteTime": {
     "end_time": "2017-09-20T06:59:28.449668Z",
     "start_time": "2017-09-20T06:59:28.443737Z"
    },
    "collapsed": true
   },
   "outputs": [],
   "source": [
    "def get_stories(f):\n",
    "    data = parse_stories(f.readlines())\n",
    "    return [(story, q, answer) for story, q, answer in data]"
   ]
  },
  {
   "cell_type": "code",
   "execution_count": 8,
   "metadata": {
    "ExecuteTime": {
     "end_time": "2017-09-20T06:59:30.563771Z",
     "start_time": "2017-09-20T06:59:29.459422Z"
    }
   },
   "outputs": [
    {
     "name": "stderr",
     "output_type": "stream",
     "text": [
      "/home/roebius/pj/p3/lib/python3.5/re.py:203: FutureWarning: split() requires a non-empty pattern match.\n",
      "  return _compile(pattern, flags).split(string, maxsplit)\n"
     ]
    }
   ],
   "source": [
    "train_stories = get_stories(tar.extractfile(challenge.format('train')))\n",
    "test_stories = get_stories(tar.extractfile(challenge.format('test')))"
   ]
  },
  {
   "cell_type": "markdown",
   "metadata": {},
   "source": [
    "Here we calculate upper bounds for things like words in sentence, sentences in a story, etc. for the corpus, which will be useful later."
   ]
  },
  {
   "cell_type": "code",
   "execution_count": 9,
   "metadata": {
    "ExecuteTime": {
     "end_time": "2017-09-20T07:00:20.293569Z",
     "start_time": "2017-09-20T07:00:20.289202Z"
    },
    "collapsed": true
   },
   "outputs": [],
   "source": [
    "stories = train_stories + test_stories"
   ]
  },
  {
   "cell_type": "code",
   "execution_count": 10,
   "metadata": {
    "ExecuteTime": {
     "end_time": "2017-09-20T07:00:21.369311Z",
     "start_time": "2017-09-20T07:00:21.337867Z"
    },
    "collapsed": true
   },
   "outputs": [],
   "source": [
    "story_maxlen = max((len(s) for x, _, _ in stories for s in x))\n",
    "story_maxsents = max((len(x) for x, _, _ in stories))\n",
    "query_maxlen = max(len(x) for _, x, _ in stories)"
   ]
  },
  {
   "cell_type": "code",
   "execution_count": 11,
   "metadata": {
    "ExecuteTime": {
     "end_time": "2017-09-20T07:00:22.171919Z",
     "start_time": "2017-09-20T07:00:22.161993Z"
    },
    "collapsed": true
   },
   "outputs": [],
   "source": [
    "def do_flatten(el): \n",
    "    return isinstance(el, collections.Iterable) and not isinstance(el, (str, bytes))\n",
    "def flatten(l):\n",
    "    for el in l:\n",
    "        if do_flatten(el): yield from flatten(el)\n",
    "        else: yield el"
   ]
  },
  {
   "cell_type": "markdown",
   "metadata": {},
   "source": [
    "Create vocabulary of corpus and find size, including a padding element."
   ]
  },
  {
   "cell_type": "code",
   "execution_count": 12,
   "metadata": {
    "ExecuteTime": {
     "end_time": "2017-09-20T07:00:23.916491Z",
     "start_time": "2017-09-20T07:00:23.104631Z"
    },
    "collapsed": true
   },
   "outputs": [],
   "source": [
    "vocab = sorted(set(flatten(stories)))\n",
    "vocab.insert(0, '<PAD>')\n",
    "vocab_size = len(vocab)"
   ]
  },
  {
   "cell_type": "code",
   "execution_count": 13,
   "metadata": {
    "ExecuteTime": {
     "end_time": "2017-09-20T07:00:23.924836Z",
     "start_time": "2017-09-20T07:00:23.918313Z"
    }
   },
   "outputs": [
    {
     "data": {
      "text/plain": [
       "(10, 32, 8, 4, 10000, 1000)"
      ]
     },
     "execution_count": 13,
     "metadata": {},
     "output_type": "execute_result"
    }
   ],
   "source": [
    "story_maxsents, vocab_size, story_maxlen, query_maxlen, len(train_stories), len(test_stories)"
   ]
  },
  {
   "cell_type": "markdown",
   "metadata": {},
   "source": [
    "Now the dataset is in the correct format.\n",
    "\n",
    "Each task in the dataset contains a list of tokenized sentences ordered in time, followed by a question about the story with a given answer.\n",
    "\n",
    "In the example below, we go can backward through the sentences to find the answer to the question \"Where is Daniel?\" as sentence 12, the last sentence to mention Daniel.\n",
    "\n",
    "This task structure is called a \"one supporting fact\" structure, which means that we only need to find one sentence in the story to answer our question."
   ]
  },
  {
   "cell_type": "code",
   "execution_count": 14,
   "metadata": {
    "ExecuteTime": {
     "end_time": "2017-09-20T07:00:25.449905Z",
     "start_time": "2017-09-20T07:00:25.441860Z"
    },
    "scrolled": true
   },
   "outputs": [
    {
     "data": {
      "text/plain": [
       "([['0:', 'Mary', 'moved', 'to', 'the', 'office', '.'],\n",
       "  ['1:', 'John', 'moved', 'to', 'the', 'garden', '.'],\n",
       "  ['3:', 'Sandra', 'moved', 'to', 'the', 'bedroom', '.'],\n",
       "  ['4:', 'Sandra', 'went', 'back', 'to', 'the', 'office', '.'],\n",
       "  ['6:', 'John', 'went', 'to', 'the', 'bedroom', '.'],\n",
       "  ['7:', 'John', 'journeyed', 'to', 'the', 'garden', '.'],\n",
       "  ['9:', 'Daniel', 'went', 'back', 'to', 'the', 'hallway', '.'],\n",
       "  ['10:', 'John', 'journeyed', 'to', 'the', 'bedroom', '.'],\n",
       "  ['12:', 'Daniel', 'journeyed', 'to', 'the', 'bathroom', '.'],\n",
       "  ['13:', 'John', 'travelled', 'to', 'the', 'garden', '.']],\n",
       " ['Where', 'is', 'Daniel', '?'],\n",
       " 'bathroom')"
      ]
     },
     "execution_count": 14,
     "metadata": {},
     "output_type": "execute_result"
    }
   ],
   "source": [
    "test_stories[534]"
   ]
  },
  {
   "cell_type": "markdown",
   "metadata": {},
   "source": [
    "Create an index mapping for the vocabulary."
   ]
  },
  {
   "cell_type": "code",
   "execution_count": 15,
   "metadata": {
    "ExecuteTime": {
     "end_time": "2017-09-20T07:00:30.519048Z",
     "start_time": "2017-09-20T07:00:30.514736Z"
    },
    "collapsed": true
   },
   "outputs": [],
   "source": [
    "word_idx = dict((c, i) for i, c in enumerate(vocab))"
   ]
  },
  {
   "cell_type": "markdown",
   "metadata": {},
   "source": [
    "Next we vectorize our dataset by mapping words to their indices. We enforce consistent dimension by padding vectors up to the upper bounds we calculated earlier with our pad element."
   ]
  },
  {
   "cell_type": "code",
   "execution_count": 16,
   "metadata": {
    "ExecuteTime": {
     "end_time": "2017-09-20T07:00:32.853221Z",
     "start_time": "2017-09-20T07:00:32.835435Z"
    },
    "collapsed": true
   },
   "outputs": [],
   "source": [
    "def vectorize_stories(data, word_idx, story_maxlen, query_maxlen):\n",
    "    X = []; Xq = []; Y = []\n",
    "    for story, query, answer in data:\n",
    "        x = [[word_idx[w] for w in s] for s in story]\n",
    "        xq = [word_idx[w] for w in query]\n",
    "        y = [word_idx[answer]]\n",
    "        X.append(x); Xq.append(xq); Y.append(y)\n",
    "    return ([pad_sequences(x, maxlen=story_maxlen) for x in X],\n",
    "            pad_sequences(Xq, maxlen=query_maxlen), np.array(Y))"
   ]
  },
  {
   "cell_type": "code",
   "execution_count": 17,
   "metadata": {
    "ExecuteTime": {
     "end_time": "2017-09-20T07:00:35.955065Z",
     "start_time": "2017-09-20T07:00:35.254004Z"
    },
    "collapsed": true
   },
   "outputs": [],
   "source": [
    "inputs_train, queries_train, answers_train = vectorize_stories(train_stories, \n",
    "     word_idx, story_maxlen, query_maxlen)\n",
    "inputs_test, queries_test, answers_test = vectorize_stories(test_stories, \n",
    "     word_idx, story_maxlen, query_maxlen)"
   ]
  },
  {
   "cell_type": "code",
   "execution_count": 18,
   "metadata": {
    "ExecuteTime": {
     "end_time": "2017-09-20T07:00:37.195855Z",
     "start_time": "2017-09-20T07:00:37.100527Z"
    },
    "collapsed": true
   },
   "outputs": [],
   "source": [
    "def stack_inputs(inputs):\n",
    "    for i,it in enumerate(inputs):\n",
    "        inputs[i] = np.concatenate([it, \n",
    "                           np.zeros((story_maxsents-it.shape[0],story_maxlen), 'int')])\n",
    "    return np.stack(inputs)\n",
    "inputs_train = stack_inputs(inputs_train)\n",
    "inputs_test = stack_inputs(inputs_test)"
   ]
  },
  {
   "cell_type": "code",
   "execution_count": 19,
   "metadata": {
    "ExecuteTime": {
     "end_time": "2017-09-20T07:00:38.066145Z",
     "start_time": "2017-09-20T07:00:38.060655Z"
    }
   },
   "outputs": [
    {
     "data": {
      "text/plain": [
       "((10000, 10, 8), (1000, 10, 8))"
      ]
     },
     "execution_count": 19,
     "metadata": {},
     "output_type": "execute_result"
    }
   ],
   "source": [
    "inputs_train.shape, inputs_test.shape"
   ]
  },
  {
   "cell_type": "markdown",
   "metadata": {},
   "source": [
    "Our inputs for keras."
   ]
  },
  {
   "cell_type": "code",
   "execution_count": 20,
   "metadata": {
    "ExecuteTime": {
     "end_time": "2017-09-20T07:00:39.600486Z",
     "start_time": "2017-09-20T07:00:39.596176Z"
    },
    "collapsed": true
   },
   "outputs": [],
   "source": [
    "inps = [inputs_train, queries_train]\n",
    "val_inps = [inputs_test, queries_test]"
   ]
  },
  {
   "cell_type": "markdown",
   "metadata": {},
   "source": [
    "## Model"
   ]
  },
  {
   "cell_type": "markdown",
   "metadata": {},
   "source": [
    "The approach to solving this task relies not only on word embeddings, but sentence embeddings.\n",
    "\n",
    "The authors of the Babi paper constructed sentence embeddings by simply adding up the word embeddings; this might seem naive, but given the relatively small length of these sentences we can expect the sum to capture relevant information."
   ]
  },
  {
   "cell_type": "code",
   "execution_count": 21,
   "metadata": {
    "ExecuteTime": {
     "end_time": "2017-09-20T07:00:51.579797Z",
     "start_time": "2017-09-20T07:00:51.575185Z"
    },
    "collapsed": true
   },
   "outputs": [],
   "source": [
    "emb_dim = 20\n",
    "parms = {'verbose': 2, 'callbacks': [TQDMNotebookCallback(leave_inner=False)]}"
   ]
  },
  {
   "cell_type": "markdown",
   "metadata": {},
   "source": [
    "We use <tt>TimeDistributed</tt> here to apply the embedding to every element of the sequence, then the <tt>Lambda</tt> layer adds them up"
   ]
  },
  {
   "cell_type": "code",
   "execution_count": 22,
   "metadata": {
    "ExecuteTime": {
     "end_time": "2017-09-20T07:00:52.861823Z",
     "start_time": "2017-09-20T07:00:52.855817Z"
    },
    "collapsed": true
   },
   "outputs": [],
   "source": [
    "def emb_sent_bow(inp):\n",
    "    emb = TimeDistributed(Embedding(vocab_size, emb_dim))(inp)\n",
    "    return Lambda(lambda x: K.sum(x, 2))(emb)"
   ]
  },
  {
   "cell_type": "markdown",
   "metadata": {},
   "source": [
    "The embedding works as desired; the raw input has 10 sentences of 8 words, and the output has 10 sentence embeddings of length 20."
   ]
  },
  {
   "cell_type": "code",
   "execution_count": 23,
   "metadata": {
    "ExecuteTime": {
     "end_time": "2017-09-20T07:00:53.931757Z",
     "start_time": "2017-09-20T07:00:53.888010Z"
    }
   },
   "outputs": [
    {
     "data": {
      "text/plain": [
       "(TensorShape([Dimension(None), Dimension(10), Dimension(8)]),\n",
       " TensorShape([Dimension(None), Dimension(10), Dimension(20)]))"
      ]
     },
     "execution_count": 23,
     "metadata": {},
     "output_type": "execute_result"
    }
   ],
   "source": [
    "inp_story = Input((story_maxsents, story_maxlen))\n",
    "emb_story = emb_sent_bow(inp_story)\n",
    "inp_story.shape, emb_story.shape"
   ]
  },
  {
   "cell_type": "markdown",
   "metadata": {},
   "source": [
    "We do the same for the queries, omitting the <tt>TimeDistributed</tt> since there is only one query. We use <tt>Reshape</tt> to match the rank of the input."
   ]
  },
  {
   "cell_type": "code",
   "execution_count": 24,
   "metadata": {
    "ExecuteTime": {
     "end_time": "2017-09-20T07:00:55.423727Z",
     "start_time": "2017-09-20T07:00:55.392401Z"
    }
   },
   "outputs": [
    {
     "data": {
      "text/plain": [
       "(TensorShape([Dimension(None), Dimension(4)]),\n",
       " TensorShape([Dimension(None), Dimension(1), Dimension(20)]))"
      ]
     },
     "execution_count": 24,
     "metadata": {},
     "output_type": "execute_result"
    }
   ],
   "source": [
    "inp_q = Input((query_maxlen,))\n",
    "emb_q = Embedding(vocab_size, emb_dim)(inp_q)\n",
    "emb_q = Lambda(lambda x: K.sum(x, 1))(emb_q)\n",
    "emb_q = Reshape((1, emb_dim))(emb_q)\n",
    "inp_q.shape, emb_q.shape"
   ]
  },
  {
   "cell_type": "markdown",
   "metadata": {},
   "source": [
    "The actual memory network is incredibly simple.\n",
    "\n",
    "* For each story, we take the dot product of every sentence embedding with that story's query embedding. This gives us a list of numbers proportional to how similar each sentence is with the query.\n",
    "* We pass this vector of dot products through a softmax function to return a list of scalars that sum to one and tell us how similar the query is to each sentence."
   ]
  },
  {
   "cell_type": "code",
   "execution_count": 25,
   "metadata": {
    "ExecuteTime": {
     "end_time": "2017-09-20T07:00:56.558261Z",
     "start_time": "2017-09-20T07:00:56.536942Z"
    }
   },
   "outputs": [
    {
     "data": {
      "text/plain": [
       "TensorShape([Dimension(None), Dimension(10), Dimension(1)])"
      ]
     },
     "execution_count": 25,
     "metadata": {},
     "output_type": "execute_result"
    }
   ],
   "source": [
    "x = dot([emb_story, emb_q], 2)  # Keras 2\n",
    "x = Reshape((story_maxsents,))(x)\n",
    "x = Activation('softmax')(x)\n",
    "match = Reshape((story_maxsents,1))(x)\n",
    "match.shape"
   ]
  },
  {
   "cell_type": "markdown",
   "metadata": {},
   "source": [
    "* Next, we construct a second, separate, embedding function for the sentences\n",
    "* We then take the weighted average of these embeddings, using the softmax outputs as weights\n",
    "* Finally, we pass this weighted average though a dense layer and classify it w/ a softmax into one of the words in the vocabulary"
   ]
  },
  {
   "cell_type": "code",
   "execution_count": 26,
   "metadata": {
    "ExecuteTime": {
     "end_time": "2017-09-20T07:01:01.368718Z",
     "start_time": "2017-09-20T07:01:01.322228Z"
    },
    "collapsed": true
   },
   "outputs": [],
   "source": [
    "emb_c = emb_sent_bow(inp_story)\n",
    "x = dot([match, emb_c], 1)  # Keras 2\n",
    "response = Reshape((emb_dim,))(x)\n",
    "res = Dense(vocab_size, activation='softmax')(response)"
   ]
  },
  {
   "cell_type": "code",
   "execution_count": 27,
   "metadata": {
    "ExecuteTime": {
     "end_time": "2017-09-20T07:01:01.768043Z",
     "start_time": "2017-09-20T07:01:01.763539Z"
    },
    "collapsed": true
   },
   "outputs": [],
   "source": [
    "answer = Model([inp_story, inp_q], res)"
   ]
  },
  {
   "cell_type": "code",
   "execution_count": 28,
   "metadata": {
    "ExecuteTime": {
     "end_time": "2017-09-20T07:01:02.439305Z",
     "start_time": "2017-09-20T07:01:02.387088Z"
    },
    "collapsed": true
   },
   "outputs": [],
   "source": [
    "answer.compile(optimizer='rmsprop', loss='sparse_categorical_crossentropy',\n",
    "               metrics=['accuracy'])"
   ]
  },
  {
   "cell_type": "markdown",
   "metadata": {},
   "source": [
    "And it works extremely well"
   ]
  },
  {
   "cell_type": "code",
   "execution_count": 29,
   "metadata": {
    "ExecuteTime": {
     "end_time": "2017-09-20T07:01:08.075882Z",
     "start_time": "2017-09-20T07:01:03.315428Z"
    }
   },
   "outputs": [
    {
     "name": "stdout",
     "output_type": "stream",
     "text": [
      "Train on 10000 samples, validate on 1000 samples\n"
     ]
    },
    {
     "data": {
      "application/vnd.jupyter.widget-view+json": {
       "model_id": "73e13e292cde4df7848a51b31e1bbb1c",
       "version_major": 2,
       "version_minor": 0
      },
      "text/plain": [
       "A Jupyter Widget"
      ]
     },
     "metadata": {},
     "output_type": "display_data"
    },
    {
     "data": {
      "application/vnd.jupyter.widget-view+json": {
       "model_id": "ce808b93b6464319a0c83fce1e05d4dd",
       "version_major": 2,
       "version_minor": 0
      },
      "text/plain": [
       "A Jupyter Widget"
      ]
     },
     "metadata": {},
     "output_type": "display_data"
    },
    {
     "name": "stdout",
     "output_type": "stream",
     "text": [
      "Epoch 1/4\n",
      "1s - loss: 0.4538 - acc: 0.8418 - val_loss: 0.0529 - val_acc: 0.9830\n"
     ]
    },
    {
     "data": {
      "application/vnd.jupyter.widget-view+json": {
       "model_id": "3b5b7769c4b945bebcf685772e00243e",
       "version_major": 2,
       "version_minor": 0
      },
      "text/plain": [
       "A Jupyter Widget"
      ]
     },
     "metadata": {},
     "output_type": "display_data"
    },
    {
     "name": "stdout",
     "output_type": "stream",
     "text": [
      "Epoch 2/4\n",
      "0s - loss: 0.0044 - acc: 0.9990 - val_loss: 3.9846e-06 - val_acc: 1.0000\n"
     ]
    },
    {
     "data": {
      "application/vnd.jupyter.widget-view+json": {
       "model_id": "2a29f223b33b4c818ce438c85506ddd5",
       "version_major": 2,
       "version_minor": 0
      },
      "text/plain": [
       "A Jupyter Widget"
      ]
     },
     "metadata": {},
     "output_type": "display_data"
    },
    {
     "name": "stdout",
     "output_type": "stream",
     "text": [
      "Epoch 3/4\n",
      "0s - loss: 0.0069 - acc: 0.9984 - val_loss: 0.0060 - val_acc: 0.9960\n"
     ]
    },
    {
     "data": {
      "application/vnd.jupyter.widget-view+json": {
       "model_id": "0e05b0f3a02f482ea64402b962732640",
       "version_major": 2,
       "version_minor": 0
      },
      "text/plain": [
       "A Jupyter Widget"
      ]
     },
     "metadata": {},
     "output_type": "display_data"
    },
    {
     "name": "stdout",
     "output_type": "stream",
     "text": [
      "Epoch 4/4\n",
      "0s - loss: 0.0091 - acc: 0.9984 - val_loss: 6.9875e-06 - val_acc: 1.0000\n",
      "\n"
     ]
    }
   ],
   "source": [
    "K.set_value(answer.optimizer.lr, 1e-2)\n",
    "hist=answer.fit(inps, answers_train, **parms, epochs=4, batch_size=32,\n",
    "           validation_data=(val_inps, answers_test))"
   ]
  },
  {
   "cell_type": "markdown",
   "metadata": {
    "collapsed": true
   },
   "source": [
    "## Test"
   ]
  },
  {
   "cell_type": "markdown",
   "metadata": {},
   "source": [
    "We can look inside our model to see how it's weighting the sentence embeddings."
   ]
  },
  {
   "cell_type": "code",
   "execution_count": 30,
   "metadata": {
    "ExecuteTime": {
     "end_time": "2017-09-20T07:01:11.889587Z",
     "start_time": "2017-09-20T07:01:11.885139Z"
    },
    "collapsed": true
   },
   "outputs": [],
   "source": [
    "f = Model([inp_story, inp_q], match)"
   ]
  },
  {
   "cell_type": "code",
   "execution_count": 31,
   "metadata": {
    "ExecuteTime": {
     "end_time": "2017-09-20T07:01:12.537203Z",
     "start_time": "2017-09-20T07:01:12.533710Z"
    },
    "collapsed": true
   },
   "outputs": [],
   "source": [
    "qnum=6"
   ]
  },
  {
   "cell_type": "code",
   "execution_count": 32,
   "metadata": {
    "ExecuteTime": {
     "end_time": "2017-09-20T07:01:13.084298Z",
     "start_time": "2017-09-20T07:01:13.076836Z"
    }
   },
   "outputs": [
    {
     "data": {
      "text/plain": [
       "([['0:', 'Sandra', 'travelled', 'to', 'the', 'office', '.'],\n",
       "  ['1:', 'Sandra', 'went', 'to', 'the', 'bathroom', '.'],\n",
       "  ['3:', 'Mary', 'went', 'to', 'the', 'bedroom', '.'],\n",
       "  ['4:', 'Daniel', 'moved', 'to', 'the', 'hallway', '.']],\n",
       " ['Where', 'is', 'Sandra', '?'],\n",
       " 'bathroom')"
      ]
     },
     "execution_count": 32,
     "metadata": {},
     "output_type": "execute_result"
    }
   ],
   "source": [
    "l_st = len(train_stories[qnum][0])+1\n",
    "train_stories[qnum]"
   ]
  },
  {
   "cell_type": "markdown",
   "metadata": {},
   "source": [
    "Sure enough, for the question \"Where is Sandra?\", the largest weight is the last sentence with the name Sandra, sentence 1 with 0.98.\n",
    "\n",
    "The second highest is of course the first sentence, which also mentions Sandra. But the model has learned that the last occurring sentence is what is important; this is why we added the counter at the beginning of each sentence."
   ]
  },
  {
   "cell_type": "code",
   "execution_count": 33,
   "metadata": {
    "ExecuteTime": {
     "end_time": "2017-09-20T07:01:15.425992Z",
     "start_time": "2017-09-20T07:01:15.398150Z"
    }
   },
   "outputs": [
    {
     "data": {
      "text/plain": [
       "array([  4.5702e-02,   9.5388e-01,   6.6557e-05,   3.5341e-04,   4.9371e-13], dtype=float32)"
      ]
     },
     "execution_count": 33,
     "metadata": {},
     "output_type": "execute_result"
    }
   ],
   "source": [
    "np.squeeze(f.predict([inputs_train[qnum:qnum+1], queries_train[qnum:qnum+1]]))[:l_st]"
   ]
  },
  {
   "cell_type": "code",
   "execution_count": 34,
   "metadata": {
    "ExecuteTime": {
     "end_time": "2017-09-20T07:01:16.012928Z",
     "start_time": "2017-09-20T07:01:16.006435Z"
    }
   },
   "outputs": [
    {
     "data": {
      "text/plain": [
       "array([19, 19, 27, 22, 19, 20, 19, 19, 20, 20])"
      ]
     },
     "execution_count": 34,
     "metadata": {},
     "output_type": "execute_result"
    }
   ],
   "source": [
    "answers_train[qnum:qnum+10,0]"
   ]
  },
  {
   "cell_type": "code",
   "execution_count": 35,
   "metadata": {
    "ExecuteTime": {
     "end_time": "2017-09-20T07:01:16.586752Z",
     "start_time": "2017-09-20T07:01:16.558317Z"
    }
   },
   "outputs": [
    {
     "data": {
      "text/plain": [
       "array([19, 19, 27, 22, 19, 20, 19, 19, 20, 20])"
      ]
     },
     "execution_count": 35,
     "metadata": {},
     "output_type": "execute_result"
    }
   ],
   "source": [
    "np.argmax(answer.predict([inputs_train[qnum:qnum+10], queries_train[qnum:qnum+10]]), 1)"
   ]
  },
  {
   "cell_type": "code",
   "execution_count": 36,
   "metadata": {
    "ExecuteTime": {
     "end_time": "2017-09-20T07:01:17.062118Z",
     "start_time": "2017-09-20T07:01:17.053028Z"
    }
   },
   "outputs": [
    {
     "data": {
      "text/plain": [
       "array([[  1.6273e-11,   2.2683e-11,   1.7128e-11,   1.9257e-11,\n",
       "          8.2702e-12,   8.7988e-12,   1.4978e-11,   2.2701e-11,\n",
       "          1.2418e-11,   1.0098e-11,   1.6714e-11,   1.5965e-11,\n",
       "          7.1742e-12,   2.8533e-11,   1.3710e-11,   5.1749e-12,\n",
       "          9.4055e-12,   1.4293e-11,   1.4934e-11,   1.0000e+00,\n",
       "          1.7705e-08,   7.0076e-09,   6.8578e-10,   1.0172e-11,\n",
       "          1.2925e-11,   7.0693e-11,   9.0541e-12,   2.1682e-08,\n",
       "          1.9263e-11,   1.0239e-11,   1.3685e-11,   1.9496e-11]], dtype=float32)"
      ]
     },
     "execution_count": 36,
     "metadata": {},
     "output_type": "execute_result"
    }
   ],
   "source": [
    "answer.predict([inputs_train[qnum:qnum+1], queries_train[qnum:qnum+1]])"
   ]
  },
  {
   "cell_type": "code",
   "execution_count": 37,
   "metadata": {
    "ExecuteTime": {
     "end_time": "2017-09-20T07:01:17.652198Z",
     "start_time": "2017-09-20T07:01:17.647291Z"
    }
   },
   "outputs": [
    {
     "data": {
      "text/plain": [
       "'bathroom'"
      ]
     },
     "execution_count": 37,
     "metadata": {},
     "output_type": "execute_result"
    }
   ],
   "source": [
    "vocab[19]"
   ]
  },
  {
   "cell_type": "markdown",
   "metadata": {},
   "source": [
    "## Multi hop"
   ]
  },
  {
   "cell_type": "markdown",
   "metadata": {},
   "source": [
    "Next, let's look at an example of a two-supporting fact story."
   ]
  },
  {
   "cell_type": "code",
   "execution_count": 38,
   "metadata": {
    "ExecuteTime": {
     "end_time": "2017-09-20T07:01:22.710559Z",
     "start_time": "2017-09-20T07:01:22.703381Z"
    }
   },
   "outputs": [
    {
     "data": {
      "text/plain": [
       "([['0:', 'Mary', 'moved', 'to', 'the', 'office', '.'],\n",
       "  ['1:', 'John', 'moved', 'to', 'the', 'garden', '.'],\n",
       "  ['3:', 'Sandra', 'moved', 'to', 'the', 'bedroom', '.'],\n",
       "  ['4:', 'Sandra', 'went', 'back', 'to', 'the', 'office', '.'],\n",
       "  ['6:', 'John', 'went', 'to', 'the', 'bedroom', '.'],\n",
       "  ['7:', 'John', 'journeyed', 'to', 'the', 'garden', '.'],\n",
       "  ['9:', 'Daniel', 'went', 'back', 'to', 'the', 'hallway', '.'],\n",
       "  ['10:', 'John', 'journeyed', 'to', 'the', 'bedroom', '.'],\n",
       "  ['12:', 'Daniel', 'journeyed', 'to', 'the', 'bathroom', '.'],\n",
       "  ['13:', 'John', 'travelled', 'to', 'the', 'garden', '.']],\n",
       " ['Where', 'is', 'Daniel', '?'],\n",
       " 'bathroom')"
      ]
     },
     "execution_count": 38,
     "metadata": {},
     "output_type": "execute_result"
    }
   ],
   "source": [
    "test_stories[534]"
   ]
  },
  {
   "cell_type": "markdown",
   "metadata": {},
   "source": [
    "We can see that the question \"Where is the milk?\" requires to supporting facts to answer, \"Daniel traveled to the hallway\" and \"Daniel left the milk there\"."
   ]
  },
  {
   "cell_type": "code",
   "execution_count": 39,
   "metadata": {
    "ExecuteTime": {
     "end_time": "2017-09-20T07:01:23.709045Z",
     "start_time": "2017-09-20T07:01:23.703681Z"
    },
    "scrolled": true
   },
   "outputs": [
    {
     "data": {
      "text/plain": [
       "((10000, 10, 8), (1000, 10, 8))"
      ]
     },
     "execution_count": 39,
     "metadata": {},
     "output_type": "execute_result"
    }
   ],
   "source": [
    "inputs_train.shape, inputs_test.shape"
   ]
  },
  {
   "cell_type": "markdown",
   "metadata": {},
   "source": [
    "The approach is basically the same; we add more embedding dimensions to account for the increased task complexity."
   ]
  },
  {
   "cell_type": "code",
   "execution_count": 40,
   "metadata": {
    "ExecuteTime": {
     "end_time": "2017-09-20T07:01:24.581105Z",
     "start_time": "2017-09-20T07:01:24.576264Z"
    },
    "collapsed": true
   },
   "outputs": [],
   "source": [
    "parms = {'verbose': 2, 'callbacks': [TQDMNotebookCallback(leave_inner=False)]}\n",
    "emb_dim = 30"
   ]
  },
  {
   "cell_type": "code",
   "execution_count": 41,
   "metadata": {
    "ExecuteTime": {
     "end_time": "2017-09-20T07:01:25.242901Z",
     "start_time": "2017-09-20T07:01:25.233463Z"
    },
    "collapsed": true
   },
   "outputs": [],
   "source": [
    "def emb_sent_bow(inp):\n",
    "    emb_op = TimeDistributed(Embedding(vocab_size, emb_dim))\n",
    "    emb = emb_op(inp)\n",
    "    emb = Lambda(lambda x: K.sum(x, 2))(emb)\n",
    "#     return Elemwise(0, False)(emb), emb_op\n",
    "    return emb, emb_op"
   ]
  },
  {
   "cell_type": "code",
   "execution_count": 42,
   "metadata": {
    "ExecuteTime": {
     "end_time": "2017-09-20T07:01:25.790756Z",
     "start_time": "2017-09-20T07:01:25.785066Z"
    },
    "collapsed": true
   },
   "outputs": [],
   "source": [
    "inp_story = Input((story_maxsents, story_maxlen))\n",
    "inp_q = Input((query_maxlen,))"
   ]
  },
  {
   "cell_type": "code",
   "execution_count": 43,
   "metadata": {
    "ExecuteTime": {
     "end_time": "2017-09-20T07:01:26.424058Z",
     "start_time": "2017-09-20T07:01:26.401151Z"
    },
    "collapsed": true
   },
   "outputs": [],
   "source": [
    "emb_story, emb_story_op = emb_sent_bow(inp_story)"
   ]
  },
  {
   "cell_type": "code",
   "execution_count": 44,
   "metadata": {
    "ExecuteTime": {
     "end_time": "2017-09-20T07:01:26.900076Z",
     "start_time": "2017-09-20T07:01:26.889935Z"
    },
    "collapsed": true
   },
   "outputs": [],
   "source": [
    "emb_q = emb_story_op.layer(inp_q)\n",
    "emb_q = Lambda(lambda x: K.sum(x, 1))(emb_q)"
   ]
  },
  {
   "cell_type": "code",
   "execution_count": 45,
   "metadata": {
    "ExecuteTime": {
     "end_time": "2017-09-20T07:01:27.317899Z",
     "start_time": "2017-09-20T07:01:27.314430Z"
    },
    "collapsed": true
   },
   "outputs": [],
   "source": [
    "h = Dense(emb_dim)"
   ]
  },
  {
   "cell_type": "markdown",
   "metadata": {},
   "source": [
    "The main difference is that we are going to do the same process twice. Here we've defined a \"hop\" as the operation that returns the weighted average of the input sentence embeddings."
   ]
  },
  {
   "cell_type": "code",
   "execution_count": 46,
   "metadata": {
    "ExecuteTime": {
     "end_time": "2017-09-20T07:01:31.571573Z",
     "start_time": "2017-09-20T07:01:31.546687Z"
    },
    "collapsed": true
   },
   "outputs": [],
   "source": [
    "def one_hop(u, A):\n",
    "    C, _ = emb_sent_bow(inp_story)\n",
    "    x = Reshape((1, emb_dim))(u)\n",
    "    x = dot([A, x], 2)  # Keras 2\n",
    "    x = Reshape((story_maxsents,))(x)\n",
    "    x = Activation('softmax')(x)\n",
    "    match = Reshape((story_maxsents,1))(x)\n",
    "\n",
    "    x = dot([match, C], 1)  # Keras 2\n",
    "    x = Reshape((emb_dim,))(x)\n",
    "    x = h(x)\n",
    "    x = add([x, emb_q])  # Keras 2\n",
    "    return x, C"
   ]
  },
  {
   "cell_type": "markdown",
   "metadata": {},
   "source": [
    "We do one hop, and repeat the process using the resulting weighted sentence average as the new weights.\n",
    "\n",
    "This works because the first hop allows us to find the first fact relevant to the query, and then we can use that fact to find the next fact that answers the question. In our example, our model would first find the last sentence to mention \"milk\", and then use the information in that fact to know that it next has to find the last occurrence of \"Daniel\".\n",
    "\n",
    "This is facilitated by generating a new embedding function for the input story each time we hop. This means that the first embedding is learning things that help us find the first fact from the query, and the second is helping us find the second fact from the first."
   ]
  },
  {
   "cell_type": "markdown",
   "metadata": {},
   "source": [
    "This approach can be extended to n-supporting factor problems by doing n hops."
   ]
  },
  {
   "cell_type": "code",
   "execution_count": 47,
   "metadata": {
    "ExecuteTime": {
     "end_time": "2017-09-20T07:01:35.031956Z",
     "start_time": "2017-09-20T07:01:34.944651Z"
    },
    "collapsed": true
   },
   "outputs": [],
   "source": [
    "response, emb_story = one_hop(emb_q, emb_story)\n",
    "response, emb_story = one_hop(response, emb_story)\n",
    "# response, emb_story = one_hop(response, emb_story)"
   ]
  },
  {
   "cell_type": "code",
   "execution_count": 48,
   "metadata": {
    "ExecuteTime": {
     "end_time": "2017-09-20T07:01:35.749861Z",
     "start_time": "2017-09-20T07:01:35.728962Z"
    },
    "collapsed": true
   },
   "outputs": [],
   "source": [
    "res = Dense(vocab_size, activation='softmax')(response)"
   ]
  },
  {
   "cell_type": "code",
   "execution_count": 49,
   "metadata": {
    "ExecuteTime": {
     "end_time": "2017-09-20T07:01:36.406154Z",
     "start_time": "2017-09-20T07:01:36.337507Z"
    },
    "collapsed": true
   },
   "outputs": [],
   "source": [
    "answer = Model([inp_story, inp_q], res)\n",
    "answer.compile(optimizer='rmsprop', loss='sparse_categorical_crossentropy',\n",
    "               metrics=['accuracy'])"
   ]
  },
  {
   "cell_type": "markdown",
   "metadata": {},
   "source": [
    "Fitting this model can be tricky."
   ]
  },
  {
   "cell_type": "code",
   "execution_count": 50,
   "metadata": {
    "ExecuteTime": {
     "end_time": "2017-09-20T07:01:47.935788Z",
     "start_time": "2017-09-20T07:01:37.319715Z"
    },
    "scrolled": false
   },
   "outputs": [
    {
     "name": "stdout",
     "output_type": "stream",
     "text": [
      "Train on 10000 samples, validate on 1000 samples\n"
     ]
    },
    {
     "data": {
      "application/vnd.jupyter.widget-view+json": {
       "model_id": "f4adb4fbcbd645a5a56c03a98e5f5687",
       "version_major": 2,
       "version_minor": 0
      },
      "text/plain": [
       "A Jupyter Widget"
      ]
     },
     "metadata": {},
     "output_type": "display_data"
    },
    {
     "data": {
      "application/vnd.jupyter.widget-view+json": {
       "model_id": "6e4849e700604d87bff92a885e694f42",
       "version_major": 2,
       "version_minor": 0
      },
      "text/plain": [
       "A Jupyter Widget"
      ]
     },
     "metadata": {},
     "output_type": "display_data"
    },
    {
     "name": "stdout",
     "output_type": "stream",
     "text": [
      "Epoch 1/8\n",
      "1s - loss: 0.7080 - acc: 0.7502 - val_loss: 0.0805 - val_acc: 0.9730\n"
     ]
    },
    {
     "data": {
      "application/vnd.jupyter.widget-view+json": {
       "model_id": "26defe1e80494f9a87c17c7a0253bc79",
       "version_major": 2,
       "version_minor": 0
      },
      "text/plain": [
       "A Jupyter Widget"
      ]
     },
     "metadata": {},
     "output_type": "display_data"
    },
    {
     "name": "stdout",
     "output_type": "stream",
     "text": [
      "Epoch 2/8\n",
      "1s - loss: 0.0107 - acc: 0.9967 - val_loss: 0.0030 - val_acc: 0.9990\n"
     ]
    },
    {
     "data": {
      "application/vnd.jupyter.widget-view+json": {
       "model_id": "6fa3d27b46944f938f715778ea56b076",
       "version_major": 2,
       "version_minor": 0
      },
      "text/plain": [
       "A Jupyter Widget"
      ]
     },
     "metadata": {},
     "output_type": "display_data"
    },
    {
     "name": "stdout",
     "output_type": "stream",
     "text": [
      "Epoch 3/8\n",
      "1s - loss: 0.0093 - acc: 0.9984 - val_loss: 0.0141 - val_acc: 0.9960\n"
     ]
    },
    {
     "data": {
      "application/vnd.jupyter.widget-view+json": {
       "model_id": "eb981775ad4f421bb3ddf7bfaa243007",
       "version_major": 2,
       "version_minor": 0
      },
      "text/plain": [
       "A Jupyter Widget"
      ]
     },
     "metadata": {},
     "output_type": "display_data"
    },
    {
     "name": "stdout",
     "output_type": "stream",
     "text": [
      "Epoch 4/8\n",
      "1s - loss: 0.0127 - acc: 0.9973 - val_loss: 1.9982e-05 - val_acc: 1.0000\n"
     ]
    },
    {
     "data": {
      "application/vnd.jupyter.widget-view+json": {
       "model_id": "d7a7ee1711224a25bd3c18971207546f",
       "version_major": 2,
       "version_minor": 0
      },
      "text/plain": [
       "A Jupyter Widget"
      ]
     },
     "metadata": {},
     "output_type": "display_data"
    },
    {
     "name": "stdout",
     "output_type": "stream",
     "text": [
      "Epoch 5/8\n",
      "1s - loss: 0.0077 - acc: 0.9986 - val_loss: 0.0097 - val_acc: 0.9980\n"
     ]
    },
    {
     "data": {
      "application/vnd.jupyter.widget-view+json": {
       "model_id": "bc49530d0e9c4f52a7bebf889d8cbe95",
       "version_major": 2,
       "version_minor": 0
      },
      "text/plain": [
       "A Jupyter Widget"
      ]
     },
     "metadata": {},
     "output_type": "display_data"
    },
    {
     "name": "stdout",
     "output_type": "stream",
     "text": [
      "Epoch 6/8\n",
      "1s - loss: 0.0052 - acc: 0.9990 - val_loss: 4.2661e-04 - val_acc: 1.0000\n"
     ]
    },
    {
     "data": {
      "application/vnd.jupyter.widget-view+json": {
       "model_id": "e0725e028d6d4bae99eb31a691927b88",
       "version_major": 2,
       "version_minor": 0
      },
      "text/plain": [
       "A Jupyter Widget"
      ]
     },
     "metadata": {},
     "output_type": "display_data"
    },
    {
     "name": "stdout",
     "output_type": "stream",
     "text": [
      "Epoch 7/8\n",
      "1s - loss: 0.0055 - acc: 0.9989 - val_loss: 0.0040 - val_acc: 0.9990\n"
     ]
    },
    {
     "data": {
      "application/vnd.jupyter.widget-view+json": {
       "model_id": "32855345fbe24f80b9eead715f7e813e",
       "version_major": 2,
       "version_minor": 0
      },
      "text/plain": [
       "A Jupyter Widget"
      ]
     },
     "metadata": {},
     "output_type": "display_data"
    },
    {
     "name": "stdout",
     "output_type": "stream",
     "text": [
      "Epoch 8/8\n",
      "1s - loss: 0.0083 - acc: 0.9991 - val_loss: 5.0082e-04 - val_acc: 1.0000\n",
      "\n"
     ]
    }
   ],
   "source": [
    "K.set_value(answer.optimizer.lr, 5e-3)\n",
    "hist=answer.fit(inps, answers_train, **parms, epochs=8, batch_size=32,\n",
    "           validation_data=(val_inps, answers_test))"
   ]
  },
  {
   "cell_type": "code",
   "execution_count": 51,
   "metadata": {
    "ExecuteTime": {
     "end_time": "2017-09-20T07:01:47.940058Z",
     "start_time": "2017-09-20T07:01:47.936976Z"
    }
   },
   "outputs": [
    {
     "data": {
      "text/plain": [
       "array([ 0.973,  0.999,  0.996,  1.   ,  0.998,  1.   ,  0.999,  1.   ])"
      ]
     },
     "execution_count": 51,
     "metadata": {},
     "output_type": "execute_result"
    }
   ],
   "source": [
    "np.array(hist.history['val_acc'])"
   ]
  },
  {
   "cell_type": "markdown",
   "metadata": {},
   "source": [
    "## Custom bias layer"
   ]
  },
  {
   "cell_type": "code",
   "execution_count": 52,
   "metadata": {
    "ExecuteTime": {
     "end_time": "2017-09-20T07:01:51.244891Z",
     "start_time": "2017-09-20T07:01:51.188576Z"
    },
    "collapsed": true
   },
   "outputs": [],
   "source": [
    "class Elemwise(Layer):\n",
    "    def __init__(self, axis, is_mult, init='glorot_uniform', **kwargs):\n",
    "        self.init = initializations.get(init)\n",
    "        self.axis = axis\n",
    "        self.is_mult = is_mult\n",
    "        super(Elemwise, self).__init__(**kwargs)\n",
    "\n",
    "    def build(self, input_shape):\n",
    "        input_dims = input_shape[1:]\n",
    "        dims = [1] * len(input_dims)\n",
    "        dims[self.axis] = input_dims[self.axis]\n",
    "        self.b = self.add_weight(dims, self.init, '{}_bo'.format(self.name))\n",
    "        self.built = True\n",
    "\n",
    "    def call(self, x, mask=None):\n",
    "        return x * self.b if self.is_mult else x + self.b\n",
    "\n",
    "    def get_output_shape_for(self, input_shape):\n",
    "        return input_shape\n",
    "\n",
    "    def get_config(self):\n",
    "        config = {'init': self.init.__name__, 'axis': self.axis}\n",
    "        base_config = super(Dense, self).get_config()\n",
    "        return dict(list(base_config.items()) + list(config.items()))"
   ]
  },
  {
   "cell_type": "code",
   "execution_count": null,
   "metadata": {
    "collapsed": true
   },
   "outputs": [],
   "source": []
  }
 ],
 "metadata": {
  "anaconda-cloud": {},
  "kernelspec": {
   "display_name": "p3",
   "language": "python",
   "name": "p3"
  },
  "language_info": {
   "codemirror_mode": {
    "name": "ipython",
    "version": 3
   },
   "file_extension": ".py",
   "mimetype": "text/x-python",
   "name": "python",
   "nbconvert_exporter": "python",
   "pygments_lexer": "ipython3",
   "version": "3.5.2"
  },
  "toc": {
   "colors": {
    "hover_highlight": "#DAA520",
    "navigate_num": "#000000",
    "navigate_text": "#333333",
    "running_highlight": "#FF0000",
    "selected_highlight": "#FFD700",
    "sidebar_border": "#EEEEEE",
    "wrapper_background": "#FFFFFF"
   },
   "moveMenuLeft": true,
   "nav_menu": {
    "height": "122px",
    "width": "252px"
   },
   "navigate_menu": true,
   "number_sections": true,
   "sideBar": true,
   "threshold": 4,
   "toc_cell": false,
   "toc_section_display": "block",
   "toc_window_display": false,
   "widenNotebook": false
  }
 },
 "nbformat": 4,
 "nbformat_minor": 2
}
