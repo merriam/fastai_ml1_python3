{
 "cells": [
  {
   "cell_type": "code",
   "execution_count": 1,
   "metadata": {
    "ExecuteTime": {
     "end_time": "2017-09-20T09:48:19.605105Z",
     "start_time": "2017-09-20T09:48:18.533665Z"
    },
    "collapsed": true
   },
   "outputs": [],
   "source": [
    "%matplotlib inline\n",
    "import math, numpy as np, tensorflow as tf, matplotlib.pyplot as plt, operator\n",
    "from importlib import reload"
   ]
  },
  {
   "cell_type": "markdown",
   "metadata": {},
   "source": [
    "# Clustering"
   ]
  },
  {
   "cell_type": "markdown",
   "metadata": {},
   "source": [
    "Clustering techniques are unsupervised learning algorithms that try to group unlabelled data into \"clusters\", using the (typically spatial) structure of the data itself."
   ]
  },
  {
   "cell_type": "code",
   "execution_count": 2,
   "metadata": {
    "ExecuteTime": {
     "end_time": "2017-09-20T09:48:19.626225Z",
     "start_time": "2017-09-20T09:48:19.606686Z"
    },
    "collapsed": true
   },
   "outputs": [],
   "source": [
    "import kmeans; reload(kmeans)\n",
    "from kmeans import Kmeans"
   ]
  },
  {
   "cell_type": "markdown",
   "metadata": {},
   "source": [
    "The easiest way to demonstrate how clustering works is to simply generate some data and show them in action."
   ]
  },
  {
   "cell_type": "markdown",
   "metadata": {},
   "source": [
    "## Create data"
   ]
  },
  {
   "cell_type": "code",
   "execution_count": 3,
   "metadata": {
    "ExecuteTime": {
     "end_time": "2017-09-20T09:48:20.681606Z",
     "start_time": "2017-09-20T09:48:20.675970Z"
    },
    "collapsed": true
   },
   "outputs": [],
   "source": [
    "n_clusters=6\n",
    "n_samples =250"
   ]
  },
  {
   "cell_type": "markdown",
   "metadata": {},
   "source": [
    "To generate our data, we're going to pick 6 random points, which we'll call centroids, and for each point we're going to generate 250 random points about it.\n",
    "\n",
    "In statistical parlance, we're going to simulate 1500 realizations from 6 different bivariate normal distributions (250 each) with random centroids over the range -35, 35."
   ]
  },
  {
   "cell_type": "code",
   "execution_count": 4,
   "metadata": {
    "ExecuteTime": {
     "end_time": "2017-09-20T09:48:21.447261Z",
     "start_time": "2017-09-20T09:48:21.387482Z"
    },
    "collapsed": true
   },
   "outputs": [],
   "source": [
    "centroids = np.random.uniform(-35, 35, (n_clusters, 2))\n",
    "slices = [np.random.multivariate_normal(centroids[i], np.diag([5., 5.]), n_samples)\n",
    "           for i in range(n_clusters)]\n",
    "data = np.concatenate(slices).astype(np.float32)"
   ]
  },
  {
   "cell_type": "markdown",
   "metadata": {},
   "source": [
    "Below we can see each centroid marked w/ X, and the coloring associated to each respective cluster."
   ]
  },
  {
   "cell_type": "code",
   "execution_count": 5,
   "metadata": {
    "ExecuteTime": {
     "end_time": "2017-09-20T09:48:22.451932Z",
     "start_time": "2017-09-20T09:48:22.211775Z"
    }
   },
   "outputs": [
    {
     "data": {
      "image/png": "[encoded data removed]",
      "text/plain": [
       "<matplotlib.figure.Figure at 0x7f6196e837f0>"
      ]
     },
     "metadata": {},
     "output_type": "display_data"
    }
   ],
   "source": [
    "kmeans.plot_data(centroids, data, n_samples)"
   ]
  },
  {
   "cell_type": "markdown",
   "metadata": {
    "collapsed": true
   },
   "source": [
    "## K means"
   ]
  },
  {
   "cell_type": "markdown",
   "metadata": {},
   "source": [
    "The goal of clustering is to identify these clusters, defined by their centroids, given the raw data with no labels. Once these centroids have been identified, each point is labelled as belonging to the centroid it is closest to.\n",
    "\n",
    "K means clustering is a simple and popular approach of finding appropriate centroids. It does this by taking random centroids, and iteratively moving them to make the clusters as compact as possible.\n",
    "\n",
    "The algorithm is very simple:\n",
    "- Select the number of clusters N you want to find\n",
    "- Guess N random centroids (more on this below)\n",
    "- While centroids change:\n",
    "    - Create clusters by assigning each point to the nearest centroid\n",
    "    - For each cluster, define the new centroid as the centroid of all points assigned to it\n",
    "    \n",
    "Typically the algorithm is terminated once the change in centroids is negligible or after a certain number of iterations.\n",
    "\n",
    "While guessing random centroids is fine in theory, most implementations use the data itself to identify initial cluster points. This speeds up convergence by initializing centroids in the appropriate regime. Typically, inital points are selected amongst the data and tries to pick them to be as far apart as possible."
   ]
  },
  {
   "cell_type": "code",
   "execution_count": 6,
   "metadata": {
    "ExecuteTime": {
     "end_time": "2017-09-20T09:48:25.887726Z",
     "start_time": "2017-09-20T09:48:25.851158Z"
    },
    "collapsed": true
   },
   "outputs": [],
   "source": [
    "k = Kmeans(data, n_clusters)"
   ]
  },
  {
   "cell_type": "code",
   "execution_count": 7,
   "metadata": {
    "ExecuteTime": {
     "end_time": "2017-09-20T09:48:26.475440Z",
     "start_time": "2017-09-20T09:48:26.083328Z"
    },
    "collapsed": true
   },
   "outputs": [],
   "source": [
    "sess = tf.InteractiveSession()"
   ]
  },
  {
   "cell_type": "code",
   "execution_count": 8,
   "metadata": {
    "ExecuteTime": {
     "end_time": "2017-09-20T09:48:26.692396Z",
     "start_time": "2017-09-20T09:48:26.476894Z"
    },
    "collapsed": true
   },
   "outputs": [],
   "source": [
    "tf.global_variables_initializer().run()\n",
    "initial_centroids = k.find_initial_centroids(n_clusters).eval()"
   ]
  },
  {
   "cell_type": "markdown",
   "metadata": {},
   "source": [
    "Inital \"random\" guesses, based on the data."
   ]
  },
  {
   "cell_type": "code",
   "execution_count": 9,
   "metadata": {
    "ExecuteTime": {
     "end_time": "2017-09-20T09:48:27.445868Z",
     "start_time": "2017-09-20T09:48:27.188035Z"
    }
   },
   "outputs": [
    {
     "data": {
      "image/png": "[encoded data removed]",
      "text/plain": [
       "<matplotlib.figure.Figure at 0x7f618f463630>"
      ]
     },
     "metadata": {},
     "output_type": "display_data"
    }
   ],
   "source": [
    "kmeans.plot_data(initial_centroids, data, n_samples)"
   ]
  },
  {
   "cell_type": "code",
   "execution_count": 10,
   "metadata": {
    "ExecuteTime": {
     "end_time": "2017-09-20T09:48:27.619925Z",
     "start_time": "2017-09-20T09:48:27.595667Z"
    },
    "collapsed": true
   },
   "outputs": [],
   "source": [
    "curr_centroids = tf.Variable(initial_centroids)\n",
    "nearest_indices = k.assign_to_nearest(curr_centroids)\n",
    "updated_centroids = k.update_centroids(nearest_indices)\n",
    "tf.global_variables_initializer().run()"
   ]
  },
  {
   "cell_type": "markdown",
   "metadata": {},
   "source": [
    "Updated centroids after one iteration."
   ]
  },
  {
   "cell_type": "code",
   "execution_count": 11,
   "metadata": {
    "ExecuteTime": {
     "end_time": "2017-09-20T09:48:29.483539Z",
     "start_time": "2017-09-20T09:48:29.212202Z"
    }
   },
   "outputs": [
    {
     "data": {
      "image/png": "[encoded data removed]",
      "text/plain": [
       "<matplotlib.figure.Figure at 0x7f618c06c470>"
      ]
     },
     "metadata": {},
     "output_type": "display_data"
    }
   ],
   "source": [
    "kmeans.plot_data(updated_centroids.eval(), data, n_samples)"
   ]
  },
  {
   "cell_type": "code",
   "execution_count": 12,
   "metadata": {
    "ExecuteTime": {
     "end_time": "2017-09-20T09:48:29.560568Z",
     "start_time": "2017-09-20T09:48:29.554897Z"
    }
   },
   "outputs": [
    {
     "data": {
      "text/plain": [
       "<tf.Tensor 'Assign:0' shape=(6, 2) dtype=float32_ref>"
      ]
     },
     "execution_count": 12,
     "metadata": {},
     "output_type": "execute_result"
    }
   ],
   "source": [
    "curr_centroids.assign(updated_centroids)"
   ]
  },
  {
   "cell_type": "code",
   "execution_count": 13,
   "metadata": {
    "ExecuteTime": {
     "end_time": "2017-09-20T09:48:30.461599Z",
     "start_time": "2017-09-20T09:48:30.115665Z"
    },
    "collapsed": true
   },
   "outputs": [],
   "source": [
    "with tf.Session().as_default(): new_centroids = k.run()"
   ]
  },
  {
   "cell_type": "code",
   "execution_count": 14,
   "metadata": {
    "ExecuteTime": {
     "end_time": "2017-09-20T09:48:30.795812Z",
     "start_time": "2017-09-20T09:48:30.587482Z"
    }
   },
   "outputs": [
    {
     "data": {
      "image/png": "[encoded data removed]",
      "text/plain": [
       "<matplotlib.figure.Figure at 0x7f617c0f9da0>"
      ]
     },
     "metadata": {},
     "output_type": "display_data"
    }
   ],
   "source": [
    "kmeans.plot_data(new_centroids, data, n_samples)"
   ]
  },
  {
   "cell_type": "markdown",
   "metadata": {},
   "source": [
    "The result are centroids that have minimized the total distance between all points and their centroids; the centroids are \"optimal\" in this sense.\n",
    "\n",
    "There are some problems with K-means clustering.\n",
    "* Number of clusters needs to be known a priori\n",
    "    * This is an obvious failure of an unsupervised learning algorithm; we want the data to \"speak for itself\"\n",
    "    * Difficult to identify in higher dimensions\n",
    "    \n",
    "* Naive approach only works if the clusters are the same shape\n",
    "    * This is because centroid is identified using euclidean distance"
   ]
  },
  {
   "cell_type": "markdown",
   "metadata": {
    "collapsed": true
   },
   "source": [
    "## Mean shift"
   ]
  },
  {
   "cell_type": "markdown",
   "metadata": {},
   "source": [
    "Mean shift clustering is a newer and less well-known approach.\n",
    "\n",
    "The algorithm is as follows:\n",
    "* Take each data point X\n",
    "* For each x in X, find the distance between point x and every other point in X\n",
    "* Create weights for each point in X by using the Gaussian function of that point's distance to x\n",
    "    * Gaussian function here is the density function of a Normal distribution of distances with mean 0\n",
    "    * This weighting approach penalizes points further away from x\n",
    "    * The rate at which the weights fall to zero is determined by the bandwidth, which is the standard deviation of the Gaussian\n",
    "* Update x as the weighted average of all other points in X, defined by the weights determined in the previous step\n",
    "\n",
    "This will iteratively push points that are close together even closer until they are next to each other."
   ]
  },
  {
   "cell_type": "code",
   "execution_count": 15,
   "metadata": {
    "ExecuteTime": {
     "end_time": "2017-09-20T09:48:32.512485Z",
     "start_time": "2017-09-20T09:48:32.507337Z"
    },
    "collapsed": true
   },
   "outputs": [],
   "source": [
    "def gaussian(d, bw):\n",
    "    return np.exp(-0.5*((d/bw))**2) / (bw*math.sqrt(2*math.pi))"
   ]
  },
  {
   "cell_type": "markdown",
   "metadata": {},
   "source": [
    "In our implementation, we choose the bandwidth to be 2.5. \n",
    "\n",
    "One easy way to choose bandwidth is to find which bandwidth covers one third of the data."
   ]
  },
  {
   "cell_type": "code",
   "execution_count": 16,
   "metadata": {
    "ExecuteTime": {
     "end_time": "2017-09-20T09:48:33.209152Z",
     "start_time": "2017-09-20T09:48:33.195529Z"
    },
    "collapsed": true
   },
   "outputs": [],
   "source": [
    "def meanshift(data):\n",
    "    X = np.copy(data)\n",
    "    for it in range(5):\n",
    "        for i, x in enumerate(X):\n",
    "            dist = np.sqrt(((x-X)**2).sum(1))\n",
    "            weight = gaussian(dist, 2.5)\n",
    "            X[i] = (np.expand_dims(weight,1)*X).sum(0) / weight.sum()\n",
    "    return X"
   ]
  },
  {
   "cell_type": "code",
   "execution_count": 17,
   "metadata": {
    "ExecuteTime": {
     "end_time": "2017-09-20T09:48:34.349638Z",
     "start_time": "2017-09-20T09:48:33.579283Z"
    }
   },
   "outputs": [
    {
     "name": "stdout",
     "output_type": "stream",
     "text": [
      "CPU times: user 772 ms, sys: 4 ms, total: 776 ms\n",
      "Wall time: 766 ms\n"
     ]
    }
   ],
   "source": [
    "%time X=meanshift(data)"
   ]
  },
  {
   "cell_type": "markdown",
   "metadata": {},
   "source": [
    "We can see that mean shift clustering has almost reproduced our original clustering. The one exception are the very close clusters, but if we really wanted to differentiate them we could lower the bandwidth.\n",
    "\n",
    "What is impressive is that this algorithm nearly reproduced the original clusters without telling it how many clusters there should be."
   ]
  },
  {
   "cell_type": "code",
   "execution_count": 18,
   "metadata": {
    "ExecuteTime": {
     "end_time": "2017-09-20T09:48:35.498038Z",
     "start_time": "2017-09-20T09:48:35.283283Z"
    }
   },
   "outputs": [
    {
     "data": {
      "image/png": "[encoded data removed]",
      "text/plain": [
       "<matplotlib.figure.Figure at 0x7f617c053358>"
      ]
     },
     "metadata": {},
     "output_type": "display_data"
    }
   ],
   "source": [
    "kmeans.plot_data(centroids+2, X, n_samples)"
   ]
  },
  {
   "cell_type": "markdown",
   "metadata": {},
   "source": [
    "We should be able to accelerate this algorithm with a GPU."
   ]
  },
  {
   "cell_type": "markdown",
   "metadata": {},
   "source": [
    "## PyTorch"
   ]
  },
  {
   "cell_type": "markdown",
   "metadata": {},
   "source": [
    "GPU-accelerated mean shift implementation in pytorch"
   ]
  },
  {
   "cell_type": "code",
   "execution_count": 19,
   "metadata": {
    "ExecuteTime": {
     "end_time": "2017-09-20T09:48:40.832736Z",
     "start_time": "2017-09-20T09:48:40.228492Z"
    },
    "collapsed": true,
    "scrolled": true
   },
   "outputs": [],
   "source": [
    "import torch_utils; reload(torch_utils)\n",
    "from torch_utils import *"
   ]
  },
  {
   "cell_type": "markdown",
   "metadata": {},
   "source": [
    "The advantage of pytorch is that it's very similar to numpy."
   ]
  },
  {
   "cell_type": "code",
   "execution_count": 20,
   "metadata": {
    "ExecuteTime": {
     "end_time": "2017-09-20T09:48:41.617444Z",
     "start_time": "2017-09-20T09:48:41.611890Z"
    },
    "collapsed": true
   },
   "outputs": [],
   "source": [
    "def gaussian(d, bw):\n",
    "    return torch.exp(-0.5*((d/bw))**2) / (bw*math.sqrt(2*math.pi))"
   ]
  },
  {
   "cell_type": "markdown",
   "metadata": {},
   "source": [
    "Torch does not support broadcasting, therefore Jeremy has replaced the distance subtraction line with a subtraction function from his custom pytorch broadcasting library."
   ]
  },
  {
   "cell_type": "code",
   "execution_count": 21,
   "metadata": {
    "ExecuteTime": {
     "end_time": "2017-09-20T09:48:42.449497Z",
     "start_time": "2017-09-20T09:48:42.426580Z"
    },
    "collapsed": true
   },
   "outputs": [],
   "source": [
    "# - Original\n",
    "# def meanshift(data):\n",
    "#     X = torch.FloatTensor(np.copy(data))\n",
    "#     for it in range(5):\n",
    "#         for i, x in enumerate(X):\n",
    "#             dist = torch.sqrt((sub(x, X)**2).sum(1))\n",
    "#             weight = gaussian(dist, 3)\n",
    "#             num = mul(weight, X).sum(0)\n",
    "#             X[i] = num / weight.sum()\n",
    "#     return X\n",
    "\n",
    "# - Modified\n",
    "def meanshift(data):\n",
    "    X = torch.FloatTensor(np.copy(data))\n",
    "    for it in range(5):\n",
    "        for i, x in enumerate(X):\n",
    "            dist = torch.sqrt((sub(x, X)**2).sum(1))\n",
    "            weight = gaussian(dist, 3).unsqueeze(1)\n",
    "            num = mul(weight, X).sum(0).unsqueeze(0)\n",
    "            X[i] = num / weight.sum()\n",
    "    return X"
   ]
  },
  {
   "cell_type": "markdown",
   "metadata": {},
   "source": [
    "This implementation actually takes longer."
   ]
  },
  {
   "cell_type": "code",
   "execution_count": 22,
   "metadata": {
    "ExecuteTime": {
     "end_time": "2017-09-20T09:48:48.164228Z",
     "start_time": "2017-09-20T09:48:47.123097Z"
    }
   },
   "outputs": [
    {
     "name": "stdout",
     "output_type": "stream",
     "text": [
      "CPU times: user 1.02 s, sys: 0 ns, total: 1.02 s\n",
      "Wall time: 1.04 s\n"
     ]
    }
   ],
   "source": [
    "%time X = meanshift(data).numpy()"
   ]
  },
  {
   "cell_type": "markdown",
   "metadata": {},
   "source": [
    "All the computation is happening in the <tt>for</tt> loop, which isn't accelerated by pytorch.\n",
    "\n",
    "Each iteration launches a new cuda kernel, which takes time and slows the algorithm down as a whole."
   ]
  },
  {
   "cell_type": "code",
   "execution_count": 23,
   "metadata": {
    "ExecuteTime": {
     "end_time": "2017-09-20T09:48:48.757309Z",
     "start_time": "2017-09-20T09:48:48.753037Z"
    }
   },
   "outputs": [
    {
     "data": {
      "text/plain": [
       "array([[ -2.3989501 ,  25.75479698],\n",
       "       [ -2.64296293,  25.86227036],\n",
       "       [ -2.41972709,  25.76394844],\n",
       "       ..., \n",
       "       [ -3.13557076,  26.07924271],\n",
       "       [ -3.13563132,  26.07926559],\n",
       "       [ -3.13566852,  26.07929039]], dtype=float32)"
      ]
     },
     "execution_count": 23,
     "metadata": {},
     "output_type": "execute_result"
    }
   ],
   "source": [
    "X"
   ]
  },
  {
   "cell_type": "code",
   "execution_count": 24,
   "metadata": {
    "ExecuteTime": {
     "end_time": "2017-09-20T09:48:50.014276Z",
     "start_time": "2017-09-20T09:48:49.795638Z"
    }
   },
   "outputs": [
    {
     "data": {
      "image/png": "[encoded data removed]",
      "text/plain": [
       "<matplotlib.figure.Figure at 0x7f61746622b0>"
      ]
     },
     "metadata": {},
     "output_type": "display_data"
    }
   ],
   "source": [
    "kmeans.plot_data(centroids+2, X, n_samples)"
   ]
  },
  {
   "cell_type": "markdown",
   "metadata": {},
   "source": [
    "### GPU"
   ]
  },
  {
   "cell_type": "markdown",
   "metadata": {},
   "source": [
    "To truly accelerate the algorithm, we need to be performing updates on a batch of points per iteration, instead of just one as we were doing."
   ]
  },
  {
   "cell_type": "code",
   "execution_count": 25,
   "metadata": {
    "ExecuteTime": {
     "end_time": "2017-09-20T09:48:55.592706Z",
     "start_time": "2017-09-20T09:48:55.587516Z"
    },
    "collapsed": true
   },
   "outputs": [],
   "source": [
    "def dist_b(a,b):\n",
    "    return torch.sqrt((sub(a.unsqueeze(0),b.unsqueeze(1))**2).sum(2))"
   ]
  },
  {
   "cell_type": "code",
   "execution_count": 26,
   "metadata": {
    "ExecuteTime": {
     "end_time": "2017-09-20T09:49:21.403933Z",
     "start_time": "2017-09-20T09:49:21.359489Z"
    }
   },
   "outputs": [
    {
     "data": {
      "text/plain": [
       "\n",
       " 0.4442  0.4904  0.3565\n",
       " 0.6733  0.7740  0.5640\n",
       "[torch.FloatTensor of size 2x3]"
      ]
     },
     "execution_count": 26,
     "metadata": {},
     "output_type": "execute_result"
    }
   ],
   "source": [
    "a=torch.rand(2,2)\n",
    "b=torch.rand(3,2)\n",
    "# dist_b(b, a).squeeze(2)  # - not sure why .squeeze(2)\n",
    "dist_b(b, a)"
   ]
  },
  {
   "cell_type": "code",
   "execution_count": 27,
   "metadata": {
    "ExecuteTime": {
     "end_time": "2017-09-20T09:49:27.873321Z",
     "start_time": "2017-09-20T09:49:27.867918Z"
    },
    "collapsed": true
   },
   "outputs": [],
   "source": [
    "def gaussian(d, bw):\n",
    "    return torch.exp(-0.5*((d/bw))**2) / (bw*math.sqrt(2*math.pi))"
   ]
  },
  {
   "cell_type": "code",
   "execution_count": 28,
   "metadata": {
    "ExecuteTime": {
     "end_time": "2017-09-20T09:49:28.503598Z",
     "start_time": "2017-09-20T09:49:28.499178Z"
    },
    "collapsed": true
   },
   "outputs": [],
   "source": [
    "def sum_sqz(a,axis): return a.sum(axis).squeeze(axis)"
   ]
  },
  {
   "cell_type": "code",
   "execution_count": 29,
   "metadata": {
    "ExecuteTime": {
     "end_time": "2017-09-20T09:49:29.228746Z",
     "start_time": "2017-09-20T09:49:29.203974Z"
    },
    "collapsed": true
   },
   "outputs": [],
   "source": [
    "# - Original\n",
    "# def meanshift(data, bs=500):\n",
    "#     n = len(data)\n",
    "#     X = torch.FloatTensor(np.copy(data)).cuda()\n",
    "#     for it in range(5):\n",
    "#         for i in range(0,n,bs):\n",
    "#             s = slice(i,min(n,i+bs))\n",
    "#             weight = gaussian(dist_b(X, X[s]), 2)\n",
    "#             num = sum_sqz(mul(weight, X), 1)\n",
    "#             X[s] = div(num, sum_sqz(weight, 1))\n",
    "#     return X\n",
    "\n",
    "# - Modified\n",
    "def meanshift(data, bs=500):\n",
    "    n = len(data)\n",
    "    X = torch.FloatTensor(np.copy(data)).cuda()\n",
    "    for it in range(5):\n",
    "        for i in range(0,n,bs):\n",
    "            s = slice(i,min(n,i+bs))\n",
    "            weight = gaussian(dist_b(X, X[s]), 2).unsqueeze(2)  # - Adapted to obtain working shape\n",
    "            num = sum_sqz(mul(weight, X), 1)\n",
    "            X[s] = div(num, sum_sqz(weight, 1).unsqueeze(1))  # - Adapted to obtain working shape\n",
    "    return X"
   ]
  },
  {
   "cell_type": "markdown",
   "metadata": {},
   "source": [
    "Although each iteration still has to launch a new cuda kernel, there are now fewer iterations, and the acceleration from updating a batch of points more than makes up for it."
   ]
  },
  {
   "cell_type": "code",
   "execution_count": 30,
   "metadata": {
    "ExecuteTime": {
     "end_time": "2017-09-20T09:50:10.570640Z",
     "start_time": "2017-09-20T09:50:07.802851Z"
    }
   },
   "outputs": [
    {
     "name": "stdout",
     "output_type": "stream",
     "text": [
      "CPU times: user 1.99 s, sys: 488 ms, total: 2.48 s\n",
      "Wall time: 2.76 s\n"
     ]
    }
   ],
   "source": [
    "%time X = meanshift(data).cpu().numpy()"
   ]
  },
  {
   "cell_type": "code",
   "execution_count": 31,
   "metadata": {
    "ExecuteTime": {
     "end_time": "2017-09-20T09:50:10.723403Z",
     "start_time": "2017-09-20T09:50:10.572584Z"
    }
   },
   "outputs": [
    {
     "data": {
      "image/png": "[encoded data removed]",
      "text/plain": [
       "<matplotlib.figure.Figure at 0x7f6124f9c470>"
      ]
     },
     "metadata": {},
     "output_type": "display_data"
    }
   ],
   "source": [
    "kmeans.plot_data(centroids+2, X, n_samples)"
   ]
  },
  {
   "cell_type": "markdown",
   "metadata": {},
   "source": [
    "## LSH"
   ]
  },
  {
   "cell_type": "markdown",
   "metadata": {},
   "source": [
    "TO-DO: Needs notes?"
   ]
  },
  {
   "cell_type": "code",
   "execution_count": 32,
   "metadata": {
    "ExecuteTime": {
     "end_time": "2017-09-20T09:50:19.373883Z",
     "start_time": "2017-09-20T09:50:19.083661Z"
    },
    "collapsed": true
   },
   "outputs": [],
   "source": [
    "from sklearn.neighbors import LSHForest, KDTree, BallTree"
   ]
  },
  {
   "cell_type": "code",
   "execution_count": 33,
   "metadata": {
    "ExecuteTime": {
     "end_time": "2017-09-20T09:50:19.452725Z",
     "start_time": "2017-09-20T09:50:19.450090Z"
    },
    "collapsed": true
   },
   "outputs": [],
   "source": [
    "n_clusters=6\n",
    "n_samples =2500"
   ]
  },
  {
   "cell_type": "code",
   "execution_count": 34,
   "metadata": {
    "ExecuteTime": {
     "end_time": "2017-09-20T09:50:19.767437Z",
     "start_time": "2017-09-20T09:50:19.754776Z"
    },
    "collapsed": true
   },
   "outputs": [],
   "source": [
    "centroids = np.random.uniform(-35, 35, (n_clusters, 2))\n",
    "slices = [np.random.multivariate_normal(centroids[i], np.diag([5., 5.]), n_samples)\n",
    "           for i in range(n_clusters)]\n",
    "data = np.concatenate(slices).astype(np.float32)"
   ]
  },
  {
   "cell_type": "code",
   "execution_count": 35,
   "metadata": {
    "ExecuteTime": {
     "end_time": "2017-09-20T09:50:20.079760Z",
     "start_time": "2017-09-20T09:50:20.067013Z"
    }
   },
   "outputs": [
    {
     "data": {
      "text/plain": [
       "array([[   0, 4496, 1639],\n",
       "       [   1, 3752,   77],\n",
       "       [   2,  391, 1679],\n",
       "       [   3,  863, 1551],\n",
       "       [   4, 2157, 1914],\n",
       "       [   5, 1334,  301],\n",
       "       [   6, 1455,  901],\n",
       "       [   7, 2272,  112],\n",
       "       [   8, 1794, 1062],\n",
       "       [   9, 4165, 4486]])"
      ]
     },
     "execution_count": 35,
     "metadata": {},
     "output_type": "execute_result"
    }
   ],
   "source": [
    "nn = KDTree(data)\n",
    "nearest = nn.query(data[:10], 3, False); nearest"
   ]
  },
  {
   "cell_type": "code",
   "execution_count": 36,
   "metadata": {
    "ExecuteTime": {
     "end_time": "2017-09-20T09:50:20.381008Z",
     "start_time": "2017-09-20T09:50:20.363186Z"
    }
   },
   "outputs": [
    {
     "data": {
      "text/plain": [
       "array([[   0, 4496, 1639],\n",
       "       [   1, 3752,   77],\n",
       "       [   2,  391, 1679],\n",
       "       [   3,  863, 1551],\n",
       "       [   4, 2157, 1914],\n",
       "       [   5, 1334,  301],\n",
       "       [   6, 1455,  901],\n",
       "       [   7, 2272,  112],\n",
       "       [   8, 1794, 1062],\n",
       "       [   9, 4165, 4486]])"
      ]
     },
     "execution_count": 36,
     "metadata": {},
     "output_type": "execute_result"
    }
   ],
   "source": [
    "nn = BallTree(data)\n",
    "nearest = nn.query(data[:10], 3, False); nearest"
   ]
  },
  {
   "cell_type": "code",
   "execution_count": 37,
   "metadata": {
    "ExecuteTime": {
     "end_time": "2017-09-20T09:50:21.190592Z",
     "start_time": "2017-09-20T09:50:20.882765Z"
    }
   },
   "outputs": [
    {
     "data": {
      "image/png": "[encoded data removed]",
      "text/plain": [
       "<matplotlib.figure.Figure at 0x7f6124fbe0b8>"
      ]
     },
     "metadata": {},
     "output_type": "display_data"
    }
   ],
   "source": [
    "kmeans.plot_data(centroids, data, n_samples)"
   ]
  },
  {
   "cell_type": "code",
   "execution_count": 38,
   "metadata": {
    "ExecuteTime": {
     "end_time": "2017-09-20T09:50:22.041777Z",
     "start_time": "2017-09-20T09:50:22.034945Z"
    },
    "collapsed": true
   },
   "outputs": [],
   "source": [
    "def index_b(a,idxs):\n",
    "    ir, ic = idxs.size()\n",
    "    ar, ac = a.size()\n",
    "    return a[idxs.view(ir*ic)].view(ir,ic,ac)"
   ]
  },
  {
   "cell_type": "code",
   "execution_count": 39,
   "metadata": {
    "ExecuteTime": {
     "end_time": "2017-09-20T09:50:22.481089Z",
     "start_time": "2017-09-20T09:50:22.466836Z"
    },
    "collapsed": true
   },
   "outputs": [],
   "source": [
    "a = FT([[1,2],[3.,4],[5,6]])\n",
    "b = torch.LongTensor([[0,1], [1,2]])\n",
    "exp = FT([[[1,2], [3,4.]], [[3,4], [5,6]]])\n",
    "assert(torch.equal(index_b(a,b), exp))"
   ]
  },
  {
   "cell_type": "code",
   "execution_count": 40,
   "metadata": {
    "ExecuteTime": {
     "end_time": "2017-09-20T09:50:22.954573Z",
     "start_time": "2017-09-20T09:50:22.947825Z"
    },
    "collapsed": true
   },
   "outputs": [],
   "source": [
    "def dist_b_n(a,b,pts):\n",
    "    dists = sub(pts,b.unsqueeze(1))**2\n",
    "    return torch.sqrt(dists.sum(2))"
   ]
  },
  {
   "cell_type": "code",
   "execution_count": 41,
   "metadata": {
    "ExecuteTime": {
     "end_time": "2017-09-20T09:50:36.492415Z",
     "start_time": "2017-09-20T09:50:36.453197Z"
    },
    "collapsed": true
   },
   "outputs": [],
   "source": [
    "# - Original\n",
    "# def meanshift(data, bs=512):\n",
    "#     n = len(data)\n",
    "#     X = torch.FloatTensor(np.copy(data)).cuda()\n",
    "#     for it in range(5):\n",
    "#         d = X.cpu().numpy()\n",
    "#         nn = BallTree(d)\n",
    "#         for i in range(0,n,bs):\n",
    "#             s = slice(i,min(n,i+bs))\n",
    "#             nearest = torch.LongTensor(nn.query(d[s], 50, False)).cuda()\n",
    "#             pts = index_b(X, nearest)\n",
    "#             weight = gaussian(dist_b_n(X, X[s], pts), 2)\n",
    "#             num = sum_sqz(mul(weight, pts), 1)\n",
    "#             X[s] = div(num, sum_sqz(weight, 1))\n",
    "#     return X\n",
    "\n",
    "# - Modified\n",
    "def meanshift(data, bs=512):\n",
    "    n = len(data)\n",
    "    X = torch.FloatTensor(np.copy(data)).cuda()\n",
    "    for it in range(5):\n",
    "        d = X.cpu().numpy()\n",
    "        nn = BallTree(d)\n",
    "        for i in range(0,n,bs):\n",
    "            s = slice(i,min(n,i+bs))\n",
    "            nearest = torch.LongTensor(nn.query(d[s], 50, False)).cuda()\n",
    "            pts = index_b(X, nearest)\n",
    "            weight = gaussian(dist_b_n(X, X[s], pts), 2).unsqueeze(2)\n",
    "            num = sum_sqz(mul(weight, pts), 1)\n",
    "            X[s] = div(num, sum_sqz(weight, 1).unsqueeze(1))\n",
    "    return X"
   ]
  },
  {
   "cell_type": "code",
   "execution_count": 42,
   "metadata": {
    "ExecuteTime": {
     "end_time": "2017-09-20T09:50:43.129547Z",
     "start_time": "2017-09-20T09:50:41.859149Z"
    }
   },
   "outputs": [
    {
     "name": "stdout",
     "output_type": "stream",
     "text": [
      "CPU times: user 1.29 s, sys: 0 ns, total: 1.29 s\n",
      "Wall time: 1.27 s\n"
     ]
    }
   ],
   "source": [
    "%time data = meanshift(data).cpu().numpy()"
   ]
  },
  {
   "cell_type": "code",
   "execution_count": 43,
   "metadata": {
    "ExecuteTime": {
     "end_time": "2017-09-20T09:50:43.341017Z",
     "start_time": "2017-09-20T09:50:43.130951Z"
    }
   },
   "outputs": [
    {
     "data": {
      "image/png": "[encoded data removed]",
      "text/plain": [
       "<matplotlib.figure.Figure at 0x7f61746739e8>"
      ]
     },
     "metadata": {},
     "output_type": "display_data"
    }
   ],
   "source": [
    "kmeans.plot_data(centroids+1, data, n_samples)"
   ]
  },
  {
   "cell_type": "code",
   "execution_count": null,
   "metadata": {
    "collapsed": true
   },
   "outputs": [],
   "source": []
  }
 ],
 "metadata": {
  "anaconda-cloud": {},
  "kernelspec": {
   "display_name": "p3",
   "language": "python",
   "name": "p3"
  },
  "language_info": {
   "codemirror_mode": {
    "name": "ipython",
    "version": 3
   },
   "file_extension": ".py",
   "mimetype": "text/x-python",
   "name": "python",
   "nbconvert_exporter": "python",
   "pygments_lexer": "ipython3",
   "version": "3.5.2"
  },
  "toc": {
   "colors": {
    "hover_highlight": "#DAA520",
    "navigate_num": "#000000",
    "navigate_text": "#333333",
    "running_highlight": "#FF0000",
    "selected_highlight": "#FFD700",
    "sidebar_border": "#EEEEEE",
    "wrapper_background": "#FFFFFF"
   },
   "moveMenuLeft": true,
   "nav_menu": {
    "height": "138px",
    "width": "252px"
   },
   "navigate_menu": true,
   "number_sections": true,
   "sideBar": true,
   "threshold": 4,
   "toc_cell": false,
   "toc_section_display": "block",
   "toc_window_display": false,
   "widenNotebook": false
  }
 },
 "nbformat": 4,
 "nbformat_minor": 2
}
