{
 "cells": [
  {
   "cell_type": "code",
   "execution_count": 1,
   "metadata": {
    "ExecuteTime": {
     "end_time": "2017-09-19T15:56:24.189609Z",
     "start_time": "2017-09-19T15:56:14.670375Z"
    }
   },
   "outputs": [
    {
     "name": "stderr",
     "output_type": "stream",
     "text": [
      "Using TensorFlow backend.\n",
      "/home/roebius/pj/p3/lib/python3.5/site-packages/sklearn/cross_validation.py:44: DeprecationWarning: This module was deprecated in version 0.18 in favor of the model_selection module into which all the refactored classes and functions are moved. Also note that the interface of the new CV iterators are different from that of this module. This module will be removed in 0.20.\n",
      "  \"This module will be removed in 0.20.\", DeprecationWarning)\n"
     ]
    }
   ],
   "source": [
    "import ast\n",
    "\n",
    "import pandas as pd\n",
    "\n",
    "import datetime\n",
    "\n",
    "from keras.layers import Input, Dense, Embedding, concatenate, dot, Flatten, Merge, BatchNormalization, Lambda\n",
    "from keras.models import Model, load_model\n",
    "from keras.regularizers import l2\n",
    "import keras.backend as K\n",
    "from keras.optimizers import SGD\n",
    "import numpy as np\n",
    "\n",
    "from sklearn.cluster import MeanShift, estimate_bandwidth\n",
    "\n",
    "import utils2\n",
    "\n",
    "import data\n",
    "\n",
    "from sklearn.model_selection import train_test_split\n",
    "\n",
    "from bcolz_array_iterator import BcolzArrayIterator\n",
    "\n",
    "import bcolz\n",
    "\n",
    "from keras_tqdm import TQDMNotebookCallback\n",
    "from keras.callbacks import ModelCheckpoint\n",
    "from keras.optimizers import Adam"
   ]
  },
  {
   "cell_type": "markdown",
   "metadata": {},
   "source": [
    "Below path is a shared directory, swap to own"
   ]
  },
  {
   "cell_type": "code",
   "execution_count": 2,
   "metadata": {
    "ExecuteTime": {
     "end_time": "2017-09-19T15:56:24.194870Z",
     "start_time": "2017-09-19T15:56:24.191054Z"
    },
    "collapsed": true
   },
   "outputs": [],
   "source": [
    "data_path = \"data/taxi/\""
   ]
  },
  {
   "cell_type": "markdown",
   "metadata": {
    "heading_collapsed": true
   },
   "source": [
    "## Replication of 'csv_to_hdf5.py'"
   ]
  },
  {
   "cell_type": "markdown",
   "metadata": {
    "hidden": true
   },
   "source": [
    "Original repo used some bizarre tuple method of reading in data to save in a hdf5 file using fuel. The following does the same approach in that module, only using pandas and saving in a bcolz format (w/ training data as example)"
   ]
  },
  {
   "cell_type": "code",
   "execution_count": null,
   "metadata": {
    "ExecuteTime": {
     "end_time": "2017-09-19T10:28:07.645214Z",
     "start_time": "2017-09-19T10:28:07.594492Z"
    },
    "collapsed": true,
    "hidden": true
   },
   "outputs": [],
   "source": [
    "meta = pd.read_csv(data_path+'metaData_taxistandsID_name_GPSlocation.csv', header=0)"
   ]
  },
  {
   "cell_type": "code",
   "execution_count": null,
   "metadata": {
    "ExecuteTime": {
     "end_time": "2017-09-19T10:28:07.675125Z",
     "start_time": "2017-09-19T10:28:07.648059Z"
    },
    "collapsed": true,
    "hidden": true
   },
   "outputs": [],
   "source": [
    "meta.head()"
   ]
  },
  {
   "cell_type": "code",
   "execution_count": null,
   "metadata": {
    "ExecuteTime": {
     "end_time": "2017-09-19T10:28:29.221269Z",
     "start_time": "2017-09-19T10:28:07.677076Z"
    },
    "collapsed": true,
    "hidden": true,
    "scrolled": true
   },
   "outputs": [],
   "source": [
    "train = pd.read_csv(data_path+'train/train.csv', header=0)"
   ]
  },
  {
   "cell_type": "code",
   "execution_count": null,
   "metadata": {
    "ExecuteTime": {
     "end_time": "2017-09-19T10:28:29.232916Z",
     "start_time": "2017-09-19T10:28:29.222625Z"
    },
    "collapsed": true,
    "hidden": true
   },
   "outputs": [],
   "source": [
    "train.head()"
   ]
  },
  {
   "cell_type": "code",
   "execution_count": null,
   "metadata": {
    "ExecuteTime": {
     "end_time": "2017-09-19T10:28:29.290912Z",
     "start_time": "2017-09-19T10:28:29.234056Z"
    },
    "collapsed": true,
    "hidden": true
   },
   "outputs": [],
   "source": [
    "train['ORIGIN_CALL'] = pd.Series(pd.factorize(train['ORIGIN_CALL'])[0]) + 1"
   ]
  },
  {
   "cell_type": "code",
   "execution_count": null,
   "metadata": {
    "ExecuteTime": {
     "end_time": "2017-09-19T10:28:30.971747Z",
     "start_time": "2017-09-19T10:28:29.293264Z"
    },
    "collapsed": true,
    "hidden": true
   },
   "outputs": [],
   "source": [
    "train['ORIGIN_STAND']=pd.Series([0 if pd.isnull(x) or x=='' else int(x) for x in train[\"ORIGIN_STAND\"]])"
   ]
  },
  {
   "cell_type": "code",
   "execution_count": null,
   "metadata": {
    "ExecuteTime": {
     "end_time": "2017-09-19T10:28:30.995722Z",
     "start_time": "2017-09-19T10:28:30.973344Z"
    },
    "collapsed": true,
    "hidden": true
   },
   "outputs": [],
   "source": [
    "train['TAXI_ID'] = pd.Series(pd.factorize(train['TAXI_ID'])[0]) + 1"
   ]
  },
  {
   "cell_type": "code",
   "execution_count": null,
   "metadata": {
    "ExecuteTime": {
     "end_time": "2017-09-19T10:28:31.500253Z",
     "start_time": "2017-09-19T10:28:30.997789Z"
    },
    "collapsed": true,
    "hidden": true
   },
   "outputs": [],
   "source": [
    "# train['DAY_TYPE'] = pd.Series([ord(x[0]) - ord('A') for x in train['DAY_TYPE']]) \n",
    "train['DAY_TYPE'] = pd.Series([(ord(x[0]) - ord('A')) for x in train['DAY_TYPE']])  # - correct"
   ]
  },
  {
   "cell_type": "markdown",
   "metadata": {
    "hidden": true
   },
   "source": [
    "The array of long/lat coordinates per trip (row) is read in as a string. The function `ast.literal_eval(x)` evaluates the string into the expression it represents (safely). This happens below"
   ]
  },
  {
   "cell_type": "code",
   "execution_count": null,
   "metadata": {
    "ExecuteTime": {
     "end_time": "2017-09-19T10:40:06.522940Z",
     "start_time": "2017-09-19T10:28:31.502102Z"
    },
    "collapsed": true,
    "hidden": true
   },
   "outputs": [],
   "source": [
    "polyline = pd.Series([ast.literal_eval(x) for x in train['POLYLINE']])"
   ]
  },
  {
   "cell_type": "markdown",
   "metadata": {
    "hidden": true
   },
   "source": [
    "Split into latitude/longitude"
   ]
  },
  {
   "cell_type": "code",
   "execution_count": null,
   "metadata": {
    "ExecuteTime": {
     "end_time": "2017-09-19T10:40:18.297983Z",
     "start_time": "2017-09-19T10:40:06.524521Z"
    },
    "collapsed": true,
    "hidden": true
   },
   "outputs": [],
   "source": [
    "train['LATITUDE'] = pd.Series([np.array([point[1] for point in poly],dtype=np.float32) for poly in polyline])"
   ]
  },
  {
   "cell_type": "code",
   "execution_count": null,
   "metadata": {
    "ExecuteTime": {
     "end_time": "2017-09-19T10:40:30.305240Z",
     "start_time": "2017-09-19T10:40:18.299623Z"
    },
    "collapsed": true,
    "hidden": true
   },
   "outputs": [],
   "source": [
    "train['LONGITUDE'] = pd.Series([np.array([point[0] for point in poly],dtype=np.float32) for poly in polyline])"
   ]
  },
  {
   "cell_type": "code",
   "execution_count": null,
   "metadata": {
    "ExecuteTime": {
     "end_time": "2017-09-19T10:47:16.945439Z",
     "start_time": "2017-09-19T10:40:30.306902Z"
    },
    "collapsed": true,
    "hidden": true
   },
   "outputs": [],
   "source": [
    "utils2.save_array(data_path+'train/train.bc', train.as_matrix())"
   ]
  },
  {
   "cell_type": "code",
   "execution_count": null,
   "metadata": {
    "ExecuteTime": {
     "end_time": "2017-09-19T10:47:17.916111Z",
     "start_time": "2017-09-19T10:47:16.947091Z"
    },
    "collapsed": true,
    "hidden": true
   },
   "outputs": [],
   "source": [
    "utils2.save_array(data_path+'train/meta_train.bc', meta.as_matrix())"
   ]
  },
  {
   "cell_type": "markdown",
   "metadata": {
    "heading_collapsed": true
   },
   "source": [
    "## Further Feature Engineering"
   ]
  },
  {
   "cell_type": "markdown",
   "metadata": {
    "hidden": true
   },
   "source": [
    "After converting 'csv_to_hdf5.py' functionality to pandas, I saved that array and then simply constructed the rest of the features as specified in the paper using pandas. I didn't bother seeing how the author did it as it was extremely obtuse and involved the fuel module."
   ]
  },
  {
   "cell_type": "code",
   "execution_count": null,
   "metadata": {
    "ExecuteTime": {
     "end_time": "2017-09-19T10:48:49.713354Z",
     "start_time": "2017-09-19T10:47:17.918933Z"
    },
    "collapsed": true,
    "hidden": true
   },
   "outputs": [],
   "source": [
    "train = pd.DataFrame(utils2.load_array(data_path+'train/train.bc'), columns=['TRIP_ID', 'CALL_TYPE', 'ORIGIN_CALL', 'ORIGIN_STAND', 'TAXI_ID',\n",
    "       'TIMESTAMP', 'DAY_TYPE', 'MISSING_DATA', 'POLYLINE', 'LATITUDE', 'LONGITUDE'])"
   ]
  },
  {
   "cell_type": "code",
   "execution_count": null,
   "metadata": {
    "ExecuteTime": {
     "end_time": "2017-09-19T10:48:50.003229Z",
     "start_time": "2017-09-19T10:48:49.920930Z"
    },
    "collapsed": true,
    "hidden": true
   },
   "outputs": [],
   "source": [
    "train.head()"
   ]
  },
  {
   "cell_type": "markdown",
   "metadata": {
    "hidden": true
   },
   "source": [
    "The paper discusses how many categorical variables there are per category. The following all check out"
   ]
  },
  {
   "cell_type": "code",
   "execution_count": null,
   "metadata": {
    "ExecuteTime": {
     "end_time": "2017-09-19T10:48:50.610327Z",
     "start_time": "2017-09-19T10:48:50.004667Z"
    },
    "collapsed": true,
    "hidden": true
   },
   "outputs": [],
   "source": [
    "train['ORIGIN_CALL'].max()"
   ]
  },
  {
   "cell_type": "code",
   "execution_count": null,
   "metadata": {
    "ExecuteTime": {
     "end_time": "2017-09-19T10:48:52.288025Z",
     "start_time": "2017-09-19T10:48:50.611824Z"
    },
    "collapsed": true,
    "hidden": true
   },
   "outputs": [],
   "source": [
    "train['ORIGIN_STAND'].max()"
   ]
  },
  {
   "cell_type": "code",
   "execution_count": null,
   "metadata": {
    "ExecuteTime": {
     "end_time": "2017-09-19T10:48:52.435744Z",
     "start_time": "2017-09-19T10:48:52.289667Z"
    },
    "collapsed": true,
    "hidden": true,
    "scrolled": true
   },
   "outputs": [],
   "source": [
    "train['TAXI_ID'].max()"
   ]
  },
  {
   "cell_type": "markdown",
   "metadata": {
    "hidden": true
   },
   "source": [
    "Self-explanatory"
   ]
  },
  {
   "cell_type": "code",
   "execution_count": null,
   "metadata": {
    "ExecuteTime": {
     "end_time": "2017-09-19T10:48:54.976134Z",
     "start_time": "2017-09-19T10:48:52.437283Z"
    },
    "collapsed": true,
    "hidden": true
   },
   "outputs": [],
   "source": [
    "train['DAY_OF_WEEK'] = pd.Series([datetime.datetime.fromtimestamp(t).weekday() for t in train['TIMESTAMP']])"
   ]
  },
  {
   "cell_type": "markdown",
   "metadata": {
    "hidden": true
   },
   "source": [
    "Quarter hour of the day, i.e. 1 of the `4*24 = 96` quarter hours of the day"
   ]
  },
  {
   "cell_type": "code",
   "execution_count": null,
   "metadata": {
    "ExecuteTime": {
     "end_time": "2017-09-19T10:49:00.248682Z",
     "start_time": "2017-09-19T10:48:54.977747Z"
    },
    "collapsed": true,
    "hidden": true
   },
   "outputs": [],
   "source": [
    "train['QUARTER_HOUR'] = pd.Series([int((datetime.datetime.fromtimestamp(t).hour*60 + datetime.datetime.fromtimestamp(t).minute)/15)\n",
    "                                   for t in train['TIMESTAMP']])"
   ]
  },
  {
   "cell_type": "markdown",
   "metadata": {
    "hidden": true
   },
   "source": [
    "Self-explanatory"
   ]
  },
  {
   "cell_type": "code",
   "execution_count": null,
   "metadata": {
    "ExecuteTime": {
     "end_time": "2017-09-19T10:49:02.994068Z",
     "start_time": "2017-09-19T10:49:00.250352Z"
    },
    "collapsed": true,
    "hidden": true
   },
   "outputs": [],
   "source": [
    "train['WEEK_OF_YEAR'] = pd.Series([datetime.datetime.fromtimestamp(t).isocalendar()[1] for t in train['TIMESTAMP']])"
   ]
  },
  {
   "cell_type": "markdown",
   "metadata": {
    "hidden": true
   },
   "source": [
    "Target coords are the last in the sequence (final position). If there are no positions, or only 1, then mark as invalid w/ nan in order to drop later"
   ]
  },
  {
   "cell_type": "code",
   "execution_count": null,
   "metadata": {
    "ExecuteTime": {
     "end_time": "2017-09-19T10:51:29.029621Z",
     "start_time": "2017-09-19T10:49:02.995689Z"
    },
    "collapsed": true,
    "hidden": true,
    "scrolled": true
   },
   "outputs": [],
   "source": [
    "train['TARGET'] = pd.Series([[l[1][0][-1], l[1][1][-1]] if len(l[1][0]) > 1 else np.nan for l in train[['LONGITUDE','LATITUDE']].iterrows()])"
   ]
  },
  {
   "cell_type": "markdown",
   "metadata": {
    "hidden": true
   },
   "source": [
    "This function creates the continuous inputs, which are the concatened k first and k last coords in a sequence, as discussed in the paper. \n",
    "\n",
    "If there aren't at least 2* k coords excluding the target, then the k first and k last overlap. In this case the sequence (excluding target) is padded at the end with the last coord in the sequence. The paper mentioned they padded front and back but didn't specify in what manner.\n",
    "\n",
    "Also marks any invalid w/ na's"
   ]
  },
  {
   "cell_type": "code",
   "execution_count": null,
   "metadata": {
    "ExecuteTime": {
     "end_time": "2017-09-19T10:51:29.046463Z",
     "start_time": "2017-09-19T10:51:29.031267Z"
    },
    "collapsed": true,
    "hidden": true
   },
   "outputs": [],
   "source": [
    "def start_stop_inputs(k):\n",
    "    result = []\n",
    "    for l in train[['LONGITUDE','LATITUDE']].iterrows():\n",
    "        if len(l[1][0]) < 2 or len(l[1][1]) < 2:\n",
    "            result.append(np.nan)\n",
    "        elif len(l[1][0][:-1]) >= 2*k:\n",
    "            result.append(np.concatenate([l[1][0][0:k],l[1][0][-(k+1):-1],l[1][1][0:k],l[1][1][-(k+1):-1]]).flatten())\n",
    "        else:\n",
    "            l1 = np.lib.pad(l[1][0][:-1], (0,20-len(l[1][0][:-1])), mode='edge')\n",
    "            l2 = np.lib.pad(l[1][1][:-1], (0,20-len(l[1][1][:-1])), mode='edge')\n",
    "            result.append(np.concatenate([l1[0:k],l1[-k:],l2[0:k],l2[-k:]]).flatten())\n",
    "    return pd.Series(result)        "
   ]
  },
  {
   "cell_type": "code",
   "execution_count": null,
   "metadata": {
    "ExecuteTime": {
     "end_time": "2017-09-19T10:55:21.120214Z",
     "start_time": "2017-09-19T10:51:29.047894Z"
    },
    "collapsed": true,
    "hidden": true
   },
   "outputs": [],
   "source": [
    "train['COORD_FEATURES'] = start_stop_inputs(5)"
   ]
  },
  {
   "cell_type": "code",
   "execution_count": null,
   "metadata": {
    "ExecuteTime": {
     "end_time": "2017-09-19T10:55:21.124901Z",
     "start_time": "2017-09-19T10:55:21.121844Z"
    },
    "collapsed": true,
    "hidden": true,
    "scrolled": true
   },
   "outputs": [],
   "source": [
    "train.shape"
   ]
  },
  {
   "cell_type": "code",
   "execution_count": null,
   "metadata": {
    "ExecuteTime": {
     "end_time": "2017-09-19T10:55:23.383715Z",
     "start_time": "2017-09-19T10:55:21.126147Z"
    },
    "collapsed": true,
    "hidden": true,
    "scrolled": true
   },
   "outputs": [],
   "source": [
    "train.dropna().shape"
   ]
  },
  {
   "cell_type": "markdown",
   "metadata": {
    "hidden": true
   },
   "source": [
    "Drop na's"
   ]
  },
  {
   "cell_type": "code",
   "execution_count": null,
   "metadata": {
    "ExecuteTime": {
     "end_time": "2017-09-19T10:55:24.819256Z",
     "start_time": "2017-09-19T10:55:23.385248Z"
    },
    "collapsed": true,
    "hidden": true
   },
   "outputs": [],
   "source": [
    "train = train.dropna()"
   ]
  },
  {
   "cell_type": "code",
   "execution_count": null,
   "metadata": {
    "ExecuteTime": {
     "end_time": "2017-09-19T11:02:43.750128Z",
     "start_time": "2017-09-19T10:55:24.820893Z"
    },
    "collapsed": true,
    "hidden": true
   },
   "outputs": [],
   "source": [
    "utils2.save_array(data_path+'train/train_features.bc', train.as_matrix())"
   ]
  },
  {
   "cell_type": "markdown",
   "metadata": {
    "heading_collapsed": true
   },
   "source": [
    "## End to end feature transformation"
   ]
  },
  {
   "cell_type": "code",
   "execution_count": null,
   "metadata": {
    "ExecuteTime": {
     "end_time": "2017-09-19T11:02:59.325596Z",
     "start_time": "2017-09-19T11:02:43.752108Z"
    },
    "collapsed": true,
    "hidden": true
   },
   "outputs": [],
   "source": [
    "train = pd.read_csv(data_path+'train/train.csv', header=0)"
   ]
  },
  {
   "cell_type": "code",
   "execution_count": null,
   "metadata": {
    "ExecuteTime": {
     "end_time": "2017-09-19T11:02:59.428447Z",
     "start_time": "2017-09-19T11:02:59.327233Z"
    },
    "collapsed": true,
    "hidden": true
   },
   "outputs": [],
   "source": [
    "test = pd.read_csv(data_path+'test/test.csv', header=0)"
   ]
  },
  {
   "cell_type": "code",
   "execution_count": null,
   "metadata": {
    "ExecuteTime": {
     "end_time": "2017-09-19T11:02:59.521485Z",
     "start_time": "2017-09-19T11:02:59.431272Z"
    },
    "collapsed": true,
    "hidden": true
   },
   "outputs": [],
   "source": [
    "def start_stop_inputs(k, data, test):\n",
    "    result = []\n",
    "    for l in data[['LONGITUDE','LATITUDE']].iterrows():\n",
    "        if not test:\n",
    "            if len(l[1][0]) < 2 or len(l[1][1]) < 2:\n",
    "                result.append(np.nan)\n",
    "            elif len(l[1][0][:-1]) >= 2*k:\n",
    "                result.append(np.concatenate([l[1][0][0:k],l[1][0][-(k+1):-1],l[1][1][0:k],l[1][1][-(k+1):-1]]).flatten())\n",
    "            else:\n",
    "                l1 = np.lib.pad(l[1][0][:-1], (0,4*k-len(l[1][0][:-1])), mode='edge')\n",
    "                l2 = np.lib.pad(l[1][1][:-1], (0,4*k-len(l[1][1][:-1])), mode='edge')\n",
    "                result.append(np.concatenate([l1[0:k],l1[-k:],l2[0:k],l2[-k:]]).flatten())\n",
    "        else:\n",
    "            if len(l[1][0]) < 1 or len(l[1][1]) < 1:\n",
    "                result.append(np.nan)\n",
    "            elif len(l[1][0]) >= 2*k:\n",
    "                result.append(np.concatenate([l[1][0][0:k],l[1][0][-k:],l[1][1][0:k],l[1][1][-k:]]).flatten())\n",
    "            else:\n",
    "                l1 = np.lib.pad(l[1][0], (0,4*k-len(l[1][0])), mode='edge')\n",
    "                l2 = np.lib.pad(l[1][1], (0,4*k-len(l[1][1])), mode='edge')\n",
    "                result.append(np.concatenate([l1[0:k],l1[-k:],l2[0:k],l2[-k:]]).flatten())\n",
    "    return pd.Series(result)     "
   ]
  },
  {
   "cell_type": "markdown",
   "metadata": {
    "hidden": true
   },
   "source": [
    "Pre-calculated below on train set"
   ]
  },
  {
   "cell_type": "code",
   "execution_count": null,
   "metadata": {
    "ExecuteTime": {
     "end_time": "2017-09-19T11:02:59.577998Z",
     "start_time": "2017-09-19T11:02:59.523596Z"
    },
    "collapsed": true,
    "hidden": true
   },
   "outputs": [],
   "source": [
    "lat_mean = 41.15731\n",
    "lat_std = 0.074120656\n",
    "long_mean = -8.6161413\n",
    "long_std = 0.057200309"
   ]
  },
  {
   "cell_type": "code",
   "execution_count": null,
   "metadata": {
    "ExecuteTime": {
     "end_time": "2017-09-19T11:02:59.722644Z",
     "start_time": "2017-09-19T11:02:59.580103Z"
    },
    "collapsed": true,
    "hidden": true
   },
   "outputs": [],
   "source": [
    "def feature_ext(data, test=False):   \n",
    "    \n",
    "    data['ORIGIN_CALL'] = pd.Series(pd.factorize(data['ORIGIN_CALL'])[0]) + 1\n",
    "\n",
    "    data['ORIGIN_STAND']=pd.Series([0 if pd.isnull(x) or x=='' else int(x) for x in data[\"ORIGIN_STAND\"]])\n",
    "\n",
    "    data['TAXI_ID'] = pd.Series(pd.factorize(data['TAXI_ID'])[0]) + 1\n",
    "\n",
    "    data['DAY_TYPE'] = pd.Series([ord(x[0]) - ord('A') for x in data['DAY_TYPE']])\n",
    "\n",
    "    polyline = pd.Series([ast.literal_eval(x) for x in data['POLYLINE']])\n",
    "\n",
    "    data['LATITUDE'] = pd.Series([np.array([point[1] for point in poly],dtype=np.float32) for poly in polyline])\n",
    "\n",
    "    data['LONGITUDE'] = pd.Series([np.array([point[0] for point in poly],dtype=np.float32) for poly in polyline])\n",
    "    \n",
    "    if not test:\n",
    "    \n",
    "        data['TARGET'] = pd.Series([[l[1][0][-1], l[1][1][-1]] if len(l[1][0]) > 1 else np.nan for l in data[['LONGITUDE','LATITUDE']].iterrows()])\n",
    "\n",
    "    \n",
    "    data['LATITUDE'] = pd.Series([(t-lat_mean)/lat_std for t in data['LATITUDE']])\n",
    "    \n",
    "    data['LONGITUDE'] = pd.Series([(t-long_mean)/long_std for t in data['LONGITUDE']])\n",
    "    \n",
    "    data['COORD_FEATURES'] = start_stop_inputs(5, data, test)\n",
    "\n",
    "    data['DAY_OF_WEEK'] = pd.Series([datetime.datetime.fromtimestamp(t).weekday() for t in data['TIMESTAMP']])\n",
    "\n",
    "    data['QUARTER_HOUR'] = pd.Series([int((datetime.datetime.fromtimestamp(t).hour*60 + datetime.datetime.fromtimestamp(t).minute)/15)\n",
    "                                       for t in data['TIMESTAMP']])\n",
    "\n",
    "    data['WEEK_OF_YEAR'] = pd.Series([datetime.datetime.fromtimestamp(t).isocalendar()[1] for t in data['TIMESTAMP']])\n",
    "    \n",
    "        \n",
    "    data = data.dropna()\n",
    "\n",
    "    return data"
   ]
  },
  {
   "cell_type": "markdown",
   "metadata": {
    "hidden": true
   },
   "source": []
  },
  {
   "cell_type": "code",
   "execution_count": null,
   "metadata": {
    "ExecuteTime": {
     "end_time": "2017-09-19T11:21:33.924111Z",
     "start_time": "2017-09-19T11:02:59.724555Z"
    },
    "collapsed": true,
    "hidden": true
   },
   "outputs": [],
   "source": [
    "train = feature_ext(train)"
   ]
  },
  {
   "cell_type": "code",
   "execution_count": null,
   "metadata": {
    "ExecuteTime": {
     "end_time": "2017-09-19T11:21:34.492117Z",
     "start_time": "2017-09-19T11:21:34.017923Z"
    },
    "collapsed": true,
    "hidden": true
   },
   "outputs": [],
   "source": [
    "# train[\"TARGET\"]\n",
    "train.head()"
   ]
  },
  {
   "cell_type": "code",
   "execution_count": null,
   "metadata": {
    "ExecuteTime": {
     "end_time": "2017-09-19T11:21:34.785958Z",
     "start_time": "2017-09-19T11:21:34.494289Z"
    },
    "collapsed": true,
    "hidden": true,
    "scrolled": true
   },
   "outputs": [],
   "source": [
    "test = feature_ext(test, test=True)"
   ]
  },
  {
   "cell_type": "code",
   "execution_count": null,
   "metadata": {
    "ExecuteTime": {
     "end_time": "2017-09-19T11:21:34.819743Z",
     "start_time": "2017-09-19T11:21:34.788792Z"
    },
    "collapsed": true,
    "hidden": true
   },
   "outputs": [],
   "source": [
    "test.head()"
   ]
  },
  {
   "cell_type": "code",
   "execution_count": null,
   "metadata": {
    "ExecuteTime": {
     "end_time": "2017-09-19T11:28:29.430183Z",
     "start_time": "2017-09-19T11:21:34.823149Z"
    },
    "collapsed": true,
    "hidden": true
   },
   "outputs": [],
   "source": [
    "utils2.save_array(data_path+'train/train_features.bc', train.as_matrix())"
   ]
  },
  {
   "cell_type": "code",
   "execution_count": null,
   "metadata": {
    "ExecuteTime": {
     "end_time": "2017-09-19T11:28:29.542116Z",
     "start_time": "2017-09-19T11:28:29.431927Z"
    },
    "collapsed": true,
    "hidden": true
   },
   "outputs": [],
   "source": [
    "utils2.save_array(data_path+'test/test_features.bc', test.as_matrix())"
   ]
  },
  {
   "cell_type": "code",
   "execution_count": null,
   "metadata": {
    "ExecuteTime": {
     "end_time": "2017-09-19T11:28:29.581100Z",
     "start_time": "2017-09-19T11:28:29.544295Z"
    },
    "collapsed": true,
    "hidden": true
   },
   "outputs": [],
   "source": [
    "train.head()"
   ]
  },
  {
   "cell_type": "markdown",
   "metadata": {
    "heading_collapsed": true
   },
   "source": [
    "## MEANSHIFT"
   ]
  },
  {
   "cell_type": "markdown",
   "metadata": {
    "hidden": true
   },
   "source": [
    "Meanshift clustering as performed in the paper"
   ]
  },
  {
   "cell_type": "code",
   "execution_count": null,
   "metadata": {
    "ExecuteTime": {
     "end_time": "2017-09-19T11:30:05.853652Z",
     "start_time": "2017-09-19T11:28:29.583152Z"
    },
    "collapsed": true,
    "hidden": true
   },
   "outputs": [],
   "source": [
    "# train = pd.DataFrame(utils2.load_array(data_path+'train/train_features.bc'),columns=['TRIP_ID', 'CALL_TYPE', 'ORIGIN_CALL', 'ORIGIN_STAND', 'TAXI_ID',\n",
    "#        'TIMESTAMP', 'DAY_TYPE', 'MISSING_DATA', 'POLYLINE', 'LATITUDE', 'LONGITUDE', 'DAY_OF_WEEK',\n",
    "#                             'QUARTER_HOUR', \"WEEK_OF_YEAR\", \"TARGET\", \"COORD_FEATURES\"])\n",
    "\n",
    "# - Correct column order to load the Bcolz array that was saved above\n",
    "train = pd.DataFrame(utils2.load_array(data_path+'train/train_features.bc'),columns=['TRIP_ID', 'CALL_TYPE', 'ORIGIN_CALL', 'ORIGIN_STAND', 'TAXI_ID',\n",
    "       'TIMESTAMP', 'DAY_TYPE', 'MISSING_DATA', 'POLYLINE', 'LATITUDE', 'LONGITUDE', 'TARGET', 'COORD_FEATURES', 'DAY_OF_WEEK',\n",
    "                            'QUARTER_HOUR', 'WEEK_OF_YEAR'])"
   ]
  },
  {
   "cell_type": "markdown",
   "metadata": {
    "hidden": true
   },
   "source": [
    "Clustering performed on the targets"
   ]
  },
  {
   "cell_type": "code",
   "execution_count": null,
   "metadata": {
    "ExecuteTime": {
     "end_time": "2017-09-19T11:30:12.838378Z",
     "start_time": "2017-09-19T11:30:05.921952Z"
    },
    "collapsed": true,
    "hidden": true
   },
   "outputs": [],
   "source": [
    "y_targ = np.vstack(train[\"TARGET\"].as_matrix())"
   ]
  },
  {
   "cell_type": "code",
   "execution_count": null,
   "metadata": {
    "ExecuteTime": {
     "end_time": "2017-09-19T11:30:12.963779Z",
     "start_time": "2017-09-19T11:30:12.877382Z"
    },
    "collapsed": true,
    "hidden": true
   },
   "outputs": [],
   "source": [
    "from sklearn.cluster import MeanShift, estimate_bandwidth"
   ]
  },
  {
   "cell_type": "markdown",
   "metadata": {
    "hidden": true
   },
   "source": [
    "Can use the commented out code for a estimate of bandwidth, which causes clustering to converge much quicker.\n",
    "\n",
    "This is not mentioned in the paper but is included in the code. In order to get results similar to the paper's,\n",
    "they manually chose the uncommented bandwidth"
   ]
  },
  {
   "cell_type": "code",
   "execution_count": null,
   "metadata": {
    "ExecuteTime": {
     "end_time": "2017-09-19T11:30:13.052699Z",
     "start_time": "2017-09-19T11:30:12.991904Z"
    },
    "collapsed": true,
    "hidden": true
   },
   "outputs": [],
   "source": [
    "#bw = estimate_bandwidth(y_targ, quantile=.1, n_samples=1000)\n",
    "bw = 0.001"
   ]
  },
  {
   "cell_type": "markdown",
   "metadata": {
    "hidden": true
   },
   "source": [
    "This takes some time"
   ]
  },
  {
   "cell_type": "code",
   "execution_count": null,
   "metadata": {
    "ExecuteTime": {
     "end_time": "2017-09-19T11:50:24.350863Z",
     "start_time": "2017-09-19T11:30:13.061356Z"
    },
    "collapsed": true,
    "hidden": true
   },
   "outputs": [],
   "source": [
    "ms = MeanShift(bandwidth=bw, bin_seeding=True, min_bin_freq=5)\n",
    "ms.fit(y_targ)"
   ]
  },
  {
   "cell_type": "code",
   "execution_count": null,
   "metadata": {
    "ExecuteTime": {
     "end_time": "2017-09-19T11:50:24.357276Z",
     "start_time": "2017-09-19T11:50:24.353436Z"
    },
    "collapsed": true,
    "hidden": true
   },
   "outputs": [],
   "source": [
    "cluster_centers = ms.cluster_centers_"
   ]
  },
  {
   "cell_type": "markdown",
   "metadata": {
    "hidden": true
   },
   "source": [
    "This is very close to the number of clusters mentioned in the paper"
   ]
  },
  {
   "cell_type": "code",
   "execution_count": null,
   "metadata": {
    "ExecuteTime": {
     "end_time": "2017-09-19T11:50:24.387347Z",
     "start_time": "2017-09-19T11:50:24.360195Z"
    },
    "collapsed": true,
    "hidden": true
   },
   "outputs": [],
   "source": [
    "cluster_centers.shape"
   ]
  },
  {
   "cell_type": "code",
   "execution_count": null,
   "metadata": {
    "ExecuteTime": {
     "end_time": "2017-09-19T11:50:24.430460Z",
     "start_time": "2017-09-19T11:50:24.390116Z"
    },
    "collapsed": true,
    "hidden": true
   },
   "outputs": [],
   "source": [
    "utils2.save_array(data_path+\"cluster_centers_bw_001.bc\", cluster_centers)"
   ]
  },
  {
   "cell_type": "markdown",
   "metadata": {},
   "source": [
    "## Formatting Features for Bcolz iterator / garbage"
   ]
  },
  {
   "cell_type": "code",
   "execution_count": 3,
   "metadata": {
    "ExecuteTime": {
     "end_time": "2017-09-19T15:59:12.308772Z",
     "start_time": "2017-09-19T15:56:26.160166Z"
    },
    "collapsed": true
   },
   "outputs": [],
   "source": [
    "train = pd.DataFrame(utils2.load_array(data_path+'train/train_features.bc'),columns=['TRIP_ID', 'CALL_TYPE', 'ORIGIN_CALL', 'ORIGIN_STAND', 'TAXI_ID',\n",
    "       'TIMESTAMP', 'DAY_TYPE', 'MISSING_DATA', 'POLYLINE', 'LATITUDE', 'LONGITUDE', 'TARGET',\n",
    "                            'COORD_FEATURES', 'DAY_OF_WEEK', \"QUARTER_HOUR\", \"WEEK_OF_YEAR\"])"
   ]
  },
  {
   "cell_type": "code",
   "execution_count": 4,
   "metadata": {
    "ExecuteTime": {
     "end_time": "2017-09-19T15:59:12.495201Z",
     "start_time": "2017-09-19T15:59:12.394286Z"
    },
    "collapsed": true
   },
   "outputs": [],
   "source": [
    "cluster_centers = utils2.load_array(data_path+\"cluster_centers_bw_001.bc\")"
   ]
  },
  {
   "cell_type": "code",
   "execution_count": 5,
   "metadata": {
    "ExecuteTime": {
     "end_time": "2017-09-19T15:59:12.557727Z",
     "start_time": "2017-09-19T15:59:12.496951Z"
    },
    "collapsed": true
   },
   "outputs": [],
   "source": [
    "long = np.array([c[0] for c in cluster_centers])\n",
    "lat = np.array([c[1] for c in cluster_centers])"
   ]
  },
  {
   "cell_type": "code",
   "execution_count": 6,
   "metadata": {
    "ExecuteTime": {
     "end_time": "2017-09-19T15:59:13.624838Z",
     "start_time": "2017-09-19T15:59:12.560105Z"
    },
    "collapsed": true
   },
   "outputs": [],
   "source": [
    "X_train, X_val = train_test_split(train, test_size=0.2, random_state=42)"
   ]
  },
  {
   "cell_type": "code",
   "execution_count": 7,
   "metadata": {
    "ExecuteTime": {
     "end_time": "2017-09-19T15:59:13.631395Z",
     "start_time": "2017-09-19T15:59:13.626437Z"
    },
    "collapsed": true
   },
   "outputs": [],
   "source": [
    "def get_features(data):\n",
    "    return [np.vstack(data['COORD_FEATURES'].as_matrix()), np.vstack(data['ORIGIN_CALL'].as_matrix()), \n",
    "           np.vstack(data['TAXI_ID'].as_matrix()), np.vstack(data['ORIGIN_STAND'].as_matrix()),\n",
    "           np.vstack(data['QUARTER_HOUR'].as_matrix()), np.vstack(data['DAY_OF_WEEK'].as_matrix()), \n",
    "           np.vstack(data['WEEK_OF_YEAR'].as_matrix()), np.array([long for i in range(0,data.shape[0])]),\n",
    "               np.array([lat for i in range(0,data.shape[0])])]"
   ]
  },
  {
   "cell_type": "code",
   "execution_count": 8,
   "metadata": {
    "ExecuteTime": {
     "end_time": "2017-09-19T15:59:13.675578Z",
     "start_time": "2017-09-19T15:59:13.633641Z"
    },
    "collapsed": true
   },
   "outputs": [],
   "source": [
    "def get_target(data):\n",
    "    return np.vstack(data[\"TARGET\"].as_matrix())"
   ]
  },
  {
   "cell_type": "code",
   "execution_count": 9,
   "metadata": {
    "ExecuteTime": {
     "end_time": "2017-09-19T15:59:50.502074Z",
     "start_time": "2017-09-19T15:59:13.677840Z"
    },
    "collapsed": true
   },
   "outputs": [],
   "source": [
    "X_train_features = get_features(X_train)"
   ]
  },
  {
   "cell_type": "code",
   "execution_count": 10,
   "metadata": {
    "ExecuteTime": {
     "end_time": "2017-09-19T15:59:56.741143Z",
     "start_time": "2017-09-19T15:59:50.561252Z"
    },
    "collapsed": true
   },
   "outputs": [],
   "source": [
    "X_train_target = get_target(X_train)"
   ]
  },
  {
   "cell_type": "code",
   "execution_count": 11,
   "metadata": {
    "ExecuteTime": {
     "end_time": "2017-09-19T16:03:54.740915Z",
     "start_time": "2017-09-19T16:03:54.671814Z"
    },
    "collapsed": true
   },
   "outputs": [],
   "source": [
    "# utils2.save_array(data_path+'train/X_train_features.bc', get_features(X_train))  # - doesn't work - needs an array, not a list"
   ]
  },
  {
   "cell_type": "markdown",
   "metadata": {},
   "source": [
    "## MODEL"
   ]
  },
  {
   "cell_type": "markdown",
   "metadata": {},
   "source": [
    "Load training data and cluster centers"
   ]
  },
  {
   "cell_type": "code",
   "execution_count": 12,
   "metadata": {
    "ExecuteTime": {
     "end_time": "2017-09-19T16:05:17.558482Z",
     "start_time": "2017-09-19T16:03:55.864314Z"
    },
    "collapsed": true
   },
   "outputs": [],
   "source": [
    "train = pd.DataFrame(utils2.load_array(data_path+'train/train_features.bc'),columns=['TRIP_ID', 'CALL_TYPE', 'ORIGIN_CALL', 'ORIGIN_STAND', 'TAXI_ID',\n",
    "       'TIMESTAMP', 'DAY_TYPE', 'MISSING_DATA', 'POLYLINE', 'LATITUDE', 'LONGITUDE', 'TARGET',\n",
    "                            'COORD_FEATURES', \"DAY_OF_WEEK\", \"QUARTER_HOUR\", \"WEEK_OF_YEAR\"])"
   ]
  },
  {
   "cell_type": "markdown",
   "metadata": {},
   "source": [
    "Validation cuts "
   ]
  },
  {
   "cell_type": "code",
   "execution_count": 13,
   "metadata": {
    "ExecuteTime": {
     "end_time": "2017-09-19T16:05:17.789492Z",
     "start_time": "2017-09-19T16:05:17.705724Z"
    },
    "collapsed": true
   },
   "outputs": [],
   "source": [
    "cuts = [\n",
    "    1376503200, # 2013-08-14 18:00\n",
    "    1380616200, # 2013-10-01 08:30\n",
    "    1381167900, # 2013-10-07 17:45\n",
    "    1383364800, # 2013-11-02 04:00\n",
    "    1387722600  # 2013-12-22 14:30\n",
    "]"
   ]
  },
  {
   "cell_type": "code",
   "execution_count": 14,
   "metadata": {
    "ExecuteTime": {
     "end_time": "2017-09-19T16:05:17.846802Z",
     "start_time": "2017-09-19T16:05:17.791564Z"
    }
   },
   "outputs": [
    {
     "name": "stdout",
     "output_type": "stream",
     "text": [
      "2013-08-14 20:00:00\n"
     ]
    }
   ],
   "source": [
    "print(datetime.datetime.fromtimestamp(1376503200))"
   ]
  },
  {
   "cell_type": "code",
   "execution_count": 15,
   "metadata": {
    "ExecuteTime": {
     "end_time": "2017-09-19T16:05:17.875786Z",
     "start_time": "2017-09-19T16:05:17.849029Z"
    }
   },
   "outputs": [
    {
     "data": {
      "text/plain": [
       "(1674160, 16)"
      ]
     },
     "execution_count": 15,
     "metadata": {},
     "output_type": "execute_result"
    }
   ],
   "source": [
    "train.shape"
   ]
  },
  {
   "cell_type": "code",
   "execution_count": 16,
   "metadata": {
    "ExecuteTime": {
     "end_time": "2017-09-19T16:07:23.182810Z",
     "start_time": "2017-09-19T16:05:17.877869Z"
    },
    "collapsed": true
   },
   "outputs": [],
   "source": [
    "val_indices = []\n",
    "index = 0\n",
    "for index, row in train.iterrows():\n",
    "    time = row['TIMESTAMP']\n",
    "    latitude = row['LATITUDE']\n",
    "    for ts in cuts:\n",
    "        if time <= ts and time + 15 * (len(latitude) - 1) >= ts:\n",
    "            val_indices.append(index)\n",
    "            break\n",
    "    index += 1"
   ]
  },
  {
   "cell_type": "code",
   "execution_count": 17,
   "metadata": {
    "ExecuteTime": {
     "end_time": "2017-09-19T16:07:23.187456Z",
     "start_time": "2017-09-19T16:07:23.184449Z"
    },
    "collapsed": true
   },
   "outputs": [],
   "source": [
    "X_valid = train.iloc[val_indices]"
   ]
  },
  {
   "cell_type": "code",
   "execution_count": 18,
   "metadata": {
    "ExecuteTime": {
     "end_time": "2017-09-19T16:07:23.244384Z",
     "start_time": "2017-09-19T16:07:23.188787Z"
    }
   },
   "outputs": [
    {
     "data": {
      "text/html": [
       "<div>\n",
       "<table border=\"1\" class=\"dataframe\">\n",
       "  <thead>\n",
       "    <tr style=\"text-align: right;\">\n",
       "      <th></th>\n",
       "      <th>TRIP_ID</th>\n",
       "      <th>CALL_TYPE</th>\n",
       "      <th>ORIGIN_CALL</th>\n",
       "      <th>ORIGIN_STAND</th>\n",
       "      <th>TAXI_ID</th>\n",
       "      <th>TIMESTAMP</th>\n",
       "      <th>DAY_TYPE</th>\n",
       "      <th>MISSING_DATA</th>\n",
       "      <th>POLYLINE</th>\n",
       "      <th>LATITUDE</th>\n",
       "      <th>LONGITUDE</th>\n",
       "      <th>TARGET</th>\n",
       "      <th>COORD_FEATURES</th>\n",
       "      <th>DAY_OF_WEEK</th>\n",
       "      <th>QUARTER_HOUR</th>\n",
       "      <th>WEEK_OF_YEAR</th>\n",
       "    </tr>\n",
       "  </thead>\n",
       "  <tbody>\n",
       "    <tr>\n",
       "      <th>200153</th>\n",
       "      <td>1376502576620000126</td>\n",
       "      <td>B</td>\n",
       "      <td>0</td>\n",
       "      <td>36</td>\n",
       "      <td>247</td>\n",
       "      <td>1376502576</td>\n",
       "      <td>0</td>\n",
       "      <td>False</td>\n",
       "      <td>[[-8.649504,41.15421],[-8.649684,41.154201],[-...</td>\n",
       "      <td>[-0.0418419, -0.0419448, -0.0449813, -0.046422...</td>\n",
       "      <td>[-0.583255, -0.586407, -0.59711, -0.589074, -0...</td>\n",
       "      <td>[-8.61122, 41.1463]</td>\n",
       "      <td>[-0.583255, -0.586407, -0.59711, -0.589074, -0...</td>\n",
       "      <td>2</td>\n",
       "      <td>79</td>\n",
       "      <td>33</td>\n",
       "    </tr>\n",
       "    <tr>\n",
       "      <th>200186</th>\n",
       "      <td>1376503146620000161</td>\n",
       "      <td>B</td>\n",
       "      <td>0</td>\n",
       "      <td>35</td>\n",
       "      <td>19</td>\n",
       "      <td>1376503146</td>\n",
       "      <td>0</td>\n",
       "      <td>False</td>\n",
       "      <td>[[-8.649621,41.167323],[-8.64963,41.167251],[-...</td>\n",
       "      <td>[0.135098, 0.134121, 0.126709, 0.125371, 0.124...</td>\n",
       "      <td>[-0.585306, -0.585456, -0.589241, -0.588774, -...</td>\n",
       "      <td>[-8.64504, 41.1586]</td>\n",
       "      <td>[-0.585306, -0.585456, -0.589241, -0.588774, -...</td>\n",
       "      <td>2</td>\n",
       "      <td>79</td>\n",
       "      <td>33</td>\n",
       "    </tr>\n",
       "    <tr>\n",
       "      <th>200200</th>\n",
       "      <td>1376502942620000500</td>\n",
       "      <td>B</td>\n",
       "      <td>0</td>\n",
       "      <td>15</td>\n",
       "      <td>428</td>\n",
       "      <td>1376502942</td>\n",
       "      <td>0</td>\n",
       "      <td>False</td>\n",
       "      <td>[[-8.585694,41.148522],[-8.585712,41.148801],[...</td>\n",
       "      <td>[-0.118578, -0.114821, -0.112402, -0.116982, -...</td>\n",
       "      <td>[0.532287, 0.531971, 0.523018, 0.524735, 0.524...</td>\n",
       "      <td>[-8.61524, 41.1418]</td>\n",
       "      <td>[0.532287, 0.531971, 0.523018, 0.524735, 0.524...</td>\n",
       "      <td>2</td>\n",
       "      <td>79</td>\n",
       "      <td>33</td>\n",
       "    </tr>\n",
       "    <tr>\n",
       "      <th>200202</th>\n",
       "      <td>1376502604620000105</td>\n",
       "      <td>C</td>\n",
       "      <td>0</td>\n",
       "      <td>0</td>\n",
       "      <td>87</td>\n",
       "      <td>1376502604</td>\n",
       "      <td>0</td>\n",
       "      <td>False</td>\n",
       "      <td>[[-8.61093,41.145498],[-8.610939,41.145516],[-...</td>\n",
       "      <td>[-0.15939, -0.159133, -0.153883, -0.145392, -0...</td>\n",
       "      <td>[0.0910987, 0.0909487, 0.093783, 0.108572, 0.1...</td>\n",
       "      <td>[-8.64832, 41.1648]</td>\n",
       "      <td>[0.0910987, 0.0909487, 0.093783, 0.108572, 0.1...</td>\n",
       "      <td>2</td>\n",
       "      <td>79</td>\n",
       "      <td>33</td>\n",
       "    </tr>\n",
       "    <tr>\n",
       "      <th>200227</th>\n",
       "      <td>1376502611620000022</td>\n",
       "      <td>C</td>\n",
       "      <td>0</td>\n",
       "      <td>0</td>\n",
       "      <td>304</td>\n",
       "      <td>1376502611</td>\n",
       "      <td>0</td>\n",
       "      <td>False</td>\n",
       "      <td>[[-8.591301,41.162715],[-8.591004,41.162562],[...</td>\n",
       "      <td>[0.0729274, 0.0708687, 0.0587228, 0.0539879, 0...</td>\n",
       "      <td>[0.43427, 0.439455, 0.42735, 0.423566, 0.41539...</td>\n",
       "      <td>[-8.60977, 41.1512]</td>\n",
       "      <td>[0.43427, 0.439455, 0.42735, 0.423566, 0.41539...</td>\n",
       "      <td>2</td>\n",
       "      <td>79</td>\n",
       "      <td>33</td>\n",
       "    </tr>\n",
       "  </tbody>\n",
       "</table>\n",
       "</div>"
      ],
      "text/plain": [
       "                    TRIP_ID CALL_TYPE ORIGIN_CALL ORIGIN_STAND TAXI_ID  \\\n",
       "200153  1376502576620000126         B           0           36     247   \n",
       "200186  1376503146620000161         B           0           35      19   \n",
       "200200  1376502942620000500         B           0           15     428   \n",
       "200202  1376502604620000105         C           0            0      87   \n",
       "200227  1376502611620000022         C           0            0     304   \n",
       "\n",
       "         TIMESTAMP DAY_TYPE MISSING_DATA  \\\n",
       "200153  1376502576        0        False   \n",
       "200186  1376503146        0        False   \n",
       "200200  1376502942        0        False   \n",
       "200202  1376502604        0        False   \n",
       "200227  1376502611        0        False   \n",
       "\n",
       "                                                 POLYLINE  \\\n",
       "200153  [[-8.649504,41.15421],[-8.649684,41.154201],[-...   \n",
       "200186  [[-8.649621,41.167323],[-8.64963,41.167251],[-...   \n",
       "200200  [[-8.585694,41.148522],[-8.585712,41.148801],[...   \n",
       "200202  [[-8.61093,41.145498],[-8.610939,41.145516],[-...   \n",
       "200227  [[-8.591301,41.162715],[-8.591004,41.162562],[...   \n",
       "\n",
       "                                                 LATITUDE  \\\n",
       "200153  [-0.0418419, -0.0419448, -0.0449813, -0.046422...   \n",
       "200186  [0.135098, 0.134121, 0.126709, 0.125371, 0.124...   \n",
       "200200  [-0.118578, -0.114821, -0.112402, -0.116982, -...   \n",
       "200202  [-0.15939, -0.159133, -0.153883, -0.145392, -0...   \n",
       "200227  [0.0729274, 0.0708687, 0.0587228, 0.0539879, 0...   \n",
       "\n",
       "                                                LONGITUDE  \\\n",
       "200153  [-0.583255, -0.586407, -0.59711, -0.589074, -0...   \n",
       "200186  [-0.585306, -0.585456, -0.589241, -0.588774, -...   \n",
       "200200  [0.532287, 0.531971, 0.523018, 0.524735, 0.524...   \n",
       "200202  [0.0910987, 0.0909487, 0.093783, 0.108572, 0.1...   \n",
       "200227  [0.43427, 0.439455, 0.42735, 0.423566, 0.41539...   \n",
       "\n",
       "                     TARGET  \\\n",
       "200153  [-8.61122, 41.1463]   \n",
       "200186  [-8.64504, 41.1586]   \n",
       "200200  [-8.61524, 41.1418]   \n",
       "200202  [-8.64832, 41.1648]   \n",
       "200227  [-8.60977, 41.1512]   \n",
       "\n",
       "                                           COORD_FEATURES DAY_OF_WEEK  \\\n",
       "200153  [-0.583255, -0.586407, -0.59711, -0.589074, -0...           2   \n",
       "200186  [-0.585306, -0.585456, -0.589241, -0.588774, -...           2   \n",
       "200200  [0.532287, 0.531971, 0.523018, 0.524735, 0.524...           2   \n",
       "200202  [0.0910987, 0.0909487, 0.093783, 0.108572, 0.1...           2   \n",
       "200227  [0.43427, 0.439455, 0.42735, 0.423566, 0.41539...           2   \n",
       "\n",
       "       QUARTER_HOUR WEEK_OF_YEAR  \n",
       "200153           79           33  \n",
       "200186           79           33  \n",
       "200200           79           33  \n",
       "200202           79           33  \n",
       "200227           79           33  "
      ]
     },
     "execution_count": 18,
     "metadata": {},
     "output_type": "execute_result"
    }
   ],
   "source": [
    "X_valid.head()"
   ]
  },
  {
   "cell_type": "code",
   "execution_count": 19,
   "metadata": {
    "ExecuteTime": {
     "end_time": "2017-09-19T16:07:23.336405Z",
     "start_time": "2017-09-19T16:07:23.246285Z"
    }
   },
   "outputs": [
    {
     "name": "stdout",
     "output_type": "stream",
     "text": [
      "2013-08-14 19:49:36\n",
      "2013-08-14 19:59:06\n",
      "2013-08-14 19:55:42\n",
      "2013-08-14 19:50:04\n",
      "2013-08-14 19:50:11\n",
      "2013-08-14 19:56:57\n",
      "2013-08-14 19:36:51\n",
      "2013-08-14 19:44:15\n",
      "2013-08-14 19:55:50\n",
      "2013-08-14 19:50:35\n",
      "2013-08-14 19:50:27\n",
      "2013-08-14 19:43:57\n",
      "2013-08-14 19:16:48\n",
      "2013-08-14 19:40:47\n",
      "2013-08-14 19:45:55\n",
      "2013-08-14 19:43:00\n",
      "2013-08-14 19:53:22\n",
      "2013-08-14 19:50:03\n",
      "2013-08-14 19:26:22\n",
      "2013-08-14 19:59:15\n",
      "2013-08-14 19:50:17\n",
      "2013-08-14 19:56:34\n",
      "2013-08-14 19:53:42\n",
      "2013-08-14 19:47:46\n",
      "2013-08-14 19:58:46\n",
      "2013-08-14 19:24:23\n",
      "2013-08-14 19:55:19\n",
      "2013-08-14 19:57:03\n",
      "2013-08-14 19:56:11\n",
      "2013-08-14 19:56:52\n",
      "2013-08-14 19:57:57\n",
      "2013-08-14 19:08:15\n",
      "2013-08-14 19:51:14\n",
      "2013-08-14 19:58:31\n",
      "2013-08-14 19:47:31\n",
      "2013-08-14 19:30:36\n",
      "2013-08-14 19:17:59\n",
      "2013-08-14 19:48:03\n",
      "2013-08-14 19:55:52\n",
      "2013-08-14 19:49:06\n",
      "2013-08-14 19:58:55\n",
      "2013-08-14 19:51:24\n",
      "2013-08-14 19:54:12\n",
      "2013-08-14 19:54:26\n",
      "2013-08-14 19:51:18\n",
      "2013-08-14 19:59:56\n",
      "2013-08-14 19:48:31\n",
      "2013-08-14 19:51:56\n",
      "2013-08-14 19:39:22\n",
      "2013-08-14 19:57:25\n",
      "2013-08-14 19:57:28\n",
      "2013-08-14 19:57:40\n",
      "2013-08-14 19:39:01\n",
      "2013-08-14 19:50:39\n",
      "2013-08-14 18:48:19\n",
      "2013-10-01 10:16:12\n",
      "2013-10-01 10:28:04\n",
      "2013-10-01 10:18:37\n",
      "2013-10-01 10:24:48\n",
      "2013-10-01 10:23:39\n",
      "2013-10-01 10:28:37\n",
      "2013-10-01 10:20:16\n",
      "2013-10-01 10:23:49\n",
      "2013-10-01 10:27:11\n",
      "2013-10-01 10:06:20\n",
      "2013-10-01 10:28:08\n",
      "2013-10-01 10:29:02\n",
      "2013-10-01 10:24:44\n",
      "2013-10-01 10:24:44\n",
      "2013-10-01 10:19:06\n",
      "2013-10-01 09:28:33\n",
      "2013-10-01 10:29:28\n",
      "2013-10-01 10:27:31\n",
      "2013-10-01 10:22:13\n",
      "2013-10-01 10:26:03\n",
      "2013-10-01 10:28:55\n",
      "2013-10-01 10:18:10\n",
      "2013-10-01 10:22:13\n",
      "2013-10-01 10:14:30\n",
      "2013-10-01 10:24:41\n",
      "2013-10-01 10:22:16\n",
      "2013-10-01 10:25:35\n",
      "2013-10-01 10:21:27\n",
      "2013-10-01 10:11:33\n",
      "2013-10-01 10:10:18\n",
      "2013-10-01 10:09:33\n",
      "2013-10-01 10:01:15\n",
      "2013-10-01 10:17:58\n",
      "2013-10-01 10:18:00\n",
      "2013-10-01 10:13:26\n",
      "2013-10-01 10:18:01\n",
      "2013-10-01 10:25:54\n",
      "2013-10-01 10:21:20\n",
      "2013-10-01 10:25:31\n",
      "2013-10-01 10:25:54\n",
      "2013-10-01 10:23:40\n",
      "2013-10-01 10:26:46\n",
      "2013-10-01 10:23:31\n",
      "2013-10-01 10:17:09\n",
      "2013-10-01 10:21:57\n",
      "2013-10-01 09:29:09\n",
      "2013-10-01 10:14:47\n",
      "2013-10-01 10:04:25\n",
      "2013-10-01 10:14:09\n",
      "2013-10-01 10:16:59\n",
      "2013-10-01 10:27:16\n",
      "2013-10-01 10:16:26\n",
      "2013-10-01 10:23:18\n",
      "2013-10-01 10:16:05\n",
      "2013-10-01 10:27:43\n",
      "2013-10-01 10:08:13\n",
      "2013-10-01 10:19:21\n",
      "2013-10-01 10:21:19\n",
      "2013-10-01 10:24:20\n",
      "2013-10-01 10:26:45\n",
      "2013-10-01 10:18:28\n",
      "2013-10-01 10:19:45\n",
      "2013-10-01 10:28:10\n",
      "2013-10-01 10:22:20\n",
      "2013-10-01 10:18:42\n",
      "2013-10-01 10:19:52\n",
      "2013-10-01 10:18:44\n",
      "2013-10-01 10:15:11\n",
      "2013-10-01 10:19:24\n",
      "2013-10-01 10:23:58\n",
      "2013-10-01 10:28:50\n",
      "2013-10-01 10:13:24\n",
      "2013-10-01 10:28:38\n",
      "2013-10-01 10:24:50\n",
      "2013-10-01 10:14:19\n",
      "2013-10-01 10:10:05\n",
      "2013-10-01 10:26:31\n",
      "2013-10-01 10:28:01\n",
      "2013-10-01 08:44:16\n",
      "2013-10-01 10:21:43\n",
      "2013-10-01 10:26:57\n",
      "2013-10-01 10:25:25\n",
      "2013-10-01 10:25:36\n",
      "2013-10-01 10:16:34\n",
      "2013-10-01 10:26:40\n",
      "2013-10-01 10:14:56\n",
      "2013-10-01 10:13:10\n",
      "2013-10-01 10:28:34\n",
      "2013-10-01 10:19:08\n",
      "2013-10-01 10:24:57\n",
      "2013-10-01 09:52:43\n",
      "2013-10-01 10:25:28\n",
      "2013-10-01 10:22:54\n",
      "2013-10-01 10:28:49\n",
      "2013-10-01 09:13:25\n",
      "2013-10-07 19:34:47\n",
      "2013-10-07 19:38:08\n",
      "2013-10-07 19:31:10\n",
      "2013-10-07 19:35:12\n",
      "2013-10-07 19:41:50\n",
      "2013-10-07 19:34:31\n",
      "2013-10-07 19:42:02\n",
      "2013-10-07 19:39:05\n",
      "2013-10-07 19:31:43\n",
      "2013-10-07 19:34:27\n",
      "2013-10-07 19:31:48\n",
      "2013-10-07 19:42:24\n",
      "2013-10-07 19:38:37\n",
      "2013-10-07 19:29:02\n",
      "2013-10-07 19:33:55\n",
      "2013-10-07 19:17:07\n",
      "2013-10-07 19:44:31\n",
      "2013-10-07 19:42:52\n",
      "2013-10-07 19:26:05\n",
      "2013-10-07 19:34:07\n",
      "2013-10-07 19:40:59\n",
      "2013-10-07 19:41:36\n",
      "2013-10-07 19:33:47\n",
      "2013-10-07 19:30:59\n",
      "2013-10-07 19:38:59\n",
      "2013-10-07 19:28:56\n",
      "2013-10-07 19:41:24\n",
      "2013-10-07 19:41:49\n",
      "2013-10-07 19:42:47\n",
      "2013-10-07 19:34:09\n",
      "2013-10-07 19:40:31\n",
      "2013-10-07 19:21:34\n",
      "2013-10-07 19:43:52\n",
      "2013-10-07 19:18:11\n",
      "2013-10-07 19:41:47\n",
      "2013-10-07 19:33:04\n",
      "2013-10-07 19:40:53\n",
      "2013-10-07 19:36:38\n",
      "2013-10-07 19:41:46\n",
      "2013-10-07 19:03:36\n",
      "2013-10-07 19:44:45\n",
      "2013-10-07 19:21:42\n",
      "2013-10-07 19:24:07\n",
      "2013-10-07 19:40:35\n",
      "2013-10-07 19:41:00\n",
      "2013-10-07 19:43:10\n",
      "2013-10-07 19:23:55\n",
      "2013-10-07 19:43:30\n",
      "2013-10-07 19:25:24\n",
      "2013-10-07 19:35:07\n",
      "2013-10-07 19:43:33\n",
      "2013-10-07 19:39:30\n",
      "2013-10-07 19:31:42\n",
      "2013-10-07 19:39:17\n",
      "2013-10-07 19:42:47\n",
      "2013-10-07 19:39:20\n",
      "2013-10-07 19:44:41\n",
      "2013-10-07 19:24:22\n",
      "2013-10-07 19:12:39\n",
      "2013-10-07 19:37:25\n",
      "2013-10-07 19:42:55\n",
      "2013-10-07 19:14:35\n",
      "2013-10-07 19:37:12\n",
      "2013-10-07 19:32:29\n",
      "2013-10-07 19:42:37\n",
      "2013-10-07 19:26:52\n",
      "2013-10-07 19:31:19\n",
      "2013-10-07 19:44:58\n",
      "2013-11-02 04:47:37\n",
      "2013-11-02 04:54:00\n",
      "2013-11-02 04:58:53\n",
      "2013-11-02 04:56:37\n",
      "2013-11-02 04:56:09\n",
      "2013-11-02 04:51:05\n",
      "2013-11-02 04:50:58\n",
      "2013-11-02 04:55:26\n",
      "2013-11-02 04:53:43\n",
      "2013-11-02 04:53:46\n",
      "2013-11-02 04:54:55\n",
      "2013-11-02 04:59:28\n",
      "2013-11-02 04:56:54\n",
      "2013-11-02 04:50:37\n",
      "2013-11-02 04:48:40\n",
      "2013-11-02 04:55:46\n",
      "2013-11-02 04:45:20\n",
      "2013-11-02 04:46:22\n",
      "2013-11-02 04:48:25\n",
      "2013-11-02 04:47:19\n",
      "2013-11-02 04:57:31\n",
      "2013-11-02 04:58:14\n",
      "2013-11-02 04:49:30\n",
      "2013-11-02 04:43:31\n",
      "2013-11-02 04:59:00\n",
      "2013-11-02 04:54:23\n",
      "2013-11-02 04:51:01\n",
      "2013-11-02 04:38:12\n",
      "2013-11-02 04:59:31\n",
      "2013-11-02 04:56:46\n",
      "2013-11-02 04:53:51\n",
      "2013-11-02 04:48:00\n",
      "2013-11-02 04:58:04\n",
      "2013-11-02 04:52:50\n",
      "2013-11-02 04:58:12\n",
      "2013-11-02 04:57:37\n",
      "2013-11-02 04:53:33\n",
      "2013-11-02 04:54:11\n",
      "2013-11-02 04:48:49\n",
      "2013-11-02 04:42:56\n",
      "2013-11-02 04:55:36\n",
      "2013-11-02 04:51:36\n",
      "2013-11-02 04:48:45\n",
      "2013-11-02 04:49:17\n",
      "2013-11-02 04:53:50\n",
      "2013-11-02 04:45:28\n",
      "2013-11-02 04:45:04\n",
      "2013-11-02 04:52:17\n",
      "2013-11-02 04:52:10\n",
      "2013-11-02 04:59:16\n",
      "2013-11-02 04:51:37\n",
      "2013-11-02 04:50:10\n",
      "2013-12-22 15:24:50\n",
      "2013-12-22 15:04:12\n",
      "2013-12-22 15:16:27\n",
      "2013-12-22 15:23:06\n",
      "2013-12-22 15:24:04\n",
      "2013-12-22 15:17:33\n",
      "2013-12-22 15:22:55\n",
      "2013-12-22 15:24:35\n",
      "2013-12-22 15:21:56\n",
      "2013-12-22 15:22:49\n",
      "2013-12-22 15:25:31\n",
      "2013-12-22 15:21:31\n",
      "2013-12-22 15:27:31\n",
      "2013-12-22 15:29:45\n",
      "2013-12-22 15:26:09\n",
      "2013-12-22 15:17:08\n",
      "2013-12-22 15:26:00\n",
      "2013-12-22 15:20:56\n",
      "2013-12-22 15:23:09\n",
      "2013-12-22 15:22:31\n",
      "2013-12-22 15:29:59\n",
      "2013-12-22 15:27:43\n",
      "2013-12-22 15:23:04\n",
      "2013-12-22 15:25:30\n",
      "2013-12-22 15:19:16\n",
      "2013-12-22 15:23:06\n",
      "2013-12-22 15:26:01\n",
      "2013-12-22 15:19:45\n",
      "2013-12-22 11:34:23\n",
      "2013-12-22 15:29:54\n",
      "2013-12-22 15:28:39\n",
      "2013-12-22 15:27:43\n",
      "2013-12-22 15:16:23\n",
      "2013-12-22 15:17:26\n"
     ]
    }
   ],
   "source": [
    "for d in X_valid['TIMESTAMP']:\n",
    "    print(datetime.datetime.fromtimestamp(d))"
   ]
  },
  {
   "cell_type": "code",
   "execution_count": 20,
   "metadata": {
    "ExecuteTime": {
     "end_time": "2017-09-19T16:07:23.954492Z",
     "start_time": "2017-09-19T16:07:23.338277Z"
    },
    "collapsed": true
   },
   "outputs": [],
   "source": [
    "X_train = train.drop(train.index[[val_indices]])"
   ]
  },
  {
   "cell_type": "code",
   "execution_count": 21,
   "metadata": {
    "ExecuteTime": {
     "end_time": "2017-09-19T16:07:23.958984Z",
     "start_time": "2017-09-19T16:07:23.956214Z"
    },
    "collapsed": true
   },
   "outputs": [],
   "source": [
    "cluster_centers = utils2.load_array(data_path+\"cluster_centers_bw_001.bc\")"
   ]
  },
  {
   "cell_type": "code",
   "execution_count": 22,
   "metadata": {
    "ExecuteTime": {
     "end_time": "2017-09-19T16:07:24.002743Z",
     "start_time": "2017-09-19T16:07:23.960630Z"
    },
    "collapsed": true
   },
   "outputs": [],
   "source": [
    "long = np.array([c[0] for c in cluster_centers])\n",
    "lat = np.array([c[1] for c in cluster_centers])"
   ]
  },
  {
   "cell_type": "code",
   "execution_count": 23,
   "metadata": {
    "ExecuteTime": {
     "end_time": "2017-09-19T16:13:18.316168Z",
     "start_time": "2017-09-19T16:07:24.004152Z"
    },
    "collapsed": true
   },
   "outputs": [],
   "source": [
    "utils2.save_array(data_path+'train/X_train.bc', X_train.as_matrix())"
   ]
  },
  {
   "cell_type": "code",
   "execution_count": 24,
   "metadata": {
    "ExecuteTime": {
     "end_time": "2017-09-19T16:13:18.618377Z",
     "start_time": "2017-09-19T16:13:18.317444Z"
    },
    "collapsed": true
   },
   "outputs": [],
   "source": [
    "utils2.save_array(data_path+'valid/X_val.bc', X_valid.as_matrix())"
   ]
  },
  {
   "cell_type": "code",
   "execution_count": 25,
   "metadata": {
    "ExecuteTime": {
     "end_time": "2017-09-19T16:15:01.937013Z",
     "start_time": "2017-09-19T16:13:18.620798Z"
    },
    "collapsed": true
   },
   "outputs": [],
   "source": [
    "X_train = pd.DataFrame(utils2.load_array(data_path+'train/X_train.bc'),columns=['TRIP_ID', 'CALL_TYPE', 'ORIGIN_CALL', 'ORIGIN_STAND', 'TAXI_ID',\n",
    "       'TIMESTAMP', 'DAY_TYPE', 'MISSING_DATA', 'POLYLINE', 'LATITUDE', 'LONGITUDE', 'TARGET',\n",
    "                            'COORD_FEATURES', \"DAY_OF_WEEK\", \"QUARTER_HOUR\", \"WEEK_OF_YEAR\"])"
   ]
  },
  {
   "cell_type": "code",
   "execution_count": 26,
   "metadata": {
    "ExecuteTime": {
     "end_time": "2017-09-19T16:15:02.239978Z",
     "start_time": "2017-09-19T16:15:02.027785Z"
    },
    "collapsed": true
   },
   "outputs": [],
   "source": [
    "X_valid = pd.DataFrame(utils2.load_array(data_path+'valid/X_val.bc'),columns=['TRIP_ID', 'CALL_TYPE', 'ORIGIN_CALL', 'ORIGIN_STAND', 'TAXI_ID',\n",
    "       'TIMESTAMP', 'DAY_TYPE', 'MISSING_DATA', 'POLYLINE', 'LATITUDE', 'LONGITUDE', 'TARGET',\n",
    "                            'COORD_FEATURES', \"DAY_OF_WEEK\", \"QUARTER_HOUR\", \"WEEK_OF_YEAR\"])"
   ]
  },
  {
   "cell_type": "code",
   "execution_count": null,
   "metadata": {
    "collapsed": true
   },
   "outputs": [],
   "source": []
  },
  {
   "cell_type": "code",
   "execution_count": null,
   "metadata": {
    "collapsed": true
   },
   "outputs": [],
   "source": []
  },
  {
   "cell_type": "markdown",
   "metadata": {},
   "source": [
    "The equirectangular loss function mentioned in the paper.\n",
    "\n",
    "Note: Very important that y[0] is longitude and y[1] is latitude.\n",
    "\n",
    "Omitted the radius of the earth constant \"R\" as it does not affect minimization and units were not given in the paper."
   ]
  },
  {
   "cell_type": "code",
   "execution_count": 27,
   "metadata": {
    "ExecuteTime": {
     "end_time": "2017-09-19T16:15:08.492874Z",
     "start_time": "2017-09-19T16:15:08.480688Z"
    },
    "collapsed": true
   },
   "outputs": [],
   "source": [
    "def equirectangular_loss(y_true, y_pred):\n",
    "    deg2rad = 3.141592653589793 / 180\n",
    "    long_1 = y_true[:,0]*deg2rad\n",
    "    long_2 = y_pred[:,0]*deg2rad\n",
    "    lat_1 = y_true[:,1]*deg2rad\n",
    "    lat_2 = y_pred[:,1]*deg2rad\n",
    "    return 6371*K.sqrt(K.square((long_1 - long_2)*K.cos((lat_1 + lat_2)/2.))\n",
    "                       +K.square(lat_1 - lat_2))"
   ]
  },
  {
   "cell_type": "code",
   "execution_count": 28,
   "metadata": {
    "ExecuteTime": {
     "end_time": "2017-09-19T16:15:08.706598Z",
     "start_time": "2017-09-19T16:15:08.701855Z"
    },
    "collapsed": true
   },
   "outputs": [],
   "source": [
    "def embedding_input(name, n_in, n_out, reg):\n",
    "    inp = Input(shape=(1,), dtype='int64', name=name)\n",
    "    return inp, Embedding(n_in, n_out, input_length=1, embeddings_regularizer=l2(reg))(inp)  # Keras 2"
   ]
  },
  {
   "cell_type": "markdown",
   "metadata": {},
   "source": [
    "The following returns a fully-connected model as mentioned in the paper. Takes as input k as defined before, and the cluster centers.\n",
    "\n",
    "Inputs: Embeddings for each category, concatenated w/ the 4*k continous variable representing the first/last k coords as mentioned above.\n",
    "\n",
    "Embeddings have no regularization, as it was not mentioned in paper, though are easily equipped to include.\n",
    "\n",
    "Paper mentions global normalization. Didn't specify exactly how they did that, whether thay did it sequentially or whatnot. I just included a batchnorm layer for the continuous inputs.\n",
    "\n",
    "After concatenation, 1 hidden layer of 500 neurons as called for in paper.\n",
    "\n",
    "Finally, output layer has as many outputs as there are cluster centers, w/ a softmax activation. Call this output P.\n",
    "\n",
    "The prediction is the weighted sum of each cluster center c_i w/ corresponding predicted prob P_i.\n",
    "\n",
    "To facilitate this, dotted output w/ cluster latitudes and longitudes separately. (this happens at variable y), then concatenated \n",
    "    into single tensor.\n",
    "    \n",
    "NOTE!!: You will see that I have the cluster center coords as inputs. Ideally, This function should store the cluster longs/lats as a constant to be used in the model, but I could not figure out. As a consequence, I pass them in as a repeated input."
   ]
  },
  {
   "cell_type": "code",
   "execution_count": 29,
   "metadata": {
    "ExecuteTime": {
     "end_time": "2017-09-19T16:15:09.589959Z",
     "start_time": "2017-09-19T16:15:09.528436Z"
    },
    "collapsed": true
   },
   "outputs": [],
   "source": [
    "def taxi_mlp(k, cluster_centers):\n",
    "    shp = cluster_centers.shape[0]\n",
    "    nums = Input(shape=(4*k,))\n",
    "\n",
    "    center_longs = Input(shape=(shp,))\n",
    "    center_lats = Input(shape=(shp,))\n",
    "\n",
    "    emb_names = ['client_ID', 'taxi_ID', \"stand_ID\", \"quarter_hour\", \"day_of_week\", \"week_of_year\"]\n",
    "    emb_ins = [57106, 448, 64, 96, 7, 52]\n",
    "    emb_outs = [10 for i in range(0,6)]\n",
    "    regs = [0 for i in range(0,6)]\n",
    "\n",
    "    embs = [embedding_input(e[0], e[1]+1, e[2], e[3]) for e in zip(emb_names, emb_ins, emb_outs, regs)]\n",
    "\n",
    "    x = concatenate([nums] + [Flatten()(e[1]) for e in embs])  # Keras 2\n",
    "\n",
    "    x = Dense(500, activation='relu')(x)\n",
    "\n",
    "    x = Dense(shp, activation='softmax')(x)\n",
    "\n",
    "    y = concatenate([dot([x, center_longs], axes=1), dot([x, center_lats], axes=1)])  # Keras 2\n",
    "\n",
    "    return Model(inputs = [nums]+[e[0] for e in embs] + [center_longs, center_lats], outputs = y)  # Keras 2"
   ]
  },
  {
   "cell_type": "markdown",
   "metadata": {},
   "source": [
    "As mentioned, construction of repeated cluster longs/lats for input"
   ]
  },
  {
   "cell_type": "markdown",
   "metadata": {},
   "source": [
    "Iterator for in memory `train` pandas dataframe. I did this as opposed to bcolz iterator due to the pre-processing"
   ]
  },
  {
   "cell_type": "code",
   "execution_count": 30,
   "metadata": {
    "ExecuteTime": {
     "end_time": "2017-09-19T16:15:11.385212Z",
     "start_time": "2017-09-19T16:15:11.360099Z"
    },
    "collapsed": true
   },
   "outputs": [],
   "source": [
    "def data_iter(data, batch_size, cluster_centers):\n",
    "    long = [c[0] for c in cluster_centers]\n",
    "    lat = [c[1] for c in cluster_centers]\n",
    "    i = 0\n",
    "    N = data.shape[0]\n",
    "    while True:\n",
    "        yield ([np.vstack(data['COORD_FEATURES'][i:i+batch_size].as_matrix()), np.vstack(data['ORIGIN_CALL'][i:i+batch_size].as_matrix()), \n",
    "           np.vstack(data['TAXI_ID'][i:i+batch_size].as_matrix()), np.vstack(data['ORIGIN_STAND'][i:i+batch_size].as_matrix()),\n",
    "           np.vstack(data['QUARTER_HOUR'][i:i+batch_size].as_matrix()), np.vstack(data['DAY_OF_WEEK'][i:i+batch_size].as_matrix()), \n",
    "           np.vstack(data['WEEK_OF_YEAR'][i:i+batch_size].as_matrix()), np.array([long for i in range(0,batch_size)]),\n",
    "               np.array([lat for i in range(0,batch_size)])], np.vstack(data[\"TARGET\"][i:i+batch_size].as_matrix()))\n",
    "        i += batch_size\n"
   ]
  },
  {
   "cell_type": "code",
   "execution_count": 31,
   "metadata": {
    "ExecuteTime": {
     "end_time": "2017-09-19T16:15:11.803237Z",
     "start_time": "2017-09-19T16:15:11.800134Z"
    },
    "collapsed": true,
    "scrolled": true
   },
   "outputs": [],
   "source": [
    "# x=Lambda(thing)([x,long,lat])"
   ]
  },
  {
   "cell_type": "markdown",
   "metadata": {},
   "source": [
    "Of course, k in the model needs to match k from feature construction. We again use 5 as they did in the paper"
   ]
  },
  {
   "cell_type": "code",
   "execution_count": 50,
   "metadata": {
    "ExecuteTime": {
     "end_time": "2017-09-19T16:59:49.438327Z",
     "start_time": "2017-09-19T16:59:49.288514Z"
    },
    "collapsed": true,
    "scrolled": true
   },
   "outputs": [],
   "source": [
    "del model\n",
    "model = taxi_mlp(5, cluster_centers)"
   ]
  },
  {
   "cell_type": "markdown",
   "metadata": {},
   "source": [
    "Paper used SGD opt w/ following paramerters"
   ]
  },
  {
   "cell_type": "code",
   "execution_count": 51,
   "metadata": {
    "ExecuteTime": {
     "end_time": "2017-09-19T16:59:57.425094Z",
     "start_time": "2017-09-19T16:59:57.351030Z"
    },
    "collapsed": true
   },
   "outputs": [],
   "source": [
    "# Reduced the initial 0.001 learning rate to avoid NaN's\n",
    "model.compile(optimizer=SGD(1e-6, momentum=0.9), loss=equirectangular_loss, metrics=['mse'])\n",
    "\n",
    "# - Try also Adam optimizer\n",
    "# optim = Adam(lr=1e-4, beta_1=0.9, beta_2=0.999, epsilon=1e-08, decay=0.0)\n",
    "# model.compile(optimizer=optim, loss=equirectangular_loss, metrics=['mse'])"
   ]
  },
  {
   "cell_type": "code",
   "execution_count": 34,
   "metadata": {
    "ExecuteTime": {
     "end_time": "2017-09-19T16:16:04.365979Z",
     "start_time": "2017-09-19T16:15:16.265327Z"
    },
    "collapsed": true
   },
   "outputs": [],
   "source": [
    "X_train_feat = get_features(X_train)"
   ]
  },
  {
   "cell_type": "code",
   "execution_count": 35,
   "metadata": {
    "ExecuteTime": {
     "end_time": "2017-09-19T16:16:12.054819Z",
     "start_time": "2017-09-19T16:16:04.422552Z"
    },
    "collapsed": true
   },
   "outputs": [],
   "source": [
    "X_train_target = get_target(X_train)"
   ]
  },
  {
   "cell_type": "code",
   "execution_count": 36,
   "metadata": {
    "ExecuteTime": {
     "end_time": "2017-09-19T16:16:12.327652Z",
     "start_time": "2017-09-19T16:16:12.117088Z"
    },
    "collapsed": true
   },
   "outputs": [],
   "source": [
    "X_val_feat = get_features(X_valid)"
   ]
  },
  {
   "cell_type": "code",
   "execution_count": 37,
   "metadata": {
    "ExecuteTime": {
     "end_time": "2017-09-19T16:16:12.332571Z",
     "start_time": "2017-09-19T16:16:12.329030Z"
    },
    "collapsed": true
   },
   "outputs": [],
   "source": [
    "X_val_target = get_target(X_valid)"
   ]
  },
  {
   "cell_type": "code",
   "execution_count": 38,
   "metadata": {
    "ExecuteTime": {
     "end_time": "2017-09-19T16:16:12.383734Z",
     "start_time": "2017-09-19T16:16:12.333810Z"
    },
    "collapsed": true
   },
   "outputs": [],
   "source": [
    "tqdm = TQDMNotebookCallback()"
   ]
  },
  {
   "cell_type": "code",
   "execution_count": 39,
   "metadata": {
    "ExecuteTime": {
     "end_time": "2017-09-19T16:16:12.432035Z",
     "start_time": "2017-09-19T16:16:12.385058Z"
    },
    "collapsed": true
   },
   "outputs": [],
   "source": [
    "# - Added verbose=1 to track improvement through epochs\n",
    "checkpoint = ModelCheckpoint(verbose=1, filepath=data_path+'models/weights.{epoch:03d}.{val_loss:.8f}.hdf5', save_best_only=True)"
   ]
  },
  {
   "cell_type": "code",
   "execution_count": 40,
   "metadata": {
    "ExecuteTime": {
     "end_time": "2017-09-19T16:16:12.482893Z",
     "start_time": "2017-09-19T16:16:12.433392Z"
    },
    "collapsed": true
   },
   "outputs": [],
   "source": [
    "batch_size=256"
   ]
  },
  {
   "cell_type": "markdown",
   "metadata": {},
   "source": [
    "### original"
   ]
  },
  {
   "cell_type": "code",
   "execution_count": 55,
   "metadata": {
    "ExecuteTime": {
     "end_time": "2017-09-19T18:24:26.487328Z",
     "start_time": "2017-09-19T18:23:26.822414Z"
    },
    "scrolled": false
   },
   "outputs": [
    {
     "data": {
      "application/vnd.jupyter.widget-view+json": {
       "model_id": "ba195a09299c43ecbd6ef967867190a6",
       "version_major": 2,
       "version_minor": 0
      },
      "text/plain": [
       "A Jupyter Widget"
      ]
     },
     "metadata": {},
     "output_type": "display_data"
    },
    {
     "data": {
      "application/vnd.jupyter.widget-view+json": {
       "model_id": "3f6c7901efd24d6796842ca61d937db4",
       "version_major": 2,
       "version_minor": 0
      },
      "text/plain": [
       "A Jupyter Widget"
      ]
     },
     "metadata": {},
     "output_type": "display_data"
    },
    {
     "name": "stdout",
     "output_type": "stream",
     "text": [
      "Epoch 00000: val_loss improved from 4.31887 to 4.31829, saving model to data/taxi/models/weights.000.4.31829121.hdf5\n",
      "\n"
     ]
    },
    {
     "data": {
      "text/plain": [
       "<keras.callbacks.History at 0x7fe5f041a4a8>"
      ]
     },
     "execution_count": 55,
     "metadata": {},
     "output_type": "execute_result"
    }
   ],
   "source": [
    "model.fit(X_train_feat, X_train_target, epochs=1, batch_size=batch_size, validation_data=(X_val_feat, X_val_target), callbacks=[tqdm, checkpoint], verbose=0)"
   ]
  },
  {
   "cell_type": "code",
   "execution_count": 56,
   "metadata": {
    "ExecuteTime": {
     "end_time": "2017-09-19T18:55:58.327163Z",
     "start_time": "2017-09-19T18:24:42.774550Z"
    },
    "scrolled": true
   },
   "outputs": [
    {
     "data": {
      "application/vnd.jupyter.widget-view+json": {
       "model_id": "44f04fdd6624469d83081a78b58a6e2b",
       "version_major": 2,
       "version_minor": 0
      },
      "text/plain": [
       "A Jupyter Widget"
      ]
     },
     "metadata": {},
     "output_type": "display_data"
    },
    {
     "data": {
      "application/vnd.jupyter.widget-view+json": {
       "model_id": "b46aaebc69a44488bef7d16e2acefaa7",
       "version_major": 2,
       "version_minor": 0
      },
      "text/plain": [
       "A Jupyter Widget"
      ]
     },
     "metadata": {},
     "output_type": "display_data"
    },
    {
     "name": "stdout",
     "output_type": "stream",
     "text": [
      "Epoch 00000: val_loss improved from 4.31829 to 4.31774, saving model to data/taxi/models/weights.000.4.31774099.hdf5\n"
     ]
    },
    {
     "data": {
      "application/vnd.jupyter.widget-view+json": {
       "model_id": "cedef85acc0f4219af0c054b2c84eeea",
       "version_major": 2,
       "version_minor": 0
      },
      "text/plain": [
       "A Jupyter Widget"
      ]
     },
     "metadata": {},
     "output_type": "display_data"
    },
    {
     "name": "stdout",
     "output_type": "stream",
     "text": [
      "Epoch 00001: val_loss improved from 4.31774 to 4.31718, saving model to data/taxi/models/weights.001.4.31717622.hdf5\n"
     ]
    },
    {
     "data": {
      "application/vnd.jupyter.widget-view+json": {
       "model_id": "085c6e021c8d4c4da46baa2fbca04d37",
       "version_major": 2,
       "version_minor": 0
      },
      "text/plain": [
       "A Jupyter Widget"
      ]
     },
     "metadata": {},
     "output_type": "display_data"
    },
    {
     "name": "stdout",
     "output_type": "stream",
     "text": [
      "Epoch 00002: val_loss improved from 4.31718 to 4.31663, saving model to data/taxi/models/weights.002.4.31662745.hdf5\n"
     ]
    },
    {
     "data": {
      "application/vnd.jupyter.widget-view+json": {
       "model_id": "b28d3a48210c4cb2be1cce1f7ea43fbc",
       "version_major": 2,
       "version_minor": 0
      },
      "text/plain": [
       "A Jupyter Widget"
      ]
     },
     "metadata": {},
     "output_type": "display_data"
    },
    {
     "name": "stdout",
     "output_type": "stream",
     "text": [
      "Epoch 00003: val_loss improved from 4.31663 to 4.31606, saving model to data/taxi/models/weights.003.4.31606152.hdf5\n"
     ]
    },
    {
     "data": {
      "application/vnd.jupyter.widget-view+json": {
       "model_id": "ef154451890448698a668d251985e0fe",
       "version_major": 2,
       "version_minor": 0
      },
      "text/plain": [
       "A Jupyter Widget"
      ]
     },
     "metadata": {},
     "output_type": "display_data"
    },
    {
     "name": "stdout",
     "output_type": "stream",
     "text": [
      "Epoch 00004: val_loss improved from 4.31606 to 4.31548, saving model to data/taxi/models/weights.004.4.31548033.hdf5\n"
     ]
    },
    {
     "data": {
      "application/vnd.jupyter.widget-view+json": {
       "model_id": "fa82cd26cdf64b878c1706fd7089bbc1",
       "version_major": 2,
       "version_minor": 0
      },
      "text/plain": [
       "A Jupyter Widget"
      ]
     },
     "metadata": {},
     "output_type": "display_data"
    },
    {
     "name": "stdout",
     "output_type": "stream",
     "text": [
      "Epoch 00005: val_loss improved from 4.31548 to 4.31494, saving model to data/taxi/models/weights.005.4.31493714.hdf5\n"
     ]
    },
    {
     "data": {
      "application/vnd.jupyter.widget-view+json": {
       "model_id": "850c5e2ee28346a29261d8e24d27c915",
       "version_major": 2,
       "version_minor": 0
      },
      "text/plain": [
       "A Jupyter Widget"
      ]
     },
     "metadata": {},
     "output_type": "display_data"
    },
    {
     "name": "stdout",
     "output_type": "stream",
     "text": [
      "Epoch 00006: val_loss improved from 4.31494 to 4.31436, saving model to data/taxi/models/weights.006.4.31435751.hdf5\n"
     ]
    },
    {
     "data": {
      "application/vnd.jupyter.widget-view+json": {
       "model_id": "d340780840fd4b899f714ccc008c0ebf",
       "version_major": 2,
       "version_minor": 0
      },
      "text/plain": [
       "A Jupyter Widget"
      ]
     },
     "metadata": {},
     "output_type": "display_data"
    },
    {
     "name": "stdout",
     "output_type": "stream",
     "text": [
      "Epoch 00007: val_loss improved from 4.31436 to 4.31374, saving model to data/taxi/models/weights.007.4.31374216.hdf5\n"
     ]
    },
    {
     "data": {
      "application/vnd.jupyter.widget-view+json": {
       "model_id": "441e0b3c21e74339820571df6236d1b7",
       "version_major": 2,
       "version_minor": 0
      },
      "text/plain": [
       "A Jupyter Widget"
      ]
     },
     "metadata": {},
     "output_type": "display_data"
    },
    {
     "name": "stdout",
     "output_type": "stream",
     "text": [
      "Epoch 00008: val_loss improved from 4.31374 to 4.31317, saving model to data/taxi/models/weights.008.4.31317252.hdf5\n"
     ]
    },
    {
     "data": {
      "application/vnd.jupyter.widget-view+json": {
       "model_id": "322d1c9a9c344e5b8a8c90816bb4eb9c",
       "version_major": 2,
       "version_minor": 0
      },
      "text/plain": [
       "A Jupyter Widget"
      ]
     },
     "metadata": {},
     "output_type": "display_data"
    },
    {
     "name": "stdout",
     "output_type": "stream",
     "text": [
      "Epoch 00009: val_loss improved from 4.31317 to 4.31260, saving model to data/taxi/models/weights.009.4.31259594.hdf5\n"
     ]
    },
    {
     "data": {
      "application/vnd.jupyter.widget-view+json": {
       "model_id": "71e770a4dbc04782a3b6b15107d21b58",
       "version_major": 2,
       "version_minor": 0
      },
      "text/plain": [
       "A Jupyter Widget"
      ]
     },
     "metadata": {},
     "output_type": "display_data"
    },
    {
     "name": "stdout",
     "output_type": "stream",
     "text": [
      "Epoch 00010: val_loss improved from 4.31260 to 4.31199, saving model to data/taxi/models/weights.010.4.31199114.hdf5\n"
     ]
    },
    {
     "data": {
      "application/vnd.jupyter.widget-view+json": {
       "model_id": "ef30b33e99a646e29d909b91c2ff40b0",
       "version_major": 2,
       "version_minor": 0
      },
      "text/plain": [
       "A Jupyter Widget"
      ]
     },
     "metadata": {},
     "output_type": "display_data"
    },
    {
     "name": "stdout",
     "output_type": "stream",
     "text": [
      "Epoch 00011: val_loss improved from 4.31199 to 4.31134, saving model to data/taxi/models/weights.011.4.31133757.hdf5\n"
     ]
    },
    {
     "data": {
      "application/vnd.jupyter.widget-view+json": {
       "model_id": "0b59f1ef7d0d4a5abac01ebbbead1d3d",
       "version_major": 2,
       "version_minor": 0
      },
      "text/plain": [
       "A Jupyter Widget"
      ]
     },
     "metadata": {},
     "output_type": "display_data"
    },
    {
     "name": "stdout",
     "output_type": "stream",
     "text": [
      "Epoch 00012: val_loss improved from 4.31134 to 4.31072, saving model to data/taxi/models/weights.012.4.31071869.hdf5\n"
     ]
    },
    {
     "data": {
      "application/vnd.jupyter.widget-view+json": {
       "model_id": "1b5c451df8d14837aa4528116995a1df",
       "version_major": 2,
       "version_minor": 0
      },
      "text/plain": [
       "A Jupyter Widget"
      ]
     },
     "metadata": {},
     "output_type": "display_data"
    },
    {
     "name": "stdout",
     "output_type": "stream",
     "text": [
      "Epoch 00013: val_loss improved from 4.31072 to 4.31008, saving model to data/taxi/models/weights.013.4.31008419.hdf5\n"
     ]
    },
    {
     "data": {
      "application/vnd.jupyter.widget-view+json": {
       "model_id": "3d49403e844f47f39f71cf1d0d09395c",
       "version_major": 2,
       "version_minor": 0
      },
      "text/plain": [
       "A Jupyter Widget"
      ]
     },
     "metadata": {},
     "output_type": "display_data"
    },
    {
     "name": "stdout",
     "output_type": "stream",
     "text": [
      "Epoch 00014: val_loss improved from 4.31008 to 4.30941, saving model to data/taxi/models/weights.014.4.30940849.hdf5\n"
     ]
    },
    {
     "data": {
      "application/vnd.jupyter.widget-view+json": {
       "model_id": "4a1c09b482f14f2098a60186671d60e9",
       "version_major": 2,
       "version_minor": 0
      },
      "text/plain": [
       "A Jupyter Widget"
      ]
     },
     "metadata": {},
     "output_type": "display_data"
    },
    {
     "name": "stdout",
     "output_type": "stream",
     "text": [
      "Epoch 00015: val_loss improved from 4.30941 to 4.30867, saving model to data/taxi/models/weights.015.4.30866721.hdf5\n"
     ]
    },
    {
     "data": {
      "application/vnd.jupyter.widget-view+json": {
       "model_id": "32c7edff63924ea4b57183c1ed6207ea",
       "version_major": 2,
       "version_minor": 0
      },
      "text/plain": [
       "A Jupyter Widget"
      ]
     },
     "metadata": {},
     "output_type": "display_data"
    },
    {
     "name": "stdout",
     "output_type": "stream",
     "text": [
      "Epoch 00016: val_loss improved from 4.30867 to 4.30792, saving model to data/taxi/models/weights.016.4.30791654.hdf5\n"
     ]
    },
    {
     "data": {
      "application/vnd.jupyter.widget-view+json": {
       "model_id": "987775f6163e42b291b7d71837ab213e",
       "version_major": 2,
       "version_minor": 0
      },
      "text/plain": [
       "A Jupyter Widget"
      ]
     },
     "metadata": {},
     "output_type": "display_data"
    },
    {
     "name": "stdout",
     "output_type": "stream",
     "text": [
      "Epoch 00017: val_loss improved from 4.30792 to 4.30702, saving model to data/taxi/models/weights.017.4.30701692.hdf5\n"
     ]
    },
    {
     "data": {
      "application/vnd.jupyter.widget-view+json": {
       "model_id": "1aac8faa0799472cbf745a3800cfae7b",
       "version_major": 2,
       "version_minor": 0
      },
      "text/plain": [
       "A Jupyter Widget"
      ]
     },
     "metadata": {},
     "output_type": "display_data"
    },
    {
     "name": "stdout",
     "output_type": "stream",
     "text": [
      "Epoch 00018: val_loss improved from 4.30702 to 4.30598, saving model to data/taxi/models/weights.018.4.30598387.hdf5\n"
     ]
    },
    {
     "data": {
      "application/vnd.jupyter.widget-view+json": {
       "model_id": "705ad7ec679548a6a5974760e93b9c9e",
       "version_major": 2,
       "version_minor": 0
      },
      "text/plain": [
       "A Jupyter Widget"
      ]
     },
     "metadata": {},
     "output_type": "display_data"
    },
    {
     "name": "stdout",
     "output_type": "stream",
     "text": [
      "Epoch 00019: val_loss improved from 4.30598 to 4.30465, saving model to data/taxi/models/weights.019.4.30465317.hdf5\n"
     ]
    },
    {
     "data": {
      "application/vnd.jupyter.widget-view+json": {
       "model_id": "a4fcc1b8826947cd8016df64306021e5",
       "version_major": 2,
       "version_minor": 0
      },
      "text/plain": [
       "A Jupyter Widget"
      ]
     },
     "metadata": {},
     "output_type": "display_data"
    },
    {
     "name": "stdout",
     "output_type": "stream",
     "text": [
      "Epoch 00020: val_loss improved from 4.30465 to 4.30299, saving model to data/taxi/models/weights.020.4.30298820.hdf5\n"
     ]
    },
    {
     "data": {
      "application/vnd.jupyter.widget-view+json": {
       "model_id": "c81e49d7b5224462827bea1d2b0891c8",
       "version_major": 2,
       "version_minor": 0
      },
      "text/plain": [
       "A Jupyter Widget"
      ]
     },
     "metadata": {},
     "output_type": "display_data"
    },
    {
     "name": "stdout",
     "output_type": "stream",
     "text": [
      "Epoch 00021: val_loss improved from 4.30299 to 4.30127, saving model to data/taxi/models/weights.021.4.30127284.hdf5\n"
     ]
    },
    {
     "data": {
      "application/vnd.jupyter.widget-view+json": {
       "model_id": "6d74465eb11b4844a09dec3659aa4b56",
       "version_major": 2,
       "version_minor": 0
      },
      "text/plain": [
       "A Jupyter Widget"
      ]
     },
     "metadata": {},
     "output_type": "display_data"
    },
    {
     "name": "stdout",
     "output_type": "stream",
     "text": [
      "Epoch 00022: val_loss improved from 4.30127 to 4.29971, saving model to data/taxi/models/weights.022.4.29970756.hdf5\n"
     ]
    },
    {
     "data": {
      "application/vnd.jupyter.widget-view+json": {
       "model_id": "848bcc301742489aa75960b442bfb192",
       "version_major": 2,
       "version_minor": 0
      },
      "text/plain": [
       "A Jupyter Widget"
      ]
     },
     "metadata": {},
     "output_type": "display_data"
    },
    {
     "name": "stdout",
     "output_type": "stream",
     "text": [
      "Epoch 00023: val_loss improved from 4.29971 to 4.29832, saving model to data/taxi/models/weights.023.4.29831633.hdf5\n"
     ]
    },
    {
     "data": {
      "application/vnd.jupyter.widget-view+json": {
       "model_id": "5a846125602d46a1b08ae4cbf41c836f",
       "version_major": 2,
       "version_minor": 0
      },
      "text/plain": [
       "A Jupyter Widget"
      ]
     },
     "metadata": {},
     "output_type": "display_data"
    },
    {
     "name": "stdout",
     "output_type": "stream",
     "text": [
      "Epoch 00024: val_loss improved from 4.29832 to 4.29692, saving model to data/taxi/models/weights.024.4.29692163.hdf5\n"
     ]
    },
    {
     "data": {
      "application/vnd.jupyter.widget-view+json": {
       "model_id": "89e6083c83004c5685f02ce689d11a17",
       "version_major": 2,
       "version_minor": 0
      },
      "text/plain": [
       "A Jupyter Widget"
      ]
     },
     "metadata": {},
     "output_type": "display_data"
    },
    {
     "name": "stdout",
     "output_type": "stream",
     "text": [
      "Epoch 00025: val_loss improved from 4.29692 to 4.29569, saving model to data/taxi/models/weights.025.4.29569347.hdf5\n"
     ]
    },
    {
     "data": {
      "application/vnd.jupyter.widget-view+json": {
       "model_id": "7aa45a7c69294aacae59acec0fb93254",
       "version_major": 2,
       "version_minor": 0
      },
      "text/plain": [
       "A Jupyter Widget"
      ]
     },
     "metadata": {},
     "output_type": "display_data"
    },
    {
     "name": "stdout",
     "output_type": "stream",
     "text": [
      "Epoch 00026: val_loss improved from 4.29569 to 4.29461, saving model to data/taxi/models/weights.026.4.29460874.hdf5\n"
     ]
    },
    {
     "data": {
      "application/vnd.jupyter.widget-view+json": {
       "model_id": "3c75a07bf5c2426193a8d1e56603856f",
       "version_major": 2,
       "version_minor": 0
      },
      "text/plain": [
       "A Jupyter Widget"
      ]
     },
     "metadata": {},
     "output_type": "display_data"
    },
    {
     "name": "stdout",
     "output_type": "stream",
     "text": [
      "Epoch 00027: val_loss improved from 4.29461 to 4.29367, saving model to data/taxi/models/weights.027.4.29367482.hdf5\n"
     ]
    },
    {
     "data": {
      "application/vnd.jupyter.widget-view+json": {
       "model_id": "d037b679008848d695898815c67dc25a",
       "version_major": 2,
       "version_minor": 0
      },
      "text/plain": [
       "A Jupyter Widget"
      ]
     },
     "metadata": {},
     "output_type": "display_data"
    },
    {
     "name": "stdout",
     "output_type": "stream",
     "text": [
      "Epoch 00028: val_loss improved from 4.29367 to 4.29283, saving model to data/taxi/models/weights.028.4.29282813.hdf5\n"
     ]
    },
    {
     "data": {
      "application/vnd.jupyter.widget-view+json": {
       "model_id": "98f3a6d2ed9e46df8e61b6f2e0be6c47",
       "version_major": 2,
       "version_minor": 0
      },
      "text/plain": [
       "A Jupyter Widget"
      ]
     },
     "metadata": {},
     "output_type": "display_data"
    },
    {
     "name": "stdout",
     "output_type": "stream",
     "text": [
      "Epoch 00029: val_loss improved from 4.29283 to 4.29210, saving model to data/taxi/models/weights.029.4.29209712.hdf5\n",
      "\n"
     ]
    },
    {
     "data": {
      "text/plain": [
       "<keras.callbacks.History at 0x7fe5f2e6f160>"
      ]
     },
     "execution_count": 56,
     "metadata": {},
     "output_type": "execute_result"
    }
   ],
   "source": [
    "model.fit(X_train_feat, X_train_target, epochs=30, batch_size=batch_size, validation_data=(X_val_feat, X_val_target), callbacks=[tqdm, checkpoint], verbose=0)"
   ]
  },
  {
   "cell_type": "code",
   "execution_count": 58,
   "metadata": {
    "ExecuteTime": {
     "end_time": "2017-09-19T19:02:19.179038Z",
     "start_time": "2017-09-19T19:02:17.786387Z"
    },
    "collapsed": true
   },
   "outputs": [],
   "source": [
    "# - Load the saved best model, otherwise the training would go on from the current model\n",
    "# - which is not guaranteed to be the best one\n",
    "# - (check the actual file name)\n",
    "model = load_model(data_path+'models/weights.028.4.29282813.hdf5', custom_objects={'equirectangular_loss':equirectangular_loss})"
   ]
  },
  {
   "cell_type": "code",
   "execution_count": 69,
   "metadata": {
    "ExecuteTime": {
     "end_time": "2017-09-19T20:58:06.445684Z",
     "start_time": "2017-09-19T20:58:06.440802Z"
    }
   },
   "outputs": [
    {
     "name": "stdout",
     "output_type": "stream",
     "text": [
      "\r",
      "          \r",
      "1190656/|/[loss: 3.316, mean_squared_error: 0.001]  71%|| 1190656/1673856 [00:57<00:16, 29457.51it/s]"
     ]
    }
   ],
   "source": [
    "# - trying also learning rate annealing\n",
    "K.set_value(model.optimizer.lr, 5e-4)"
   ]
  },
  {
   "cell_type": "code",
   "execution_count": 60,
   "metadata": {
    "ExecuteTime": {
     "end_time": "2017-09-19T20:46:49.043005Z",
     "start_time": "2017-09-19T19:02:27.642107Z"
    }
   },
   "outputs": [
    {
     "data": {
      "application/vnd.jupyter.widget-view+json": {
       "model_id": "cf576f0291c34e3d8ffe1426d639cf40",
       "version_major": 2,
       "version_minor": 0
      },
      "text/plain": [
       "A Jupyter Widget"
      ]
     },
     "metadata": {},
     "output_type": "display_data"
    },
    {
     "data": {
      "application/vnd.jupyter.widget-view+json": {
       "model_id": "1dd41613e39f40f1b40b7e2e41862e1a",
       "version_major": 2,
       "version_minor": 0
      },
      "text/plain": [
       "A Jupyter Widget"
      ]
     },
     "metadata": {},
     "output_type": "display_data"
    },
    {
     "name": "stdout",
     "output_type": "stream",
     "text": [
      "Epoch 00000: val_loss improved from 4.29210 to 4.29207, saving model to data/taxi/models/weights.000.4.29207400.hdf5\n"
     ]
    },
    {
     "data": {
      "application/vnd.jupyter.widget-view+json": {
       "model_id": "bef8c95d6fae4f43ad686165199509d6",
       "version_major": 2,
       "version_minor": 0
      },
      "text/plain": [
       "A Jupyter Widget"
      ]
     },
     "metadata": {},
     "output_type": "display_data"
    },
    {
     "name": "stdout",
     "output_type": "stream",
     "text": [
      "Epoch 00001: val_loss improved from 4.29207 to 4.29137, saving model to data/taxi/models/weights.001.4.29137112.hdf5\n"
     ]
    },
    {
     "data": {
      "application/vnd.jupyter.widget-view+json": {
       "model_id": "a1c7812f6c0b4c11ac30de6e234c2f79",
       "version_major": 2,
       "version_minor": 0
      },
      "text/plain": [
       "A Jupyter Widget"
      ]
     },
     "metadata": {},
     "output_type": "display_data"
    },
    {
     "name": "stdout",
     "output_type": "stream",
     "text": [
      "Epoch 00002: val_loss improved from 4.29137 to 4.29064, saving model to data/taxi/models/weights.002.4.29063544.hdf5\n"
     ]
    },
    {
     "data": {
      "application/vnd.jupyter.widget-view+json": {
       "model_id": "fa6103ed647b4368959c85404f71afe5",
       "version_major": 2,
       "version_minor": 0
      },
      "text/plain": [
       "A Jupyter Widget"
      ]
     },
     "metadata": {},
     "output_type": "display_data"
    },
    {
     "name": "stdout",
     "output_type": "stream",
     "text": [
      "Epoch 00003: val_loss improved from 4.29064 to 4.28992, saving model to data/taxi/models/weights.003.4.28991975.hdf5\n"
     ]
    },
    {
     "data": {
      "application/vnd.jupyter.widget-view+json": {
       "model_id": "473ecd810df54558be44d17a4243a679",
       "version_major": 2,
       "version_minor": 0
      },
      "text/plain": [
       "A Jupyter Widget"
      ]
     },
     "metadata": {},
     "output_type": "display_data"
    },
    {
     "name": "stdout",
     "output_type": "stream",
     "text": [
      "Epoch 00004: val_loss improved from 4.28992 to 4.28912, saving model to data/taxi/models/weights.004.4.28912484.hdf5\n"
     ]
    },
    {
     "data": {
      "application/vnd.jupyter.widget-view+json": {
       "model_id": "b83eee126a5441f6bc5273afc442ca85",
       "version_major": 2,
       "version_minor": 0
      },
      "text/plain": [
       "A Jupyter Widget"
      ]
     },
     "metadata": {},
     "output_type": "display_data"
    },
    {
     "name": "stdout",
     "output_type": "stream",
     "text": [
      "Epoch 00005: val_loss improved from 4.28912 to 4.28833, saving model to data/taxi/models/weights.005.4.28833231.hdf5\n"
     ]
    },
    {
     "data": {
      "application/vnd.jupyter.widget-view+json": {
       "model_id": "eae450532ba6477a830f0cd1d7f9dcb4",
       "version_major": 2,
       "version_minor": 0
      },
      "text/plain": [
       "A Jupyter Widget"
      ]
     },
     "metadata": {},
     "output_type": "display_data"
    },
    {
     "name": "stdout",
     "output_type": "stream",
     "text": [
      "Epoch 00006: val_loss improved from 4.28833 to 4.28753, saving model to data/taxi/models/weights.006.4.28752909.hdf5\n"
     ]
    },
    {
     "data": {
      "application/vnd.jupyter.widget-view+json": {
       "model_id": "aded9067770a4249a484ff2ca47f7838",
       "version_major": 2,
       "version_minor": 0
      },
      "text/plain": [
       "A Jupyter Widget"
      ]
     },
     "metadata": {},
     "output_type": "display_data"
    },
    {
     "name": "stdout",
     "output_type": "stream",
     "text": [
      "Epoch 00007: val_loss improved from 4.28753 to 4.28669, saving model to data/taxi/models/weights.007.4.28669458.hdf5\n"
     ]
    },
    {
     "data": {
      "application/vnd.jupyter.widget-view+json": {
       "model_id": "54e0acf4c3aa4613bf3962d438c42c8a",
       "version_major": 2,
       "version_minor": 0
      },
      "text/plain": [
       "A Jupyter Widget"
      ]
     },
     "metadata": {},
     "output_type": "display_data"
    },
    {
     "name": "stdout",
     "output_type": "stream",
     "text": [
      "Epoch 00008: val_loss improved from 4.28669 to 4.28584, saving model to data/taxi/models/weights.008.4.28584460.hdf5\n"
     ]
    },
    {
     "data": {
      "application/vnd.jupyter.widget-view+json": {
       "model_id": "0ac966ba761d435b944afe1dc871e92c",
       "version_major": 2,
       "version_minor": 0
      },
      "text/plain": [
       "A Jupyter Widget"
      ]
     },
     "metadata": {},
     "output_type": "display_data"
    },
    {
     "name": "stdout",
     "output_type": "stream",
     "text": [
      "Epoch 00009: val_loss improved from 4.28584 to 4.28503, saving model to data/taxi/models/weights.009.4.28503423.hdf5\n"
     ]
    },
    {
     "data": {
      "application/vnd.jupyter.widget-view+json": {
       "model_id": "bdbc463d48a04a4d94e8babdfa360879",
       "version_major": 2,
       "version_minor": 0
      },
      "text/plain": [
       "A Jupyter Widget"
      ]
     },
     "metadata": {},
     "output_type": "display_data"
    },
    {
     "name": "stdout",
     "output_type": "stream",
     "text": [
      "Epoch 00010: val_loss improved from 4.28503 to 4.28416, saving model to data/taxi/models/weights.010.4.28415504.hdf5\n"
     ]
    },
    {
     "data": {
      "application/vnd.jupyter.widget-view+json": {
       "model_id": "52f895c844c044d1bba14b7e8fe09e6f",
       "version_major": 2,
       "version_minor": 0
      },
      "text/plain": [
       "A Jupyter Widget"
      ]
     },
     "metadata": {},
     "output_type": "display_data"
    },
    {
     "name": "stdout",
     "output_type": "stream",
     "text": [
      "Epoch 00011: val_loss improved from 4.28416 to 4.28327, saving model to data/taxi/models/weights.011.4.28326883.hdf5\n"
     ]
    },
    {
     "data": {
      "application/vnd.jupyter.widget-view+json": {
       "model_id": "e710a316ea6e494885dbc98c817f92fc",
       "version_major": 2,
       "version_minor": 0
      },
      "text/plain": [
       "A Jupyter Widget"
      ]
     },
     "metadata": {},
     "output_type": "display_data"
    },
    {
     "name": "stdout",
     "output_type": "stream",
     "text": [
      "Epoch 00012: val_loss improved from 4.28327 to 4.28235, saving model to data/taxi/models/weights.012.4.28234735.hdf5\n"
     ]
    },
    {
     "data": {
      "application/vnd.jupyter.widget-view+json": {
       "model_id": "0f264d218ac64c04ab2c9682451e9e24",
       "version_major": 2,
       "version_minor": 0
      },
      "text/plain": [
       "A Jupyter Widget"
      ]
     },
     "metadata": {},
     "output_type": "display_data"
    },
    {
     "name": "stdout",
     "output_type": "stream",
     "text": [
      "Epoch 00013: val_loss improved from 4.28235 to 4.28138, saving model to data/taxi/models/weights.013.4.28138186.hdf5\n"
     ]
    },
    {
     "data": {
      "application/vnd.jupyter.widget-view+json": {
       "model_id": "f214c447f8b34c75bb21bc04eb9daf06",
       "version_major": 2,
       "version_minor": 0
      },
      "text/plain": [
       "A Jupyter Widget"
      ]
     },
     "metadata": {},
     "output_type": "display_data"
    },
    {
     "name": "stdout",
     "output_type": "stream",
     "text": [
      "Epoch 00014: val_loss improved from 4.28138 to 4.28039, saving model to data/taxi/models/weights.014.4.28039204.hdf5\n"
     ]
    },
    {
     "data": {
      "application/vnd.jupyter.widget-view+json": {
       "model_id": "9b754ad8f185408890dd382765e13121",
       "version_major": 2,
       "version_minor": 0
      },
      "text/plain": [
       "A Jupyter Widget"
      ]
     },
     "metadata": {},
     "output_type": "display_data"
    },
    {
     "name": "stdout",
     "output_type": "stream",
     "text": [
      "Epoch 00015: val_loss improved from 4.28039 to 4.27937, saving model to data/taxi/models/weights.015.4.27936888.hdf5\n"
     ]
    },
    {
     "data": {
      "application/vnd.jupyter.widget-view+json": {
       "model_id": "95c340317b4e4abda6f7ee85f3e8e40b",
       "version_major": 2,
       "version_minor": 0
      },
      "text/plain": [
       "A Jupyter Widget"
      ]
     },
     "metadata": {},
     "output_type": "display_data"
    },
    {
     "name": "stdout",
     "output_type": "stream",
     "text": [
      "Epoch 00016: val_loss improved from 4.27937 to 4.27843, saving model to data/taxi/models/weights.016.4.27843129.hdf5\n"
     ]
    },
    {
     "data": {
      "application/vnd.jupyter.widget-view+json": {
       "model_id": "571626bdfd274f168556ffba03008dca",
       "version_major": 2,
       "version_minor": 0
      },
      "text/plain": [
       "A Jupyter Widget"
      ]
     },
     "metadata": {},
     "output_type": "display_data"
    },
    {
     "name": "stdout",
     "output_type": "stream",
     "text": [
      "Epoch 00017: val_loss improved from 4.27843 to 4.27752, saving model to data/taxi/models/weights.017.4.27751621.hdf5\n"
     ]
    },
    {
     "data": {
      "application/vnd.jupyter.widget-view+json": {
       "model_id": "517e4dc3d327412f9260aaf969540f0f",
       "version_major": 2,
       "version_minor": 0
      },
      "text/plain": [
       "A Jupyter Widget"
      ]
     },
     "metadata": {},
     "output_type": "display_data"
    },
    {
     "name": "stdout",
     "output_type": "stream",
     "text": [
      "Epoch 00018: val_loss improved from 4.27752 to 4.27680, saving model to data/taxi/models/weights.018.4.27680246.hdf5\n"
     ]
    },
    {
     "data": {
      "application/vnd.jupyter.widget-view+json": {
       "model_id": "34e7a31779354d4681022e19cddd237e",
       "version_major": 2,
       "version_minor": 0
      },
      "text/plain": [
       "A Jupyter Widget"
      ]
     },
     "metadata": {},
     "output_type": "display_data"
    },
    {
     "name": "stdout",
     "output_type": "stream",
     "text": [
      "Epoch 00019: val_loss improved from 4.27680 to 4.27610, saving model to data/taxi/models/weights.019.4.27610297.hdf5\n"
     ]
    },
    {
     "data": {
      "application/vnd.jupyter.widget-view+json": {
       "model_id": "8f4204caf6d84958b65aa0402f47f957",
       "version_major": 2,
       "version_minor": 0
      },
      "text/plain": [
       "A Jupyter Widget"
      ]
     },
     "metadata": {},
     "output_type": "display_data"
    },
    {
     "name": "stdout",
     "output_type": "stream",
     "text": [
      "Epoch 00020: val_loss improved from 4.27610 to 4.27546, saving model to data/taxi/models/weights.020.4.27546325.hdf5\n"
     ]
    },
    {
     "data": {
      "application/vnd.jupyter.widget-view+json": {
       "model_id": "b433bd29c94d4767bfcf53928d22492b",
       "version_major": 2,
       "version_minor": 0
      },
      "text/plain": [
       "A Jupyter Widget"
      ]
     },
     "metadata": {},
     "output_type": "display_data"
    },
    {
     "name": "stdout",
     "output_type": "stream",
     "text": [
      "Epoch 00021: val_loss improved from 4.27546 to 4.27483, saving model to data/taxi/models/weights.021.4.27482771.hdf5\n"
     ]
    },
    {
     "data": {
      "application/vnd.jupyter.widget-view+json": {
       "model_id": "f218dd5130ad4d7bac354b68f1ff1b5c",
       "version_major": 2,
       "version_minor": 0
      },
      "text/plain": [
       "A Jupyter Widget"
      ]
     },
     "metadata": {},
     "output_type": "display_data"
    },
    {
     "name": "stdout",
     "output_type": "stream",
     "text": [
      "Epoch 00022: val_loss improved from 4.27483 to 4.27427, saving model to data/taxi/models/weights.022.4.27427272.hdf5\n"
     ]
    },
    {
     "data": {
      "application/vnd.jupyter.widget-view+json": {
       "model_id": "b371db1145ac4174b22a1d08a79ad7c7",
       "version_major": 2,
       "version_minor": 0
      },
      "text/plain": [
       "A Jupyter Widget"
      ]
     },
     "metadata": {},
     "output_type": "display_data"
    },
    {
     "name": "stdout",
     "output_type": "stream",
     "text": [
      "Epoch 00023: val_loss improved from 4.27427 to 4.27365, saving model to data/taxi/models/weights.023.4.27365168.hdf5\n"
     ]
    },
    {
     "data": {
      "application/vnd.jupyter.widget-view+json": {
       "model_id": "46518415b5634a538153a717bea11e49",
       "version_major": 2,
       "version_minor": 0
      },
      "text/plain": [
       "A Jupyter Widget"
      ]
     },
     "metadata": {},
     "output_type": "display_data"
    },
    {
     "name": "stdout",
     "output_type": "stream",
     "text": [
      "Epoch 00024: val_loss improved from 4.27365 to 4.27306, saving model to data/taxi/models/weights.024.4.27306346.hdf5\n"
     ]
    },
    {
     "data": {
      "application/vnd.jupyter.widget-view+json": {
       "model_id": "3cdc234adf9348a8bd7286ef4f1b000b",
       "version_major": 2,
       "version_minor": 0
      },
      "text/plain": [
       "A Jupyter Widget"
      ]
     },
     "metadata": {},
     "output_type": "display_data"
    },
    {
     "name": "stdout",
     "output_type": "stream",
     "text": [
      "Epoch 00025: val_loss improved from 4.27306 to 4.27245, saving model to data/taxi/models/weights.025.4.27245205.hdf5\n"
     ]
    },
    {
     "data": {
      "application/vnd.jupyter.widget-view+json": {
       "model_id": "8988b6636e424d9d84e6ee8eaf038127",
       "version_major": 2,
       "version_minor": 0
      },
      "text/plain": [
       "A Jupyter Widget"
      ]
     },
     "metadata": {},
     "output_type": "display_data"
    },
    {
     "name": "stdout",
     "output_type": "stream",
     "text": [
      "Epoch 00026: val_loss improved from 4.27245 to 4.27180, saving model to data/taxi/models/weights.026.4.27180182.hdf5\n"
     ]
    },
    {
     "data": {
      "application/vnd.jupyter.widget-view+json": {
       "model_id": "d8caee0e130f4eb29ad9048307bfc8be",
       "version_major": 2,
       "version_minor": 0
      },
      "text/plain": [
       "A Jupyter Widget"
      ]
     },
     "metadata": {},
     "output_type": "display_data"
    },
    {
     "name": "stdout",
     "output_type": "stream",
     "text": [
      "Epoch 00027: val_loss improved from 4.27180 to 4.27114, saving model to data/taxi/models/weights.027.4.27114311.hdf5\n"
     ]
    },
    {
     "data": {
      "application/vnd.jupyter.widget-view+json": {
       "model_id": "f324f672d3d74247b49aa77a37996538",
       "version_major": 2,
       "version_minor": 0
      },
      "text/plain": [
       "A Jupyter Widget"
      ]
     },
     "metadata": {},
     "output_type": "display_data"
    },
    {
     "name": "stdout",
     "output_type": "stream",
     "text": [
      "Epoch 00028: val_loss improved from 4.27114 to 4.27049, saving model to data/taxi/models/weights.028.4.27049180.hdf5\n"
     ]
    },
    {
     "data": {
      "application/vnd.jupyter.widget-view+json": {
       "model_id": "cc670f61cf79430ca14a2e1a936c2b24",
       "version_major": 2,
       "version_minor": 0
      },
      "text/plain": [
       "A Jupyter Widget"
      ]
     },
     "metadata": {},
     "output_type": "display_data"
    },
    {
     "name": "stdout",
     "output_type": "stream",
     "text": [
      "Epoch 00029: val_loss improved from 4.27049 to 4.26976, saving model to data/taxi/models/weights.029.4.26975740.hdf5\n"
     ]
    },
    {
     "data": {
      "application/vnd.jupyter.widget-view+json": {
       "model_id": "c4b97a8691d14909b0875d13b19bb2f4",
       "version_major": 2,
       "version_minor": 0
      },
      "text/plain": [
       "A Jupyter Widget"
      ]
     },
     "metadata": {},
     "output_type": "display_data"
    },
    {
     "name": "stdout",
     "output_type": "stream",
     "text": [
      "Epoch 00030: val_loss improved from 4.26976 to 4.26907, saving model to data/taxi/models/weights.030.4.26907022.hdf5\n"
     ]
    },
    {
     "data": {
      "application/vnd.jupyter.widget-view+json": {
       "model_id": "fce9c58962e34dadad6601cc0a2a97f5",
       "version_major": 2,
       "version_minor": 0
      },
      "text/plain": [
       "A Jupyter Widget"
      ]
     },
     "metadata": {},
     "output_type": "display_data"
    },
    {
     "name": "stdout",
     "output_type": "stream",
     "text": [
      "Epoch 00031: val_loss improved from 4.26907 to 4.26839, saving model to data/taxi/models/weights.031.4.26839241.hdf5\n"
     ]
    },
    {
     "data": {
      "application/vnd.jupyter.widget-view+json": {
       "model_id": "043c604d8d3f450db95d302e13812e6e",
       "version_major": 2,
       "version_minor": 0
      },
      "text/plain": [
       "A Jupyter Widget"
      ]
     },
     "metadata": {},
     "output_type": "display_data"
    },
    {
     "name": "stdout",
     "output_type": "stream",
     "text": [
      "Epoch 00032: val_loss improved from 4.26839 to 4.26764, saving model to data/taxi/models/weights.032.4.26763758.hdf5\n"
     ]
    },
    {
     "data": {
      "application/vnd.jupyter.widget-view+json": {
       "model_id": "7bccbc45971845a7b460b9b1e8043370",
       "version_major": 2,
       "version_minor": 0
      },
      "text/plain": [
       "A Jupyter Widget"
      ]
     },
     "metadata": {},
     "output_type": "display_data"
    },
    {
     "name": "stdout",
     "output_type": "stream",
     "text": [
      "Epoch 00033: val_loss improved from 4.26764 to 4.26691, saving model to data/taxi/models/weights.033.4.26690501.hdf5\n"
     ]
    },
    {
     "data": {
      "application/vnd.jupyter.widget-view+json": {
       "model_id": "df5239f104ab411d99875c3bb7fd5c09",
       "version_major": 2,
       "version_minor": 0
      },
      "text/plain": [
       "A Jupyter Widget"
      ]
     },
     "metadata": {},
     "output_type": "display_data"
    },
    {
     "name": "stdout",
     "output_type": "stream",
     "text": [
      "Epoch 00034: val_loss improved from 4.26691 to 4.26616, saving model to data/taxi/models/weights.034.4.26615564.hdf5\n"
     ]
    },
    {
     "data": {
      "application/vnd.jupyter.widget-view+json": {
       "model_id": "b37d65ca0edb4c2c9bb8e3745cafb0a9",
       "version_major": 2,
       "version_minor": 0
      },
      "text/plain": [
       "A Jupyter Widget"
      ]
     },
     "metadata": {},
     "output_type": "display_data"
    },
    {
     "name": "stdout",
     "output_type": "stream",
     "text": [
      "Epoch 00035: val_loss improved from 4.26616 to 4.26541, saving model to data/taxi/models/weights.035.4.26540591.hdf5\n"
     ]
    },
    {
     "data": {
      "application/vnd.jupyter.widget-view+json": {
       "model_id": "39b66622e493402eadfad2d41ad250ad",
       "version_major": 2,
       "version_minor": 0
      },
      "text/plain": [
       "A Jupyter Widget"
      ]
     },
     "metadata": {},
     "output_type": "display_data"
    },
    {
     "name": "stdout",
     "output_type": "stream",
     "text": [
      "Epoch 00036: val_loss improved from 4.26541 to 4.26463, saving model to data/taxi/models/weights.036.4.26462643.hdf5\n"
     ]
    },
    {
     "data": {
      "application/vnd.jupyter.widget-view+json": {
       "model_id": "8fafda493bf04a7c979c816e0ae38f50",
       "version_major": 2,
       "version_minor": 0
      },
      "text/plain": [
       "A Jupyter Widget"
      ]
     },
     "metadata": {},
     "output_type": "display_data"
    },
    {
     "name": "stdout",
     "output_type": "stream",
     "text": [
      "Epoch 00037: val_loss improved from 4.26463 to 4.26388, saving model to data/taxi/models/weights.037.4.26387523.hdf5\n"
     ]
    },
    {
     "data": {
      "application/vnd.jupyter.widget-view+json": {
       "model_id": "a584793f53d5405c97771ef5016aa432",
       "version_major": 2,
       "version_minor": 0
      },
      "text/plain": [
       "A Jupyter Widget"
      ]
     },
     "metadata": {},
     "output_type": "display_data"
    },
    {
     "name": "stdout",
     "output_type": "stream",
     "text": [
      "Epoch 00038: val_loss improved from 4.26388 to 4.26311, saving model to data/taxi/models/weights.038.4.26311260.hdf5\n"
     ]
    },
    {
     "data": {
      "application/vnd.jupyter.widget-view+json": {
       "model_id": "ed997175206f47bf87e3a8a7e4395309",
       "version_major": 2,
       "version_minor": 0
      },
      "text/plain": [
       "A Jupyter Widget"
      ]
     },
     "metadata": {},
     "output_type": "display_data"
    },
    {
     "name": "stdout",
     "output_type": "stream",
     "text": [
      "Epoch 00039: val_loss improved from 4.26311 to 4.26232, saving model to data/taxi/models/weights.039.4.26231723.hdf5\n"
     ]
    },
    {
     "data": {
      "application/vnd.jupyter.widget-view+json": {
       "model_id": "cf6687dd1473434fb1d74a2e1c4a14c5",
       "version_major": 2,
       "version_minor": 0
      },
      "text/plain": [
       "A Jupyter Widget"
      ]
     },
     "metadata": {},
     "output_type": "display_data"
    },
    {
     "name": "stdout",
     "output_type": "stream",
     "text": [
      "Epoch 00040: val_loss improved from 4.26232 to 4.26153, saving model to data/taxi/models/weights.040.4.26152596.hdf5\n"
     ]
    },
    {
     "data": {
      "application/vnd.jupyter.widget-view+json": {
       "model_id": "891c52c4eec349859d22afa0e958fa81",
       "version_major": 2,
       "version_minor": 0
      },
      "text/plain": [
       "A Jupyter Widget"
      ]
     },
     "metadata": {},
     "output_type": "display_data"
    },
    {
     "name": "stdout",
     "output_type": "stream",
     "text": [
      "Epoch 00041: val_loss improved from 4.26153 to 4.26076, saving model to data/taxi/models/weights.041.4.26075772.hdf5\n"
     ]
    },
    {
     "data": {
      "application/vnd.jupyter.widget-view+json": {
       "model_id": "b675f447235a4e739bb864c653e64ea1",
       "version_major": 2,
       "version_minor": 0
      },
      "text/plain": [
       "A Jupyter Widget"
      ]
     },
     "metadata": {},
     "output_type": "display_data"
    },
    {
     "name": "stdout",
     "output_type": "stream",
     "text": [
      "Epoch 00042: val_loss improved from 4.26076 to 4.25994, saving model to data/taxi/models/weights.042.4.25994256.hdf5\n"
     ]
    },
    {
     "data": {
      "application/vnd.jupyter.widget-view+json": {
       "model_id": "4e99e138248a46bf96f818aef7b9a895",
       "version_major": 2,
       "version_minor": 0
      },
      "text/plain": [
       "A Jupyter Widget"
      ]
     },
     "metadata": {},
     "output_type": "display_data"
    },
    {
     "name": "stdout",
     "output_type": "stream",
     "text": [
      "Epoch 00043: val_loss improved from 4.25994 to 4.25914, saving model to data/taxi/models/weights.043.4.25913650.hdf5\n"
     ]
    },
    {
     "data": {
      "application/vnd.jupyter.widget-view+json": {
       "model_id": "1e2de49c4ec8440491f4ef1921953558",
       "version_major": 2,
       "version_minor": 0
      },
      "text/plain": [
       "A Jupyter Widget"
      ]
     },
     "metadata": {},
     "output_type": "display_data"
    },
    {
     "name": "stdout",
     "output_type": "stream",
     "text": [
      "Epoch 00044: val_loss improved from 4.25914 to 4.25829, saving model to data/taxi/models/weights.044.4.25829431.hdf5\n"
     ]
    },
    {
     "data": {
      "application/vnd.jupyter.widget-view+json": {
       "model_id": "c8c499e86d5f465d98ab216f0c47fdea",
       "version_major": 2,
       "version_minor": 0
      },
      "text/plain": [
       "A Jupyter Widget"
      ]
     },
     "metadata": {},
     "output_type": "display_data"
    },
    {
     "name": "stdout",
     "output_type": "stream",
     "text": [
      "Epoch 00045: val_loss improved from 4.25829 to 4.25749, saving model to data/taxi/models/weights.045.4.25748587.hdf5\n"
     ]
    },
    {
     "data": {
      "application/vnd.jupyter.widget-view+json": {
       "model_id": "05cd5c6ab60f471995823174ccc9a3c0",
       "version_major": 2,
       "version_minor": 0
      },
      "text/plain": [
       "A Jupyter Widget"
      ]
     },
     "metadata": {},
     "output_type": "display_data"
    },
    {
     "name": "stdout",
     "output_type": "stream",
     "text": [
      "Epoch 00046: val_loss improved from 4.25749 to 4.25669, saving model to data/taxi/models/weights.046.4.25668621.hdf5\n"
     ]
    },
    {
     "data": {
      "application/vnd.jupyter.widget-view+json": {
       "model_id": "92d82884d2b6433c98cf23c6e1c524f6",
       "version_major": 2,
       "version_minor": 0
      },
      "text/plain": [
       "A Jupyter Widget"
      ]
     },
     "metadata": {},
     "output_type": "display_data"
    },
    {
     "name": "stdout",
     "output_type": "stream",
     "text": [
      "Epoch 00047: val_loss improved from 4.25669 to 4.25585, saving model to data/taxi/models/weights.047.4.25585277.hdf5\n"
     ]
    },
    {
     "data": {
      "application/vnd.jupyter.widget-view+json": {
       "model_id": "85d75e42de574fdd9b0f8b743e49f33c",
       "version_major": 2,
       "version_minor": 0
      },
      "text/plain": [
       "A Jupyter Widget"
      ]
     },
     "metadata": {},
     "output_type": "display_data"
    },
    {
     "name": "stdout",
     "output_type": "stream",
     "text": [
      "Epoch 00048: val_loss improved from 4.25585 to 4.25503, saving model to data/taxi/models/weights.048.4.25503128.hdf5\n"
     ]
    },
    {
     "data": {
      "application/vnd.jupyter.widget-view+json": {
       "model_id": "ada274888180484491c0e6d168ad30ed",
       "version_major": 2,
       "version_minor": 0
      },
      "text/plain": [
       "A Jupyter Widget"
      ]
     },
     "metadata": {},
     "output_type": "display_data"
    },
    {
     "name": "stdout",
     "output_type": "stream",
     "text": [
      "Epoch 00049: val_loss improved from 4.25503 to 4.25423, saving model to data/taxi/models/weights.049.4.25422764.hdf5\n"
     ]
    },
    {
     "data": {
      "application/vnd.jupyter.widget-view+json": {
       "model_id": "988cdf4f571d4bbaad668b5a86eabf0b",
       "version_major": 2,
       "version_minor": 0
      },
      "text/plain": [
       "A Jupyter Widget"
      ]
     },
     "metadata": {},
     "output_type": "display_data"
    },
    {
     "name": "stdout",
     "output_type": "stream",
     "text": [
      "Epoch 00050: val_loss improved from 4.25423 to 4.25340, saving model to data/taxi/models/weights.050.4.25340289.hdf5\n"
     ]
    },
    {
     "data": {
      "application/vnd.jupyter.widget-view+json": {
       "model_id": "40ddb99ba6974e72b06cc62743dadc12",
       "version_major": 2,
       "version_minor": 0
      },
      "text/plain": [
       "A Jupyter Widget"
      ]
     },
     "metadata": {},
     "output_type": "display_data"
    },
    {
     "name": "stdout",
     "output_type": "stream",
     "text": [
      "Epoch 00051: val_loss improved from 4.25340 to 4.25257, saving model to data/taxi/models/weights.051.4.25257196.hdf5\n"
     ]
    },
    {
     "data": {
      "application/vnd.jupyter.widget-view+json": {
       "model_id": "3ea7972f035849a292a6c25d266632f6",
       "version_major": 2,
       "version_minor": 0
      },
      "text/plain": [
       "A Jupyter Widget"
      ]
     },
     "metadata": {},
     "output_type": "display_data"
    },
    {
     "name": "stdout",
     "output_type": "stream",
     "text": [
      "Epoch 00052: val_loss improved from 4.25257 to 4.25175, saving model to data/taxi/models/weights.052.4.25175014.hdf5\n"
     ]
    },
    {
     "data": {
      "application/vnd.jupyter.widget-view+json": {
       "model_id": "3afa1d62f8104644b14df7c98a089642",
       "version_major": 2,
       "version_minor": 0
      },
      "text/plain": [
       "A Jupyter Widget"
      ]
     },
     "metadata": {},
     "output_type": "display_data"
    },
    {
     "name": "stdout",
     "output_type": "stream",
     "text": [
      "Epoch 00053: val_loss improved from 4.25175 to 4.25094, saving model to data/taxi/models/weights.053.4.25094499.hdf5\n"
     ]
    },
    {
     "data": {
      "application/vnd.jupyter.widget-view+json": {
       "model_id": "7347fdbeaed64e17b33db1edf7a3356f",
       "version_major": 2,
       "version_minor": 0
      },
      "text/plain": [
       "A Jupyter Widget"
      ]
     },
     "metadata": {},
     "output_type": "display_data"
    },
    {
     "name": "stdout",
     "output_type": "stream",
     "text": [
      "Epoch 00054: val_loss improved from 4.25094 to 4.25016, saving model to data/taxi/models/weights.054.4.25016092.hdf5\n"
     ]
    },
    {
     "data": {
      "application/vnd.jupyter.widget-view+json": {
       "model_id": "5972abb1b87240d0910e3cf4cd753809",
       "version_major": 2,
       "version_minor": 0
      },
      "text/plain": [
       "A Jupyter Widget"
      ]
     },
     "metadata": {},
     "output_type": "display_data"
    },
    {
     "name": "stdout",
     "output_type": "stream",
     "text": [
      "Epoch 00055: val_loss improved from 4.25016 to 4.24938, saving model to data/taxi/models/weights.055.4.24938102.hdf5\n"
     ]
    },
    {
     "data": {
      "application/vnd.jupyter.widget-view+json": {
       "model_id": "c7c9e8dfad834e888f24d47e74d8c7aa",
       "version_major": 2,
       "version_minor": 0
      },
      "text/plain": [
       "A Jupyter Widget"
      ]
     },
     "metadata": {},
     "output_type": "display_data"
    },
    {
     "name": "stdout",
     "output_type": "stream",
     "text": [
      "Epoch 00056: val_loss improved from 4.24938 to 4.24858, saving model to data/taxi/models/weights.056.4.24857754.hdf5\n"
     ]
    },
    {
     "data": {
      "application/vnd.jupyter.widget-view+json": {
       "model_id": "25ef9c52f2444e97828c856ee8df9b91",
       "version_major": 2,
       "version_minor": 0
      },
      "text/plain": [
       "A Jupyter Widget"
      ]
     },
     "metadata": {},
     "output_type": "display_data"
    },
    {
     "name": "stdout",
     "output_type": "stream",
     "text": [
      "Epoch 00057: val_loss improved from 4.24858 to 4.24785, saving model to data/taxi/models/weights.057.4.24785084.hdf5\n"
     ]
    },
    {
     "data": {
      "application/vnd.jupyter.widget-view+json": {
       "model_id": "0e3bbce2c95948d19a2384487ec3e031",
       "version_major": 2,
       "version_minor": 0
      },
      "text/plain": [
       "A Jupyter Widget"
      ]
     },
     "metadata": {},
     "output_type": "display_data"
    },
    {
     "name": "stdout",
     "output_type": "stream",
     "text": [
      "Epoch 00058: val_loss improved from 4.24785 to 4.24709, saving model to data/taxi/models/weights.058.4.24709157.hdf5\n"
     ]
    },
    {
     "data": {
      "application/vnd.jupyter.widget-view+json": {
       "model_id": "4d082faff53d4258b3dbaf5be2fdbb5b",
       "version_major": 2,
       "version_minor": 0
      },
      "text/plain": [
       "A Jupyter Widget"
      ]
     },
     "metadata": {},
     "output_type": "display_data"
    },
    {
     "name": "stdout",
     "output_type": "stream",
     "text": [
      "Epoch 00059: val_loss improved from 4.24709 to 4.24633, saving model to data/taxi/models/weights.059.4.24633237.hdf5\n"
     ]
    },
    {
     "data": {
      "application/vnd.jupyter.widget-view+json": {
       "model_id": "fa423dcd3f884b4c837cb27f9b58aabd",
       "version_major": 2,
       "version_minor": 0
      },
      "text/plain": [
       "A Jupyter Widget"
      ]
     },
     "metadata": {},
     "output_type": "display_data"
    },
    {
     "name": "stdout",
     "output_type": "stream",
     "text": [
      "Epoch 00060: val_loss improved from 4.24633 to 4.24565, saving model to data/taxi/models/weights.060.4.24564756.hdf5\n"
     ]
    },
    {
     "data": {
      "application/vnd.jupyter.widget-view+json": {
       "model_id": "ffbced4ca63640d9ad45b6988e465db2",
       "version_major": 2,
       "version_minor": 0
      },
      "text/plain": [
       "A Jupyter Widget"
      ]
     },
     "metadata": {},
     "output_type": "display_data"
    },
    {
     "name": "stdout",
     "output_type": "stream",
     "text": [
      "Epoch 00061: val_loss improved from 4.24565 to 4.24495, saving model to data/taxi/models/weights.061.4.24494578.hdf5\n"
     ]
    },
    {
     "data": {
      "application/vnd.jupyter.widget-view+json": {
       "model_id": "91195d520158441c9d6480265373d633",
       "version_major": 2,
       "version_minor": 0
      },
      "text/plain": [
       "A Jupyter Widget"
      ]
     },
     "metadata": {},
     "output_type": "display_data"
    },
    {
     "name": "stdout",
     "output_type": "stream",
     "text": [
      "Epoch 00062: val_loss improved from 4.24495 to 4.24427, saving model to data/taxi/models/weights.062.4.24427030.hdf5\n"
     ]
    },
    {
     "data": {
      "application/vnd.jupyter.widget-view+json": {
       "model_id": "77b62d662a5144a6b9aa7841afedbf7f",
       "version_major": 2,
       "version_minor": 0
      },
      "text/plain": [
       "A Jupyter Widget"
      ]
     },
     "metadata": {},
     "output_type": "display_data"
    },
    {
     "name": "stdout",
     "output_type": "stream",
     "text": [
      "Epoch 00063: val_loss improved from 4.24427 to 4.24364, saving model to data/taxi/models/weights.063.4.24363914.hdf5\n"
     ]
    },
    {
     "data": {
      "application/vnd.jupyter.widget-view+json": {
       "model_id": "61cc2af993324380a1f06c3c551f150c",
       "version_major": 2,
       "version_minor": 0
      },
      "text/plain": [
       "A Jupyter Widget"
      ]
     },
     "metadata": {},
     "output_type": "display_data"
    },
    {
     "name": "stdout",
     "output_type": "stream",
     "text": [
      "Epoch 00064: val_loss improved from 4.24364 to 4.24298, saving model to data/taxi/models/weights.064.4.24298467.hdf5\n"
     ]
    },
    {
     "data": {
      "application/vnd.jupyter.widget-view+json": {
       "model_id": "12583699fb414d3caff350a54a7b0188",
       "version_major": 2,
       "version_minor": 0
      },
      "text/plain": [
       "A Jupyter Widget"
      ]
     },
     "metadata": {},
     "output_type": "display_data"
    },
    {
     "name": "stdout",
     "output_type": "stream",
     "text": [
      "Epoch 00065: val_loss improved from 4.24298 to 4.24235, saving model to data/taxi/models/weights.065.4.24235387.hdf5\n"
     ]
    },
    {
     "data": {
      "application/vnd.jupyter.widget-view+json": {
       "model_id": "52818a978d174c6b986f9b3527e7acae",
       "version_major": 2,
       "version_minor": 0
      },
      "text/plain": [
       "A Jupyter Widget"
      ]
     },
     "metadata": {},
     "output_type": "display_data"
    },
    {
     "name": "stdout",
     "output_type": "stream",
     "text": [
      "Epoch 00066: val_loss improved from 4.24235 to 4.24173, saving model to data/taxi/models/weights.066.4.24172959.hdf5\n"
     ]
    },
    {
     "data": {
      "application/vnd.jupyter.widget-view+json": {
       "model_id": "1130ad05016f42778e2a47110f9c39dc",
       "version_major": 2,
       "version_minor": 0
      },
      "text/plain": [
       "A Jupyter Widget"
      ]
     },
     "metadata": {},
     "output_type": "display_data"
    },
    {
     "name": "stdout",
     "output_type": "stream",
     "text": [
      "Epoch 00067: val_loss improved from 4.24173 to 4.24112, saving model to data/taxi/models/weights.067.4.24111878.hdf5\n"
     ]
    },
    {
     "data": {
      "application/vnd.jupyter.widget-view+json": {
       "model_id": "afe0308c45b74f85bd9f23fc139d3b69",
       "version_major": 2,
       "version_minor": 0
      },
      "text/plain": [
       "A Jupyter Widget"
      ]
     },
     "metadata": {},
     "output_type": "display_data"
    },
    {
     "name": "stdout",
     "output_type": "stream",
     "text": [
      "Epoch 00068: val_loss improved from 4.24112 to 4.24047, saving model to data/taxi/models/weights.068.4.24047199.hdf5\n"
     ]
    },
    {
     "data": {
      "application/vnd.jupyter.widget-view+json": {
       "model_id": "0fe92944b4f94b1d835b9f31ad017dd2",
       "version_major": 2,
       "version_minor": 0
      },
      "text/plain": [
       "A Jupyter Widget"
      ]
     },
     "metadata": {},
     "output_type": "display_data"
    },
    {
     "name": "stdout",
     "output_type": "stream",
     "text": [
      "Epoch 00069: val_loss improved from 4.24047 to 4.23987, saving model to data/taxi/models/weights.069.4.23986701.hdf5\n"
     ]
    },
    {
     "data": {
      "application/vnd.jupyter.widget-view+json": {
       "model_id": "96eb19eec24e4000bad651269abcb7c7",
       "version_major": 2,
       "version_minor": 0
      },
      "text/plain": [
       "A Jupyter Widget"
      ]
     },
     "metadata": {},
     "output_type": "display_data"
    },
    {
     "name": "stdout",
     "output_type": "stream",
     "text": [
      "Epoch 00070: val_loss improved from 4.23987 to 4.23925, saving model to data/taxi/models/weights.070.4.23924511.hdf5\n"
     ]
    },
    {
     "data": {
      "application/vnd.jupyter.widget-view+json": {
       "model_id": "dc8ab509909a406abe106fd640bf8b4e",
       "version_major": 2,
       "version_minor": 0
      },
      "text/plain": [
       "A Jupyter Widget"
      ]
     },
     "metadata": {},
     "output_type": "display_data"
    },
    {
     "name": "stdout",
     "output_type": "stream",
     "text": [
      "Epoch 00071: val_loss improved from 4.23925 to 4.23864, saving model to data/taxi/models/weights.071.4.23863888.hdf5\n"
     ]
    },
    {
     "data": {
      "application/vnd.jupyter.widget-view+json": {
       "model_id": "4f1626d2331849498a35516cb9a0f5b9",
       "version_major": 2,
       "version_minor": 0
      },
      "text/plain": [
       "A Jupyter Widget"
      ]
     },
     "metadata": {},
     "output_type": "display_data"
    },
    {
     "name": "stdout",
     "output_type": "stream",
     "text": [
      "Epoch 00072: val_loss improved from 4.23864 to 4.23801, saving model to data/taxi/models/weights.072.4.23801241.hdf5\n"
     ]
    },
    {
     "data": {
      "application/vnd.jupyter.widget-view+json": {
       "model_id": "717c327fb7fc49c591fdef4a96af5c20",
       "version_major": 2,
       "version_minor": 0
      },
      "text/plain": [
       "A Jupyter Widget"
      ]
     },
     "metadata": {},
     "output_type": "display_data"
    },
    {
     "name": "stdout",
     "output_type": "stream",
     "text": [
      "Epoch 00073: val_loss improved from 4.23801 to 4.23742, saving model to data/taxi/models/weights.073.4.23742124.hdf5\n"
     ]
    },
    {
     "data": {
      "application/vnd.jupyter.widget-view+json": {
       "model_id": "e46f37b45fbf4e1793c08053f9775ba1",
       "version_major": 2,
       "version_minor": 0
      },
      "text/plain": [
       "A Jupyter Widget"
      ]
     },
     "metadata": {},
     "output_type": "display_data"
    },
    {
     "name": "stdout",
     "output_type": "stream",
     "text": [
      "Epoch 00074: val_loss improved from 4.23742 to 4.23681, saving model to data/taxi/models/weights.074.4.23681405.hdf5\n"
     ]
    },
    {
     "data": {
      "application/vnd.jupyter.widget-view+json": {
       "model_id": "a5e93603a6f04b51a386d8b97f8f998f",
       "version_major": 2,
       "version_minor": 0
      },
      "text/plain": [
       "A Jupyter Widget"
      ]
     },
     "metadata": {},
     "output_type": "display_data"
    },
    {
     "name": "stdout",
     "output_type": "stream",
     "text": [
      "Epoch 00075: val_loss improved from 4.23681 to 4.23622, saving model to data/taxi/models/weights.075.4.23622094.hdf5\n"
     ]
    },
    {
     "data": {
      "application/vnd.jupyter.widget-view+json": {
       "model_id": "d859f1e32d9c4500b40233d648dae0f8",
       "version_major": 2,
       "version_minor": 0
      },
      "text/plain": [
       "A Jupyter Widget"
      ]
     },
     "metadata": {},
     "output_type": "display_data"
    },
    {
     "name": "stdout",
     "output_type": "stream",
     "text": [
      "Epoch 00076: val_loss improved from 4.23622 to 4.23559, saving model to data/taxi/models/weights.076.4.23558968.hdf5\n"
     ]
    },
    {
     "data": {
      "application/vnd.jupyter.widget-view+json": {
       "model_id": "0a0d87375d7d4e449ff169c57da8f178",
       "version_major": 2,
       "version_minor": 0
      },
      "text/plain": [
       "A Jupyter Widget"
      ]
     },
     "metadata": {},
     "output_type": "display_data"
    },
    {
     "name": "stdout",
     "output_type": "stream",
     "text": [
      "Epoch 00077: val_loss improved from 4.23559 to 4.23499, saving model to data/taxi/models/weights.077.4.23499022.hdf5\n"
     ]
    },
    {
     "data": {
      "application/vnd.jupyter.widget-view+json": {
       "model_id": "2250281045ba4060b0c33568c2c423f8",
       "version_major": 2,
       "version_minor": 0
      },
      "text/plain": [
       "A Jupyter Widget"
      ]
     },
     "metadata": {},
     "output_type": "display_data"
    },
    {
     "name": "stdout",
     "output_type": "stream",
     "text": [
      "Epoch 00078: val_loss improved from 4.23499 to 4.23439, saving model to data/taxi/models/weights.078.4.23439420.hdf5\n"
     ]
    },
    {
     "data": {
      "application/vnd.jupyter.widget-view+json": {
       "model_id": "36a2769427dc452a91c469e3ebae7488",
       "version_major": 2,
       "version_minor": 0
      },
      "text/plain": [
       "A Jupyter Widget"
      ]
     },
     "metadata": {},
     "output_type": "display_data"
    },
    {
     "name": "stdout",
     "output_type": "stream",
     "text": [
      "Epoch 00079: val_loss improved from 4.23439 to 4.23375, saving model to data/taxi/models/weights.079.4.23374766.hdf5\n"
     ]
    },
    {
     "data": {
      "application/vnd.jupyter.widget-view+json": {
       "model_id": "9b8db1e690e34e61920ef3c1408bec60",
       "version_major": 2,
       "version_minor": 0
      },
      "text/plain": [
       "A Jupyter Widget"
      ]
     },
     "metadata": {},
     "output_type": "display_data"
    },
    {
     "name": "stdout",
     "output_type": "stream",
     "text": [
      "Epoch 00080: val_loss improved from 4.23375 to 4.23311, saving model to data/taxi/models/weights.080.4.23310862.hdf5\n"
     ]
    },
    {
     "data": {
      "application/vnd.jupyter.widget-view+json": {
       "model_id": "ee8ec120d2e24f2b92a7075be3226fa7",
       "version_major": 2,
       "version_minor": 0
      },
      "text/plain": [
       "A Jupyter Widget"
      ]
     },
     "metadata": {},
     "output_type": "display_data"
    },
    {
     "name": "stdout",
     "output_type": "stream",
     "text": [
      "Epoch 00081: val_loss improved from 4.23311 to 4.23246, saving model to data/taxi/models/weights.081.4.23245877.hdf5\n"
     ]
    },
    {
     "data": {
      "application/vnd.jupyter.widget-view+json": {
       "model_id": "47e743b8e5f04f52b6a8eb11fd681e94",
       "version_major": 2,
       "version_minor": 0
      },
      "text/plain": [
       "A Jupyter Widget"
      ]
     },
     "metadata": {},
     "output_type": "display_data"
    },
    {
     "name": "stdout",
     "output_type": "stream",
     "text": [
      "Epoch 00082: val_loss improved from 4.23246 to 4.23182, saving model to data/taxi/models/weights.082.4.23181968.hdf5\n"
     ]
    },
    {
     "data": {
      "application/vnd.jupyter.widget-view+json": {
       "model_id": "0be8eac8af4e46068031e243e7f62e7c",
       "version_major": 2,
       "version_minor": 0
      },
      "text/plain": [
       "A Jupyter Widget"
      ]
     },
     "metadata": {},
     "output_type": "display_data"
    },
    {
     "name": "stdout",
     "output_type": "stream",
     "text": [
      "Epoch 00083: val_loss improved from 4.23182 to 4.23121, saving model to data/taxi/models/weights.083.4.23121372.hdf5\n"
     ]
    },
    {
     "data": {
      "application/vnd.jupyter.widget-view+json": {
       "model_id": "6399cc25f212446d878c39cab56f57a7",
       "version_major": 2,
       "version_minor": 0
      },
      "text/plain": [
       "A Jupyter Widget"
      ]
     },
     "metadata": {},
     "output_type": "display_data"
    },
    {
     "name": "stdout",
     "output_type": "stream",
     "text": [
      "Epoch 00084: val_loss improved from 4.23121 to 4.23057, saving model to data/taxi/models/weights.084.4.23057433.hdf5\n"
     ]
    },
    {
     "data": {
      "application/vnd.jupyter.widget-view+json": {
       "model_id": "9dfc56352630456f9d26819719bd56fc",
       "version_major": 2,
       "version_minor": 0
      },
      "text/plain": [
       "A Jupyter Widget"
      ]
     },
     "metadata": {},
     "output_type": "display_data"
    },
    {
     "name": "stdout",
     "output_type": "stream",
     "text": [
      "Epoch 00085: val_loss improved from 4.23057 to 4.22994, saving model to data/taxi/models/weights.085.4.22994373.hdf5\n"
     ]
    },
    {
     "data": {
      "application/vnd.jupyter.widget-view+json": {
       "model_id": "0d0cb4cc7c7248b09d2be83827009bcd",
       "version_major": 2,
       "version_minor": 0
      },
      "text/plain": [
       "A Jupyter Widget"
      ]
     },
     "metadata": {},
     "output_type": "display_data"
    },
    {
     "name": "stdout",
     "output_type": "stream",
     "text": [
      "Epoch 00086: val_loss improved from 4.22994 to 4.22928, saving model to data/taxi/models/weights.086.4.22927731.hdf5\n"
     ]
    },
    {
     "data": {
      "application/vnd.jupyter.widget-view+json": {
       "model_id": "b5ac4696b2714bbd9706a472d7b3e4d8",
       "version_major": 2,
       "version_minor": 0
      },
      "text/plain": [
       "A Jupyter Widget"
      ]
     },
     "metadata": {},
     "output_type": "display_data"
    },
    {
     "name": "stdout",
     "output_type": "stream",
     "text": [
      "Epoch 00087: val_loss improved from 4.22928 to 4.22862, saving model to data/taxi/models/weights.087.4.22862314.hdf5\n"
     ]
    },
    {
     "data": {
      "application/vnd.jupyter.widget-view+json": {
       "model_id": "f379bd9a9cc54627a4fe41893397c498",
       "version_major": 2,
       "version_minor": 0
      },
      "text/plain": [
       "A Jupyter Widget"
      ]
     },
     "metadata": {},
     "output_type": "display_data"
    },
    {
     "name": "stdout",
     "output_type": "stream",
     "text": [
      "Epoch 00088: val_loss improved from 4.22862 to 4.22799, saving model to data/taxi/models/weights.088.4.22799080.hdf5\n"
     ]
    },
    {
     "data": {
      "application/vnd.jupyter.widget-view+json": {
       "model_id": "18ec7c26903146f480743ae19f970fb0",
       "version_major": 2,
       "version_minor": 0
      },
      "text/plain": [
       "A Jupyter Widget"
      ]
     },
     "metadata": {},
     "output_type": "display_data"
    },
    {
     "name": "stdout",
     "output_type": "stream",
     "text": [
      "Epoch 00089: val_loss improved from 4.22799 to 4.22734, saving model to data/taxi/models/weights.089.4.22733974.hdf5\n"
     ]
    },
    {
     "data": {
      "application/vnd.jupyter.widget-view+json": {
       "model_id": "63feff84a5df43809f3bc9c1994387e6",
       "version_major": 2,
       "version_minor": 0
      },
      "text/plain": [
       "A Jupyter Widget"
      ]
     },
     "metadata": {},
     "output_type": "display_data"
    },
    {
     "name": "stdout",
     "output_type": "stream",
     "text": [
      "Epoch 00090: val_loss improved from 4.22734 to 4.22672, saving model to data/taxi/models/weights.090.4.22672006.hdf5\n"
     ]
    },
    {
     "data": {
      "application/vnd.jupyter.widget-view+json": {
       "model_id": "b0ba8d1531ea4e88836159f9bba90694",
       "version_major": 2,
       "version_minor": 0
      },
      "text/plain": [
       "A Jupyter Widget"
      ]
     },
     "metadata": {},
     "output_type": "display_data"
    },
    {
     "name": "stdout",
     "output_type": "stream",
     "text": [
      "Epoch 00091: val_loss improved from 4.22672 to 4.22605, saving model to data/taxi/models/weights.091.4.22605153.hdf5\n"
     ]
    },
    {
     "data": {
      "application/vnd.jupyter.widget-view+json": {
       "model_id": "b6835c1ed357461193358d7a70ecb3ce",
       "version_major": 2,
       "version_minor": 0
      },
      "text/plain": [
       "A Jupyter Widget"
      ]
     },
     "metadata": {},
     "output_type": "display_data"
    },
    {
     "name": "stdout",
     "output_type": "stream",
     "text": [
      "Epoch 00092: val_loss improved from 4.22605 to 4.22537, saving model to data/taxi/models/weights.092.4.22537447.hdf5\n"
     ]
    },
    {
     "data": {
      "application/vnd.jupyter.widget-view+json": {
       "model_id": "0d450f59029144c4ad89a682d8f55bf5",
       "version_major": 2,
       "version_minor": 0
      },
      "text/plain": [
       "A Jupyter Widget"
      ]
     },
     "metadata": {},
     "output_type": "display_data"
    },
    {
     "name": "stdout",
     "output_type": "stream",
     "text": [
      "Epoch 00093: val_loss improved from 4.22537 to 4.22466, saving model to data/taxi/models/weights.093.4.22465932.hdf5\n"
     ]
    },
    {
     "data": {
      "application/vnd.jupyter.widget-view+json": {
       "model_id": "2fbf44800b5f4615b9b46162ed70706e",
       "version_major": 2,
       "version_minor": 0
      },
      "text/plain": [
       "A Jupyter Widget"
      ]
     },
     "metadata": {},
     "output_type": "display_data"
    },
    {
     "name": "stdout",
     "output_type": "stream",
     "text": [
      "Epoch 00094: val_loss improved from 4.22466 to 4.22399, saving model to data/taxi/models/weights.094.4.22399192.hdf5\n"
     ]
    },
    {
     "data": {
      "application/vnd.jupyter.widget-view+json": {
       "model_id": "16650ad56d704431a0d6b72b3c83f8d8",
       "version_major": 2,
       "version_minor": 0
      },
      "text/plain": [
       "A Jupyter Widget"
      ]
     },
     "metadata": {},
     "output_type": "display_data"
    },
    {
     "name": "stdout",
     "output_type": "stream",
     "text": [
      "Epoch 00095: val_loss improved from 4.22399 to 4.22327, saving model to data/taxi/models/weights.095.4.22327027.hdf5\n"
     ]
    },
    {
     "data": {
      "application/vnd.jupyter.widget-view+json": {
       "model_id": "8d5993a9d948405cbea7f42a736a8efa",
       "version_major": 2,
       "version_minor": 0
      },
      "text/plain": [
       "A Jupyter Widget"
      ]
     },
     "metadata": {},
     "output_type": "display_data"
    },
    {
     "name": "stdout",
     "output_type": "stream",
     "text": [
      "Epoch 00096: val_loss improved from 4.22327 to 4.22250, saving model to data/taxi/models/weights.096.4.22249749.hdf5\n"
     ]
    },
    {
     "data": {
      "application/vnd.jupyter.widget-view+json": {
       "model_id": "16af4c8884934bf9916df4d649f48ada",
       "version_major": 2,
       "version_minor": 0
      },
      "text/plain": [
       "A Jupyter Widget"
      ]
     },
     "metadata": {},
     "output_type": "display_data"
    },
    {
     "name": "stdout",
     "output_type": "stream",
     "text": [
      "Epoch 00097: val_loss improved from 4.22250 to 4.22179, saving model to data/taxi/models/weights.097.4.22179410.hdf5\n"
     ]
    },
    {
     "data": {
      "application/vnd.jupyter.widget-view+json": {
       "model_id": "4ea25e6b039d455882c527ebf1b31c2b",
       "version_major": 2,
       "version_minor": 0
      },
      "text/plain": [
       "A Jupyter Widget"
      ]
     },
     "metadata": {},
     "output_type": "display_data"
    },
    {
     "name": "stdout",
     "output_type": "stream",
     "text": [
      "Epoch 00098: val_loss improved from 4.22179 to 4.22109, saving model to data/taxi/models/weights.098.4.22108590.hdf5\n"
     ]
    },
    {
     "data": {
      "application/vnd.jupyter.widget-view+json": {
       "model_id": "463db418715f4fcab296e1c03db76ff0",
       "version_major": 2,
       "version_minor": 0
      },
      "text/plain": [
       "A Jupyter Widget"
      ]
     },
     "metadata": {},
     "output_type": "display_data"
    },
    {
     "name": "stdout",
     "output_type": "stream",
     "text": [
      "Epoch 00099: val_loss improved from 4.22109 to 4.22030, saving model to data/taxi/models/weights.099.4.22030055.hdf5\n",
      "\n"
     ]
    },
    {
     "data": {
      "text/plain": [
       "<keras.callbacks.History at 0x7fe5f04261d0>"
      ]
     },
     "execution_count": 60,
     "metadata": {},
     "output_type": "execute_result"
    }
   ],
   "source": [
    "model.fit(X_train_feat, X_train_target, epochs=100, batch_size=batch_size, validation_data=(X_val_feat, X_val_target), callbacks=[tqdm, checkpoint], verbose=0)"
   ]
  },
  {
   "cell_type": "code",
   "execution_count": 61,
   "metadata": {
    "ExecuteTime": {
     "end_time": "2017-09-19T20:51:01.162241Z",
     "start_time": "2017-09-19T20:51:01.103757Z"
    },
    "collapsed": true
   },
   "outputs": [],
   "source": [
    "model.save(data_path+'models/current_model.hdf5')"
   ]
  },
  {
   "cell_type": "markdown",
   "metadata": {},
   "source": [
    "### new valid"
   ]
  },
  {
   "cell_type": "code",
   "execution_count": 62,
   "metadata": {
    "ExecuteTime": {
     "end_time": "2017-09-19T20:52:11.244531Z",
     "start_time": "2017-09-19T20:51:10.128021Z"
    },
    "scrolled": true
   },
   "outputs": [
    {
     "data": {
      "application/vnd.jupyter.widget-view+json": {
       "model_id": "e76f838f1c4e4bb0806d0e29725aa6ab",
       "version_major": 2,
       "version_minor": 0
      },
      "text/plain": [
       "A Jupyter Widget"
      ]
     },
     "metadata": {},
     "output_type": "display_data"
    },
    {
     "data": {
      "application/vnd.jupyter.widget-view+json": {
       "model_id": "6f2e30977dc14718bae7a3500ed64af3",
       "version_major": 2,
       "version_minor": 0
      },
      "text/plain": [
       "A Jupyter Widget"
      ]
     },
     "metadata": {},
     "output_type": "display_data"
    },
    {
     "name": "stdout",
     "output_type": "stream",
     "text": [
      "Epoch 00000: val_loss improved from 4.22030 to 4.21952, saving model to data/taxi/models/weights.000.4.21952278.hdf5\n",
      "\n"
     ]
    },
    {
     "data": {
      "text/plain": [
       "<keras.callbacks.History at 0x7fe5f33ac940>"
      ]
     },
     "execution_count": 62,
     "metadata": {},
     "output_type": "execute_result"
    }
   ],
   "source": [
    "model.fit(X_train_feat, X_train_target, epochs=1, batch_size=batch_size, validation_data=(X_val_feat, X_val_target), callbacks=[tqdm, checkpoint], verbose=0)"
   ]
  },
  {
   "cell_type": "code",
   "execution_count": null,
   "metadata": {
    "collapsed": true
   },
   "outputs": [],
   "source": [
    "# - Load again the saved best model, otherwise the training would go on from the current model\n",
    "# - which is not guaranteed to be the best one\n",
    "# - (check the actual file name)\n",
    "model = load_model(data_path+'models/weights.000.0.73703137.hdf5', custom_objects={'equirectangular_loss':equirectangular_loss})"
   ]
  },
  {
   "cell_type": "code",
   "execution_count": null,
   "metadata": {
    "ExecuteTime": {
     "start_time": "2017-09-19T20:58:15.455Z"
    },
    "scrolled": true
   },
   "outputs": [
    {
     "data": {
      "application/vnd.jupyter.widget-view+json": {
       "model_id": "de14fdabd8044b52bbdd4e53542d7dc5",
       "version_major": 2,
       "version_minor": 0
      },
      "text/plain": [
       "A Jupyter Widget"
      ]
     },
     "metadata": {},
     "output_type": "display_data"
    },
    {
     "data": {
      "application/vnd.jupyter.widget-view+json": {
       "model_id": "1f253ed3a0ec4646ad879250996c51b2",
       "version_major": 2,
       "version_minor": 0
      },
      "text/plain": [
       "A Jupyter Widget"
      ]
     },
     "metadata": {},
     "output_type": "display_data"
    },
    {
     "name": "stdout",
     "output_type": "stream",
     "text": [
      "\n",
      "Epoch 00000: val_loss improved from 4.21952 to 0.73703, saving model to data/taxi/models/weights.000.0.73703137.hdf5\n"
     ]
    },
    {
     "data": {
      "application/vnd.jupyter.widget-view+json": {
       "model_id": "b9dc328febd94a32a9c6cead1331099b",
       "version_major": 2,
       "version_minor": 0
      },
      "text/plain": [
       "A Jupyter Widget"
      ]
     },
     "metadata": {},
     "output_type": "display_data"
    },
    {
     "name": "stdout",
     "output_type": "stream",
     "text": [
      "Epoch 00001: val_loss did not improve\n"
     ]
    },
    {
     "data": {
      "application/vnd.jupyter.widget-view+json": {
       "model_id": "facf6ea9e50d4de498f9716daefe0126",
       "version_major": 2,
       "version_minor": 0
      },
      "text/plain": [
       "A Jupyter Widget"
      ]
     },
     "metadata": {},
     "output_type": "display_data"
    },
    {
     "name": "stdout",
     "output_type": "stream",
     "text": [
      "Epoch 00002: val_loss did not improve\n"
     ]
    },
    {
     "data": {
      "application/vnd.jupyter.widget-view+json": {
       "model_id": "c7fec17aafcc4205a2f995d4705e9d78",
       "version_major": 2,
       "version_minor": 0
      },
      "text/plain": [
       "A Jupyter Widget"
      ]
     },
     "metadata": {},
     "output_type": "display_data"
    },
    {
     "name": "stdout",
     "output_type": "stream",
     "text": [
      "Epoch 00003: val_loss did not improve\n"
     ]
    },
    {
     "data": {
      "application/vnd.jupyter.widget-view+json": {
       "model_id": "56d3c90c1ea64e7abb4de9d3a7b01137",
       "version_major": 2,
       "version_minor": 0
      },
      "text/plain": [
       "A Jupyter Widget"
      ]
     },
     "metadata": {},
     "output_type": "display_data"
    },
    {
     "name": "stdout",
     "output_type": "stream",
     "text": [
      "Epoch 00004: val_loss did not improve\n"
     ]
    },
    {
     "data": {
      "application/vnd.jupyter.widget-view+json": {
       "model_id": "9b3c5f5208874fd4b703ad68e03fc9ae",
       "version_major": 2,
       "version_minor": 0
      },
      "text/plain": [
       "A Jupyter Widget"
      ]
     },
     "metadata": {},
     "output_type": "display_data"
    },
    {
     "name": "stdout",
     "output_type": "stream",
     "text": [
      "Epoch 00005: val_loss did not improve\n"
     ]
    },
    {
     "data": {
      "application/vnd.jupyter.widget-view+json": {
       "model_id": "7764f0763e8f447cbc608a02a74f9063",
       "version_major": 2,
       "version_minor": 0
      },
      "text/plain": [
       "A Jupyter Widget"
      ]
     },
     "metadata": {},
     "output_type": "display_data"
    },
    {
     "name": "stdout",
     "output_type": "stream",
     "text": [
      "Epoch 00006: val_loss did not improve\n"
     ]
    },
    {
     "data": {
      "application/vnd.jupyter.widget-view+json": {
       "model_id": "f2859054fb8e48acb0e978ef491f488d",
       "version_major": 2,
       "version_minor": 0
      },
      "text/plain": [
       "A Jupyter Widget"
      ]
     },
     "metadata": {},
     "output_type": "display_data"
    },
    {
     "name": "stdout",
     "output_type": "stream",
     "text": [
      "Epoch 00007: val_loss did not improve\n"
     ]
    },
    {
     "data": {
      "application/vnd.jupyter.widget-view+json": {
       "model_id": "29b7da810f674c23b2275a09c1c267df",
       "version_major": 2,
       "version_minor": 0
      },
      "text/plain": [
       "A Jupyter Widget"
      ]
     },
     "metadata": {},
     "output_type": "display_data"
    },
    {
     "name": "stdout",
     "output_type": "stream",
     "text": [
      "Epoch 00008: val_loss did not improve\n"
     ]
    },
    {
     "data": {
      "application/vnd.jupyter.widget-view+json": {
       "model_id": "0af2cbeaba09417bad7f04e3551a3372",
       "version_major": 2,
       "version_minor": 0
      },
      "text/plain": [
       "A Jupyter Widget"
      ]
     },
     "metadata": {},
     "output_type": "display_data"
    },
    {
     "name": "stdout",
     "output_type": "stream",
     "text": [
      "Epoch 00009: val_loss did not improve\n"
     ]
    },
    {
     "data": {
      "application/vnd.jupyter.widget-view+json": {
       "model_id": "34d3c65dd1d7424faefe4364bbf061a9",
       "version_major": 2,
       "version_minor": 0
      },
      "text/plain": [
       "A Jupyter Widget"
      ]
     },
     "metadata": {},
     "output_type": "display_data"
    },
    {
     "name": "stdout",
     "output_type": "stream",
     "text": [
      "Epoch 00010: val_loss did not improve\n"
     ]
    },
    {
     "data": {
      "application/vnd.jupyter.widget-view+json": {
       "model_id": "e0ec345c89b64658a24df6841d5e5e7e",
       "version_major": 2,
       "version_minor": 0
      },
      "text/plain": [
       "A Jupyter Widget"
      ]
     },
     "metadata": {},
     "output_type": "display_data"
    },
    {
     "name": "stdout",
     "output_type": "stream",
     "text": [
      "Epoch 00011: val_loss did not improve\n"
     ]
    },
    {
     "data": {
      "application/vnd.jupyter.widget-view+json": {
       "model_id": "35be9653c513454a95b4a62cb3bb1f61",
       "version_major": 2,
       "version_minor": 0
      },
      "text/plain": [
       "A Jupyter Widget"
      ]
     },
     "metadata": {},
     "output_type": "display_data"
    },
    {
     "name": "stdout",
     "output_type": "stream",
     "text": [
      "Epoch 00012: val_loss did not improve\n"
     ]
    },
    {
     "data": {
      "application/vnd.jupyter.widget-view+json": {
       "model_id": "9fde847dcc504e1e92540f989f6fa48a",
       "version_major": 2,
       "version_minor": 0
      },
      "text/plain": [
       "A Jupyter Widget"
      ]
     },
     "metadata": {},
     "output_type": "display_data"
    },
    {
     "name": "stdout",
     "output_type": "stream",
     "text": [
      "Epoch 00013: val_loss did not improve\n"
     ]
    },
    {
     "data": {
      "application/vnd.jupyter.widget-view+json": {
       "model_id": "526e3935dc7f44b09a1b3eeae3966d08",
       "version_major": 2,
       "version_minor": 0
      },
      "text/plain": [
       "A Jupyter Widget"
      ]
     },
     "metadata": {},
     "output_type": "display_data"
    },
    {
     "name": "stdout",
     "output_type": "stream",
     "text": [
      "Epoch 00014: val_loss did not improve\n"
     ]
    },
    {
     "data": {
      "application/vnd.jupyter.widget-view+json": {
       "model_id": "84b5b0329a304550a0d4c6f453dac040",
       "version_major": 2,
       "version_minor": 0
      },
      "text/plain": [
       "A Jupyter Widget"
      ]
     },
     "metadata": {},
     "output_type": "display_data"
    },
    {
     "name": "stdout",
     "output_type": "stream",
     "text": [
      "Epoch 00015: val_loss did not improve\n"
     ]
    },
    {
     "data": {
      "application/vnd.jupyter.widget-view+json": {
       "model_id": "9af2a675b9d34dd9a6ce1db9abbd0bc9",
       "version_major": 2,
       "version_minor": 0
      },
      "text/plain": [
       "A Jupyter Widget"
      ]
     },
     "metadata": {},
     "output_type": "display_data"
    },
    {
     "name": "stdout",
     "output_type": "stream",
     "text": [
      "Epoch 00016: val_loss did not improve\n"
     ]
    },
    {
     "data": {
      "application/vnd.jupyter.widget-view+json": {
       "model_id": "ccee32a0a582499cb3d52422edd00230",
       "version_major": 2,
       "version_minor": 0
      },
      "text/plain": [
       "A Jupyter Widget"
      ]
     },
     "metadata": {},
     "output_type": "display_data"
    },
    {
     "name": "stdout",
     "output_type": "stream",
     "text": [
      "Epoch 00017: val_loss did not improve\n"
     ]
    },
    {
     "data": {
      "application/vnd.jupyter.widget-view+json": {
       "model_id": "8bd1e77cd4714dc59f2bdd8cf63b1277",
       "version_major": 2,
       "version_minor": 0
      },
      "text/plain": [
       "A Jupyter Widget"
      ]
     },
     "metadata": {},
     "output_type": "display_data"
    },
    {
     "name": "stdout",
     "output_type": "stream",
     "text": [
      "Epoch 00018: val_loss did not improve\n"
     ]
    },
    {
     "data": {
      "application/vnd.jupyter.widget-view+json": {
       "model_id": "fd1126eb918f44a8b08c3ca997266a1b",
       "version_major": 2,
       "version_minor": 0
      },
      "text/plain": [
       "A Jupyter Widget"
      ]
     },
     "metadata": {},
     "output_type": "display_data"
    },
    {
     "name": "stdout",
     "output_type": "stream",
     "text": [
      "Epoch 00019: val_loss did not improve\n"
     ]
    },
    {
     "data": {
      "application/vnd.jupyter.widget-view+json": {
       "model_id": "dc52bb8f856b4979824bdf83d8f36384",
       "version_major": 2,
       "version_minor": 0
      },
      "text/plain": [
       "A Jupyter Widget"
      ]
     },
     "metadata": {},
     "output_type": "display_data"
    },
    {
     "name": "stdout",
     "output_type": "stream",
     "text": [
      "Epoch 00020: val_loss did not improve\n"
     ]
    },
    {
     "data": {
      "application/vnd.jupyter.widget-view+json": {
       "model_id": "534b26418062480bb010e831cfa3faaf",
       "version_major": 2,
       "version_minor": 0
      },
      "text/plain": [
       "A Jupyter Widget"
      ]
     },
     "metadata": {},
     "output_type": "display_data"
    },
    {
     "name": "stdout",
     "output_type": "stream",
     "text": [
      "Epoch 00021: val_loss did not improve\n"
     ]
    },
    {
     "data": {
      "application/vnd.jupyter.widget-view+json": {
       "model_id": "4fb49fa799b049c685fd84511e2dd842",
       "version_major": 2,
       "version_minor": 0
      },
      "text/plain": [
       "A Jupyter Widget"
      ]
     },
     "metadata": {},
     "output_type": "display_data"
    },
    {
     "name": "stdout",
     "output_type": "stream",
     "text": [
      "Epoch 00022: val_loss did not improve\n"
     ]
    },
    {
     "data": {
      "application/vnd.jupyter.widget-view+json": {
       "model_id": "a21f9cf4aaba48f985a7a8079b74aa0a",
       "version_major": 2,
       "version_minor": 0
      },
      "text/plain": [
       "A Jupyter Widget"
      ]
     },
     "metadata": {},
     "output_type": "display_data"
    },
    {
     "name": "stdout",
     "output_type": "stream",
     "text": [
      "Epoch 00023: val_loss did not improve\n"
     ]
    },
    {
     "data": {
      "application/vnd.jupyter.widget-view+json": {
       "model_id": "4860b9ec4e8944feb02f7588df6c47d3",
       "version_major": 2,
       "version_minor": 0
      },
      "text/plain": [
       "A Jupyter Widget"
      ]
     },
     "metadata": {},
     "output_type": "display_data"
    },
    {
     "name": "stdout",
     "output_type": "stream",
     "text": [
      "Epoch 00024: val_loss did not improve\n"
     ]
    },
    {
     "data": {
      "application/vnd.jupyter.widget-view+json": {
       "model_id": "f7c8a3226b20461689e50f19407de7a0",
       "version_major": 2,
       "version_minor": 0
      },
      "text/plain": [
       "A Jupyter Widget"
      ]
     },
     "metadata": {},
     "output_type": "display_data"
    }
   ],
   "source": [
    "model.fit(X_train_feat, X_train_target, epochs=400, batch_size=batch_size, validation_data=(X_val_feat, X_val_target), callbacks=[tqdm, checkpoint], verbose=0)"
   ]
  },
  {
   "cell_type": "code",
   "execution_count": null,
   "metadata": {
    "ExecuteTime": {
     "start_time": "2017-09-19T21:21:18.959Z"
    },
    "collapsed": true
   },
   "outputs": [],
   "source": [
    "model.save(data_path+'models/current_model.hdf5')"
   ]
  },
  {
   "cell_type": "code",
   "execution_count": null,
   "metadata": {
    "ExecuteTime": {
     "end_time": "2017-09-19T09:11:07.240301Z",
     "start_time": "2017-09-19T09:11:07.234652Z"
    },
    "collapsed": true
   },
   "outputs": [],
   "source": [
    "len(X_val_feat[0])"
   ]
  },
  {
   "cell_type": "markdown",
   "metadata": {},
   "source": [
    "It works, but it seems to converge unrealistically quick and the loss values are not the same. The paper does not mention what it's using as \"error\" in it's results. I assume the same equirectangular? Not very clear. The difference in values could be due to the missing Earth-radius factor"
   ]
  },
  {
   "cell_type": "markdown",
   "metadata": {},
   "source": [
    "## Kaggle Entry"
   ]
  },
  {
   "cell_type": "code",
   "execution_count": null,
   "metadata": {
    "ExecuteTime": {
     "end_time": "2017-09-19T09:14:23.883186Z",
     "start_time": "2017-09-19T09:14:23.167069Z"
    },
    "collapsed": true
   },
   "outputs": [],
   "source": [
    "# - Use the filename of the best model\n",
    "best_model = load_model(data_path+'models/weights.308.0.03373993.hdf5', custom_objects={'equirectangular_loss':equirectangular_loss})"
   ]
  },
  {
   "cell_type": "code",
   "execution_count": null,
   "metadata": {
    "ExecuteTime": {
     "end_time": "2017-09-19T09:14:38.332674Z",
     "start_time": "2017-09-19T09:14:38.183047Z"
    },
    "collapsed": true
   },
   "outputs": [],
   "source": [
    "best_model.evaluate(X_val_feat, X_val_target)"
   ]
  },
  {
   "cell_type": "code",
   "execution_count": null,
   "metadata": {
    "ExecuteTime": {
     "end_time": "2017-09-19T09:15:01.134180Z",
     "start_time": "2017-09-19T09:15:01.008113Z"
    },
    "collapsed": true
   },
   "outputs": [],
   "source": [
    "test = pd.DataFrame(utils2.load_array(data_path+'test/test_features.bc'),columns=['TRIP_ID', 'CALL_TYPE', 'ORIGIN_CALL', 'ORIGIN_STAND', 'TAXI_ID',\n",
    "       'TIMESTAMP', 'DAY_TYPE', 'MISSING_DATA', 'POLYLINE', 'LATITUDE', 'LONGITUDE',\n",
    "                            'COORD_FEATURES', \"DAY_OF_WEEK\", \"QUARTER_HOUR\", \"WEEK_OF_YEAR\"])"
   ]
  },
  {
   "cell_type": "code",
   "execution_count": null,
   "metadata": {
    "ExecuteTime": {
     "end_time": "2017-09-18T22:08:38.727391Z",
     "start_time": "2017-09-18T22:08:38.670316Z"
    },
    "collapsed": true
   },
   "outputs": [],
   "source": [
    "# test['ORIGIN_CALL'] = pd.read_csv(data_path+'real_origin_call.csv', header=None)  # - file not available"
   ]
  },
  {
   "cell_type": "code",
   "execution_count": null,
   "metadata": {
    "ExecuteTime": {
     "end_time": "2017-09-18T22:08:51.968390Z",
     "start_time": "2017-09-18T22:08:51.918987Z"
    },
    "collapsed": true
   },
   "outputs": [],
   "source": [
    "# test['TAXI_ID'] = pd.read_csv(data_path+'real_taxi_id.csv',header=None)  #  # - file not available"
   ]
  },
  {
   "cell_type": "code",
   "execution_count": null,
   "metadata": {
    "ExecuteTime": {
     "end_time": "2017-09-19T09:20:45.266444Z",
     "start_time": "2017-09-19T09:20:45.246878Z"
    },
    "collapsed": true
   },
   "outputs": [],
   "source": [
    "X_test = get_features(test)"
   ]
  },
  {
   "cell_type": "code",
   "execution_count": null,
   "metadata": {
    "ExecuteTime": {
     "end_time": "2017-09-19T09:20:48.657708Z",
     "start_time": "2017-09-19T09:20:48.653642Z"
    },
    "collapsed": true
   },
   "outputs": [],
   "source": [
    "b = np.sort(X_test[1],axis=None)"
   ]
  },
  {
   "cell_type": "code",
   "execution_count": null,
   "metadata": {
    "ExecuteTime": {
     "end_time": "2017-09-19T09:20:51.000692Z",
     "start_time": "2017-09-19T09:20:50.860852Z"
    },
    "collapsed": true
   },
   "outputs": [],
   "source": [
    "test_preds = np.round(best_model.predict(X_test), decimals=6)"
   ]
  },
  {
   "cell_type": "code",
   "execution_count": null,
   "metadata": {
    "ExecuteTime": {
     "end_time": "2017-09-19T09:20:55.691601Z",
     "start_time": "2017-09-19T09:20:55.684762Z"
    },
    "collapsed": true
   },
   "outputs": [],
   "source": [
    "d = {0:test['TRIP_ID'], 1:test_preds[:,1], 2:test_preds[:,0]}\n",
    "kaggle_out = pd.DataFrame(data=d)"
   ]
  },
  {
   "cell_type": "code",
   "execution_count": null,
   "metadata": {
    "ExecuteTime": {
     "end_time": "2017-09-19T09:21:06.807166Z",
     "start_time": "2017-09-19T09:21:06.794916Z"
    },
    "collapsed": true
   },
   "outputs": [],
   "source": [
    "kaggle_out.to_csv(data_path+'submission.csv', header=['TRIP_ID','LATITUDE', 'LONGITUDE'], index=False)"
   ]
  },
  {
   "cell_type": "code",
   "execution_count": null,
   "metadata": {
    "ExecuteTime": {
     "end_time": "2017-09-19T09:23:52.279091Z",
     "start_time": "2017-09-19T09:23:52.245640Z"
    },
    "collapsed": true
   },
   "outputs": [],
   "source": [
    "def hdist(a, b):\n",
    "    deg2rad = 3.141592653589793 / 180\n",
    "\n",
    "    lat1 = a[:, 1] * deg2rad\n",
    "    lon1 = a[:, 0] * deg2rad\n",
    "    lat2 = b[:, 1] * deg2rad\n",
    "    lon2 = b[:, 0] * deg2rad\n",
    "\n",
    "    dlat = abs(lat1-lat2)\n",
    "    dlon = abs(lon1-lon2)\n",
    "\n",
    "    al = np.sin(dlat/2)**2  + np.cos(lat1) * np.cos(lat2) * (np.sin(dlon/2)**2)\n",
    "    d = np.arctan2(np.sqrt(al), np.sqrt(1-al))\n",
    "\n",
    "    hd = 2 * 6371 * d\n",
    "\n",
    "    return hd"
   ]
  },
  {
   "cell_type": "code",
   "execution_count": null,
   "metadata": {
    "ExecuteTime": {
     "end_time": "2017-09-19T09:23:59.407225Z",
     "start_time": "2017-09-19T09:23:59.363841Z"
    },
    "collapsed": true
   },
   "outputs": [],
   "source": [
    "val_preds = best_model.predict(X_val_feat)"
   ]
  },
  {
   "cell_type": "code",
   "execution_count": null,
   "metadata": {
    "ExecuteTime": {
     "end_time": "2017-09-19T09:25:49.945662Z",
     "start_time": "2017-09-19T09:24:02.442876Z"
    },
    "collapsed": true
   },
   "outputs": [],
   "source": [
    "trn_preds = model.predict(X_train_feat)"
   ]
  },
  {
   "cell_type": "code",
   "execution_count": null,
   "metadata": {
    "ExecuteTime": {
     "end_time": "2017-09-19T09:52:50.505393Z",
     "start_time": "2017-09-19T09:52:50.500099Z"
    },
    "collapsed": true
   },
   "outputs": [],
   "source": [
    "er = hdist(val_preds, X_val_target)"
   ]
  },
  {
   "cell_type": "code",
   "execution_count": null,
   "metadata": {
    "ExecuteTime": {
     "end_time": "2017-09-19T09:53:01.756475Z",
     "start_time": "2017-09-19T09:53:01.748707Z"
    },
    "collapsed": true
   },
   "outputs": [],
   "source": [
    "er.mean()"
   ]
  },
  {
   "cell_type": "code",
   "execution_count": null,
   "metadata": {
    "collapsed": true
   },
   "outputs": [],
   "source": []
  },
  {
   "cell_type": "code",
   "execution_count": null,
   "metadata": {
    "ExecuteTime": {
     "end_time": "2017-09-19T09:57:40.594976Z",
     "start_time": "2017-09-19T09:57:40.587516Z"
    },
    "collapsed": true
   },
   "outputs": [],
   "source": [
    "K.equal()"
   ]
  },
  {
   "cell_type": "markdown",
   "metadata": {},
   "source": [
    "To-do: simple to extend to validation data"
   ]
  },
  {
   "cell_type": "markdown",
   "metadata": {
    "heading_collapsed": true
   },
   "source": [
    "## Uh oh... training data not representative of test"
   ]
  },
  {
   "cell_type": "code",
   "execution_count": null,
   "metadata": {
    "ExecuteTime": {
     "end_time": "2017-09-18T22:11:23.128718Z",
     "start_time": "2017-09-18T22:11:23.124132Z"
    },
    "collapsed": true,
    "hidden": true
   },
   "outputs": [],
   "source": [
    "cuts = [\n",
    "    1376503200, # 2013-08-14 18:00\n",
    "    1380616200, # 2013-10-01 08:30\n",
    "    1381167900, # 2013-10-07 17:45\n",
    "    1383364800, # 2013-11-02 04:00\n",
    "    1387722600  # 2013-12-22 14:30\n",
    "]"
   ]
  },
  {
   "cell_type": "code",
   "execution_count": null,
   "metadata": {
    "ExecuteTime": {
     "end_time": "2017-09-18T22:11:24.192595Z",
     "start_time": "2017-09-18T22:11:23.650199Z"
    },
    "collapsed": true,
    "hidden": true
   },
   "outputs": [],
   "source": [
    "np.any([train['TIMESTAMP'].map(lambda x: x in cuts)])"
   ]
  },
  {
   "cell_type": "code",
   "execution_count": null,
   "metadata": {
    "ExecuteTime": {
     "end_time": "2017-09-18T22:11:25.391910Z",
     "start_time": "2017-09-18T22:11:25.381723Z"
    },
    "collapsed": true,
    "hidden": true,
    "scrolled": true
   },
   "outputs": [],
   "source": [
    "train['TIMESTAMP']"
   ]
  },
  {
   "cell_type": "code",
   "execution_count": null,
   "metadata": {
    "ExecuteTime": {
     "end_time": "2017-09-18T22:11:30.394262Z",
     "start_time": "2017-09-18T22:11:30.214167Z"
    },
    "collapsed": true,
    "hidden": true
   },
   "outputs": [],
   "source": [
    "np.any(train['TIMESTAMP']==1381167900)"
   ]
  },
  {
   "cell_type": "code",
   "execution_count": null,
   "metadata": {
    "ExecuteTime": {
     "end_time": "2017-09-18T22:11:31.937200Z",
     "start_time": "2017-09-18T22:11:31.933514Z"
    },
    "collapsed": true,
    "hidden": true
   },
   "outputs": [],
   "source": [
    "times = train['TIMESTAMP'].as_matrix()"
   ]
  },
  {
   "cell_type": "code",
   "execution_count": null,
   "metadata": {
    "ExecuteTime": {
     "end_time": "2017-09-18T22:11:32.722165Z",
     "start_time": "2017-09-18T22:11:32.716476Z"
    },
    "collapsed": true,
    "hidden": true
   },
   "outputs": [],
   "source": [
    "X_train.columns"
   ]
  },
  {
   "cell_type": "code",
   "execution_count": null,
   "metadata": {
    "ExecuteTime": {
     "end_time": "2017-09-18T22:11:34.017820Z",
     "start_time": "2017-09-18T22:11:34.012604Z"
    },
    "collapsed": true,
    "hidden": true
   },
   "outputs": [],
   "source": [
    "times"
   ]
  },
  {
   "cell_type": "code",
   "execution_count": null,
   "metadata": {
    "ExecuteTime": {
     "end_time": "2017-09-18T22:11:38.587249Z",
     "start_time": "2017-09-18T22:11:38.494072Z"
    },
    "collapsed": true,
    "hidden": true
   },
   "outputs": [],
   "source": [
    "\n",
    "count = 0\n",
    "for index, row in X_val.iterrows():\n",
    "    for ts in cuts:\n",
    "        time = row['TIMESTAMP']\n",
    "        latitude = row['LATITUDE']\n",
    "        if time <= ts and time + 15 * (len(latitude) - 1) >= ts:\n",
    "            count += 1"
   ]
  },
  {
   "cell_type": "code",
   "execution_count": null,
   "metadata": {
    "ExecuteTime": {
     "end_time": "2017-09-18T22:11:39.579020Z",
     "start_time": "2017-09-18T22:11:39.575446Z"
    },
    "collapsed": true,
    "hidden": true
   },
   "outputs": [],
   "source": [
    "one = count"
   ]
  },
  {
   "cell_type": "code",
   "execution_count": null,
   "metadata": {
    "ExecuteTime": {
     "end_time": "2017-09-18T22:11:40.433701Z",
     "start_time": "2017-09-18T22:11:40.428770Z"
    },
    "collapsed": true,
    "hidden": true
   },
   "outputs": [],
   "source": [
    "count + one"
   ]
  },
  {
   "cell_type": "code",
   "execution_count": null,
   "metadata": {
    "ExecuteTime": {
     "end_time": "2017-09-18T22:11:41.504275Z",
     "start_time": "2017-09-18T22:11:41.500843Z"
    },
    "collapsed": true,
    "hidden": true
   },
   "outputs": [],
   "source": [
    "import h5py"
   ]
  },
  {
   "cell_type": "code",
   "execution_count": null,
   "metadata": {
    "ExecuteTime": {
     "end_time": "2017-09-18T22:11:44.758549Z",
     "start_time": "2017-09-18T22:11:44.700494Z"
    },
    "collapsed": true,
    "hidden": true
   },
   "outputs": [],
   "source": [
    "h = h5py.File(data_path+'original/data.hdf5', 'r')"
   ]
  },
  {
   "cell_type": "code",
   "execution_count": null,
   "metadata": {
    "ExecuteTime": {
     "end_time": "2017-09-18T22:11:57.005647Z",
     "start_time": "2017-09-18T22:11:56.989155Z"
    },
    "collapsed": true,
    "hidden": true
   },
   "outputs": [],
   "source": [
    "evrData=h['/Configure:0000/Run:0000/CalibCycle:0000/EvrData::DataV3/NoDetector.0:Evr.0/data']"
   ]
  },
  {
   "cell_type": "code",
   "execution_count": null,
   "metadata": {
    "ExecuteTime": {
     "end_time": "2017-09-18T22:12:00.304844Z",
     "start_time": "2017-09-18T22:12:00.269123Z"
    },
    "collapsed": true,
    "hidden": true
   },
   "outputs": [],
   "source": [
    "c = np.load(data_path+'original/arrival-clusters.pkl')"
   ]
  },
  {
   "cell_type": "markdown",
   "metadata": {
    "hidden": true
   },
   "source": [
    "### hd5f files"
   ]
  },
  {
   "cell_type": "code",
   "execution_count": null,
   "metadata": {
    "ExecuteTime": {
     "end_time": "2017-09-18T22:12:15.156966Z",
     "start_time": "2017-09-18T22:12:15.124751Z"
    },
    "collapsed": true,
    "hidden": true
   },
   "outputs": [],
   "source": [
    "from fuel.utils import find_in_data_path\n",
    "from fuel.datasets import H5PYDataset\n"
   ]
  },
  {
   "cell_type": "code",
   "execution_count": null,
   "metadata": {
    "ExecuteTime": {
     "end_time": "2017-09-18T22:12:16.937474Z",
     "start_time": "2017-09-18T22:12:16.933872Z"
    },
    "collapsed": true,
    "hidden": true
   },
   "outputs": [],
   "source": [
    "original_path = '/data/bckenstler/data/taxi/original/'"
   ]
  },
  {
   "cell_type": "code",
   "execution_count": null,
   "metadata": {
    "ExecuteTime": {
     "end_time": "2017-09-18T22:12:18.251271Z",
     "start_time": "2017-09-18T22:12:18.230225Z"
    },
    "collapsed": true,
    "hidden": true
   },
   "outputs": [],
   "source": [
    "train_set = H5PYDataset(original_path+'data.hdf5', which_sets=('train',),load_in_memory=True)"
   ]
  },
  {
   "cell_type": "code",
   "execution_count": null,
   "metadata": {
    "ExecuteTime": {
     "end_time": "2017-09-18T22:12:19.018265Z",
     "start_time": "2017-09-18T22:12:18.997224Z"
    },
    "collapsed": true,
    "hidden": true
   },
   "outputs": [],
   "source": [
    "valid_set = H5PYDataset(original_path+'valid.hdf5', which_sets=('cuts/test_times_0',),load_in_memory=True)"
   ]
  },
  {
   "cell_type": "code",
   "execution_count": null,
   "metadata": {
    "ExecuteTime": {
     "end_time": "2017-09-18T22:12:19.501862Z",
     "start_time": "2017-09-18T22:12:19.481646Z"
    },
    "collapsed": true,
    "hidden": true
   },
   "outputs": [],
   "source": [
    "print(train_set.num_examples)"
   ]
  },
  {
   "cell_type": "code",
   "execution_count": null,
   "metadata": {
    "ExecuteTime": {
     "end_time": "2017-09-18T22:12:20.024706Z",
     "start_time": "2017-09-18T22:12:20.004715Z"
    },
    "collapsed": true,
    "hidden": true
   },
   "outputs": [],
   "source": [
    "print(valid_set.num_examples)"
   ]
  },
  {
   "cell_type": "code",
   "execution_count": null,
   "metadata": {
    "ExecuteTime": {
     "end_time": "2017-09-18T22:12:20.397906Z",
     "start_time": "2017-09-18T22:12:20.376514Z"
    },
    "collapsed": true,
    "hidden": true
   },
   "outputs": [],
   "source": [
    "data = train_set.data_sources"
   ]
  },
  {
   "cell_type": "code",
   "execution_count": null,
   "metadata": {
    "ExecuteTime": {
     "end_time": "2017-09-18T22:12:20.674811Z",
     "start_time": "2017-09-18T22:12:20.658055Z"
    },
    "collapsed": true,
    "hidden": true,
    "scrolled": true
   },
   "outputs": [],
   "source": [
    "data[0]"
   ]
  },
  {
   "cell_type": "code",
   "execution_count": null,
   "metadata": {
    "ExecuteTime": {
     "end_time": "2017-09-18T22:12:20.898948Z",
     "start_time": "2017-09-18T22:12:20.878909Z"
    },
    "collapsed": true,
    "hidden": true
   },
   "outputs": [],
   "source": [
    "valid_data = valid_set.data_sources"
   ]
  },
  {
   "cell_type": "code",
   "execution_count": null,
   "metadata": {
    "collapsed": true,
    "hidden": true
   },
   "outputs": [],
   "source": [
    "valid_data[4][0]"
   ]
  },
  {
   "cell_type": "code",
   "execution_count": null,
   "metadata": {
    "collapsed": true,
    "hidden": true
   },
   "outputs": [],
   "source": [
    "stamps = valid_data[-3]"
   ]
  },
  {
   "cell_type": "code",
   "execution_count": null,
   "metadata": {
    "collapsed": true,
    "hidden": true
   },
   "outputs": [],
   "source": [
    "stamps[0]"
   ]
  },
  {
   "cell_type": "code",
   "execution_count": null,
   "metadata": {
    "collapsed": true,
    "hidden": true
   },
   "outputs": [],
   "source": [
    "for i in range(0,304):    \n",
    "    print(np.any([t==int(stamps[i]) for t in X_val['TIMESTAMP']]))"
   ]
  },
  {
   "cell_type": "code",
   "execution_count": null,
   "metadata": {
    "collapsed": true,
    "hidden": true
   },
   "outputs": [],
   "source": [
    "type(X_train['TIMESTAMP'][0])"
   ]
  },
  {
   "cell_type": "code",
   "execution_count": null,
   "metadata": {
    "collapsed": true,
    "hidden": true
   },
   "outputs": [],
   "source": [
    "type(stamps[0])"
   ]
  },
  {
   "cell_type": "code",
   "execution_count": null,
   "metadata": {
    "collapsed": true,
    "hidden": true
   },
   "outputs": [],
   "source": []
  },
  {
   "cell_type": "code",
   "execution_count": null,
   "metadata": {
    "collapsed": true,
    "hidden": true
   },
   "outputs": [],
   "source": [
    "check = [s in stamps for s in X_val['TIMESTAMP']]"
   ]
  },
  {
   "cell_type": "code",
   "execution_count": null,
   "metadata": {
    "collapsed": true,
    "hidden": true
   },
   "outputs": [],
   "source": [
    "for s in X_val['TIMESTAMP']:\n",
    "    print(datetime.datetime.fromtimestamp(s))"
   ]
  },
  {
   "cell_type": "code",
   "execution_count": null,
   "metadata": {
    "collapsed": true,
    "hidden": true
   },
   "outputs": [],
   "source": [
    "for s in stamps:\n",
    "    print(datetime.datetime.fromtimestamp(s))"
   ]
  },
  {
   "cell_type": "code",
   "execution_count": null,
   "metadata": {
    "collapsed": true,
    "hidden": true
   },
   "outputs": [],
   "source": [
    "ids = valid_data[-1]"
   ]
  },
  {
   "cell_type": "code",
   "execution_count": null,
   "metadata": {
    "collapsed": true,
    "hidden": true
   },
   "outputs": [],
   "source": [
    "type(ids[0])"
   ]
  },
  {
   "cell_type": "code",
   "execution_count": null,
   "metadata": {
    "collapsed": true,
    "hidden": true
   },
   "outputs": [],
   "source": [
    "ids"
   ]
  },
  {
   "cell_type": "code",
   "execution_count": null,
   "metadata": {
    "collapsed": true,
    "hidden": true
   },
   "outputs": [],
   "source": [
    "X_val"
   ]
  }
 ],
 "metadata": {
  "kernelspec": {
   "display_name": "p3",
   "language": "python",
   "name": "p3"
  },
  "language_info": {
   "codemirror_mode": {
    "name": "ipython",
    "version": 3
   },
   "file_extension": ".py",
   "mimetype": "text/x-python",
   "name": "python",
   "nbconvert_exporter": "python",
   "pygments_lexer": "ipython3",
   "version": "3.5.2"
  }
 },
 "nbformat": 4,
 "nbformat_minor": 2
}
